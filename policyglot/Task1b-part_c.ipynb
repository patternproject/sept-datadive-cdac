{
  "nbformat": 4,
  "nbformat_minor": 5,
  "metadata": {
    "kernelspec": {
      "display_name": "Python 3",
      "language": "python",
      "name": "python3"
    },
    "language_info": {
      "codemirror_mode": {
        "name": "ipython",
        "version": 3
      },
      "file_extension": ".py",
      "mimetype": "text/x-python",
      "name": "python",
      "nbconvert_exporter": "python",
      "pygments_lexer": "ipython3",
      "version": "3.9.5"
    },
    "colab": {
      "name": "Task1b-part_c.ipynb",
      "provenance": [],
      "include_colab_link": true
    }
  },
  "cells": [
    {
      "cell_type": "markdown",
      "metadata": {
        "id": "view-in-github",
        "colab_type": "text"
      },
      "source": [
        "<a href=\"https://colab.research.google.com/github/patternproject/sept-datadive-cdac/blob/patternproject/policyglot/Task1b-part_c.ipynb\" target=\"_parent\"><img src=\"https://colab.research.google.com/assets/colab-badge.svg\" alt=\"Open In Colab\"/></a>"
      ]
    },
    {
      "cell_type": "markdown",
      "metadata": {
        "id": "58WUIZEuoe7F"
      },
      "source": [
        "VERSION HISTORY\n",
        "\n",
        "*  v1: Fork of the original file\n",
        "*  v2: Added code to print a bigger Heat Map\n",
        "\n"
      ],
      "id": "58WUIZEuoe7F"
    },
    {
      "cell_type": "markdown",
      "metadata": {
        "id": "8a83fced"
      },
      "source": [
        "## Task 1b_partc"
      ],
      "id": "8a83fced"
    },
    {
      "cell_type": "markdown",
      "metadata": {
        "id": "47c45425"
      },
      "source": [
        "## Statement of Goal:\n",
        "    Explore the ACS data, reduce the dimensionality of quantitative variables and explore if can be linked to patterns in overlaps of ookla and FCC data."
      ],
      "id": "47c45425"
    },
    {
      "cell_type": "markdown",
      "metadata": {
        "id": "d349d324"
      },
      "source": [
        "# Part 1: Reduce ACS dimensionality"
      ],
      "id": "d349d324"
    },
    {
      "cell_type": "code",
      "metadata": {
        "colab": {
          "base_uri": "https://localhost:8080/"
        },
        "id": "a4bc2604",
        "outputId": "1b7fb96b-b790-4903-b13b-aec10b2e7a81"
      },
      "source": [
        "# This is a library I'm testing, there may be better ways of visualizing this data. \n",
        "# If not, this library may be added to a requirements.txt file in the Github Repo\n",
        "!pip3 install bioinfokit"
      ],
      "id": "a4bc2604",
      "execution_count": 1,
      "outputs": [
        {
          "output_type": "stream",
          "name": "stdout",
          "text": [
            "Collecting bioinfokit\n",
            "  Downloading bioinfokit-2.0.6.tar.gz (84 kB)\n",
            "\u001b[?25l\r\u001b[K     |███▉                            | 10 kB 15.5 MB/s eta 0:00:01\r\u001b[K     |███████▊                        | 20 kB 19.0 MB/s eta 0:00:01\r\u001b[K     |███████████▋                    | 30 kB 20.5 MB/s eta 0:00:01\r\u001b[K     |███████████████▌                | 40 kB 13.4 MB/s eta 0:00:01\r\u001b[K     |███████████████████▍            | 51 kB 5.9 MB/s eta 0:00:01\r\u001b[K     |███████████████████████▎        | 61 kB 6.2 MB/s eta 0:00:01\r\u001b[K     |███████████████████████████▏    | 71 kB 5.3 MB/s eta 0:00:01\r\u001b[K     |███████████████████████████████ | 81 kB 6.0 MB/s eta 0:00:01\r\u001b[K     |████████████████████████████████| 84 kB 2.2 MB/s \n",
            "\u001b[?25hRequirement already satisfied: pandas in /usr/local/lib/python3.7/dist-packages (from bioinfokit) (1.1.5)\n",
            "Requirement already satisfied: numpy in /usr/local/lib/python3.7/dist-packages (from bioinfokit) (1.19.5)\n",
            "Requirement already satisfied: matplotlib in /usr/local/lib/python3.7/dist-packages (from bioinfokit) (3.2.2)\n",
            "Requirement already satisfied: scipy in /usr/local/lib/python3.7/dist-packages (from bioinfokit) (1.4.1)\n",
            "Requirement already satisfied: scikit-learn in /usr/local/lib/python3.7/dist-packages (from bioinfokit) (0.22.2.post1)\n",
            "Requirement already satisfied: seaborn in /usr/local/lib/python3.7/dist-packages (from bioinfokit) (0.11.2)\n",
            "Requirement already satisfied: matplotlib-venn in /usr/local/lib/python3.7/dist-packages (from bioinfokit) (0.11.6)\n",
            "Requirement already satisfied: tabulate in /usr/local/lib/python3.7/dist-packages (from bioinfokit) (0.8.9)\n",
            "Requirement already satisfied: statsmodels in /usr/local/lib/python3.7/dist-packages (from bioinfokit) (0.10.2)\n",
            "Collecting textwrap3\n",
            "  Downloading textwrap3-0.9.2-py2.py3-none-any.whl (12 kB)\n",
            "Collecting adjustText\n",
            "  Downloading adjustText-0.7.3.tar.gz (7.5 kB)\n",
            "Requirement already satisfied: pyparsing!=2.0.4,!=2.1.2,!=2.1.6,>=2.0.1 in /usr/local/lib/python3.7/dist-packages (from matplotlib->bioinfokit) (2.4.7)\n",
            "Requirement already satisfied: cycler>=0.10 in /usr/local/lib/python3.7/dist-packages (from matplotlib->bioinfokit) (0.10.0)\n",
            "Requirement already satisfied: kiwisolver>=1.0.1 in /usr/local/lib/python3.7/dist-packages (from matplotlib->bioinfokit) (1.3.2)\n",
            "Requirement already satisfied: python-dateutil>=2.1 in /usr/local/lib/python3.7/dist-packages (from matplotlib->bioinfokit) (2.8.2)\n",
            "Requirement already satisfied: six in /usr/local/lib/python3.7/dist-packages (from cycler>=0.10->matplotlib->bioinfokit) (1.15.0)\n",
            "Requirement already satisfied: pytz>=2017.2 in /usr/local/lib/python3.7/dist-packages (from pandas->bioinfokit) (2018.9)\n",
            "Requirement already satisfied: joblib>=0.11 in /usr/local/lib/python3.7/dist-packages (from scikit-learn->bioinfokit) (1.0.1)\n",
            "Requirement already satisfied: patsy>=0.4.0 in /usr/local/lib/python3.7/dist-packages (from statsmodels->bioinfokit) (0.5.1)\n",
            "Building wheels for collected packages: bioinfokit, adjustText\n",
            "  Building wheel for bioinfokit (setup.py) ... \u001b[?25l\u001b[?25hdone\n",
            "  Created wheel for bioinfokit: filename=bioinfokit-2.0.6-py3-none-any.whl size=57066 sha256=96567773203e2552772024e79b9cd1b91edb02a57f569c034c1833c1938078ba\n",
            "  Stored in directory: /root/.cache/pip/wheels/38/b2/a0/3f65c463d3faababa8cb5f3076e3bfc1c49fea2a736a49038a\n",
            "  Building wheel for adjustText (setup.py) ... \u001b[?25l\u001b[?25hdone\n",
            "  Created wheel for adjustText: filename=adjustText-0.7.3-py3-none-any.whl size=7094 sha256=01da4133415890f7b5ff9b31d98836ad8eddfc96c5545c5ce60aa92d3863b412\n",
            "  Stored in directory: /root/.cache/pip/wheels/2f/98/32/afbf902d8f040fadfdf0a44357e4ab750afe165d873bf5893d\n",
            "Successfully built bioinfokit adjustText\n",
            "Installing collected packages: textwrap3, adjustText, bioinfokit\n",
            "Successfully installed adjustText-0.7.3 bioinfokit-2.0.6 textwrap3-0.9.2\n"
          ]
        }
      ]
    },
    {
      "cell_type": "code",
      "metadata": {
        "colab": {
          "base_uri": "https://localhost:8080/"
        },
        "id": "iBTCN9R9pF7U",
        "outputId": "dfd1a931-b5c9-4d28-bc75-791ea7f001bb"
      },
      "source": [
        "!pip3 install geopandas"
      ],
      "id": "iBTCN9R9pF7U",
      "execution_count": 49,
      "outputs": [
        {
          "output_type": "stream",
          "name": "stdout",
          "text": [
            "Requirement already satisfied: geopandas in /usr/local/lib/python3.7/dist-packages (0.10.0)\n",
            "Requirement already satisfied: shapely>=1.6 in /usr/local/lib/python3.7/dist-packages (from geopandas) (1.7.1)\n",
            "Requirement already satisfied: fiona>=1.8 in /usr/local/lib/python3.7/dist-packages (from geopandas) (1.8.20)\n",
            "Requirement already satisfied: pandas>=0.25.0 in /usr/local/lib/python3.7/dist-packages (from geopandas) (1.1.5)\n",
            "Requirement already satisfied: pyproj>=2.2.0 in /usr/local/lib/python3.7/dist-packages (from geopandas) (3.2.1)\n",
            "Requirement already satisfied: click-plugins>=1.0 in /usr/local/lib/python3.7/dist-packages (from fiona>=1.8->geopandas) (1.1.1)\n",
            "Requirement already satisfied: setuptools in /usr/local/lib/python3.7/dist-packages (from fiona>=1.8->geopandas) (57.4.0)\n",
            "Requirement already satisfied: attrs>=17 in /usr/local/lib/python3.7/dist-packages (from fiona>=1.8->geopandas) (21.2.0)\n",
            "Requirement already satisfied: certifi in /usr/local/lib/python3.7/dist-packages (from fiona>=1.8->geopandas) (2021.5.30)\n",
            "Requirement already satisfied: munch in /usr/local/lib/python3.7/dist-packages (from fiona>=1.8->geopandas) (2.5.0)\n",
            "Requirement already satisfied: click>=4.0 in /usr/local/lib/python3.7/dist-packages (from fiona>=1.8->geopandas) (7.1.2)\n",
            "Requirement already satisfied: cligj>=0.5 in /usr/local/lib/python3.7/dist-packages (from fiona>=1.8->geopandas) (0.7.2)\n",
            "Requirement already satisfied: six>=1.7 in /usr/local/lib/python3.7/dist-packages (from fiona>=1.8->geopandas) (1.15.0)\n",
            "Requirement already satisfied: numpy>=1.15.4 in /usr/local/lib/python3.7/dist-packages (from pandas>=0.25.0->geopandas) (1.19.5)\n",
            "Requirement already satisfied: python-dateutil>=2.7.3 in /usr/local/lib/python3.7/dist-packages (from pandas>=0.25.0->geopandas) (2.8.2)\n",
            "Requirement already satisfied: pytz>=2017.2 in /usr/local/lib/python3.7/dist-packages (from pandas>=0.25.0->geopandas) (2018.9)\n"
          ]
        }
      ]
    },
    {
      "cell_type": "code",
      "metadata": {
        "scrolled": true,
        "id": "33d6f9ff"
      },
      "source": [
        "# Imports\n",
        "import pandas as pd\n",
        "import numpy as np\n",
        "import geopandas as gpd\n",
        "\n",
        "##Machine Learning\n",
        "from sklearn.preprocessing import StandardScaler\n",
        "from sklearn.decomposition import PCA\n",
        "\n",
        "##Data Viz\n",
        "import matplotlib\n",
        "import matplotlib.pyplot as plt\n",
        "import seaborn as sns"
      ],
      "id": "33d6f9ff",
      "execution_count": 50,
      "outputs": []
    },
    {
      "cell_type": "code",
      "metadata": {
        "scrolled": true,
        "id": "bdf522ab"
      },
      "source": [
        "df_acs = pd.read_csv('acs_2019_IL.csv')"
      ],
      "id": "bdf522ab",
      "execution_count": 51,
      "outputs": []
    },
    {
      "cell_type": "code",
      "metadata": {
        "scrolled": true,
        "colab": {
          "base_uri": "https://localhost:8080/"
        },
        "id": "afd8e810",
        "outputId": "18147945-53f5-4b1b-a01c-89420ba7e1ad"
      },
      "source": [
        "df_acs.shape"
      ],
      "id": "afd8e810",
      "execution_count": 52,
      "outputs": [
        {
          "output_type": "execute_result",
          "data": {
            "text/plain": [
              "(3123, 43)"
            ]
          },
          "metadata": {},
          "execution_count": 52
        }
      ]
    },
    {
      "cell_type": "code",
      "metadata": {
        "scrolled": true,
        "id": "367e5c48"
      },
      "source": [
        "#It would make sense to see as many of the 43 columns as possible\n",
        "pd.set_option(\"display.max_columns\", 50)"
      ],
      "id": "367e5c48",
      "execution_count": 53,
      "outputs": []
    },
    {
      "cell_type": "code",
      "metadata": {
        "scrolled": true,
        "colab": {
          "base_uri": "https://localhost:8080/",
          "height": 226
        },
        "id": "0027813d",
        "outputId": "5fde6f86-8502-461d-c17a-1e890fe0aa93"
      },
      "source": [
        "df_acs.head()"
      ],
      "id": "0027813d",
      "execution_count": 54,
      "outputs": [
        {
          "output_type": "execute_result",
          "data": {
            "text/html": [
              "<div>\n",
              "<style scoped>\n",
              "    .dataframe tbody tr th:only-of-type {\n",
              "        vertical-align: middle;\n",
              "    }\n",
              "\n",
              "    .dataframe tbody tr th {\n",
              "        vertical-align: top;\n",
              "    }\n",
              "\n",
              "    .dataframe thead th {\n",
              "        text-align: right;\n",
              "    }\n",
              "</style>\n",
              "<table border=\"1\" class=\"dataframe\">\n",
              "  <thead>\n",
              "    <tr style=\"text-align: right;\">\n",
              "      <th></th>\n",
              "      <th>state</th>\n",
              "      <th>county</th>\n",
              "      <th>tract</th>\n",
              "      <th>geoid</th>\n",
              "      <th>f_broadband</th>\n",
              "      <th>f_computer</th>\n",
              "      <th>f_ba</th>\n",
              "      <th>f_black</th>\n",
              "      <th>f_hispanic</th>\n",
              "      <th>log_mhi</th>\n",
              "      <th>mhi</th>\n",
              "      <th>population</th>\n",
              "      <th>households</th>\n",
              "      <th>broadband</th>\n",
              "      <th>computer</th>\n",
              "      <th>black</th>\n",
              "      <th>hispanic</th>\n",
              "      <th>mhi.1</th>\n",
              "      <th>ba</th>\n",
              "      <th>den_computers</th>\n",
              "      <th>n_computer</th>\n",
              "      <th>n_broadband</th>\n",
              "      <th>den_black</th>\n",
              "      <th>n_black</th>\n",
              "      <th>den_hispanic</th>\n",
              "      <th>n_hispanic</th>\n",
              "      <th>den_ba</th>\n",
              "      <th>n_ba</th>\n",
              "      <th>nhh_computer</th>\n",
              "      <th>nhh_broadband</th>\n",
              "      <th>nhh_computer_any_internet</th>\n",
              "      <th>nhh_computer_and_dialup</th>\n",
              "      <th>nhh_computer_and_broadband</th>\n",
              "      <th>nhh_computer_no_internet</th>\n",
              "      <th>nhh_no_computer</th>\n",
              "      <th>den_age</th>\n",
              "      <th>n_children</th>\n",
              "      <th>n_children_computer</th>\n",
              "      <th>n_children_computer_and_dialup</th>\n",
              "      <th>n_children_computer_and_broadband</th>\n",
              "      <th>n_children_computer_no_internet</th>\n",
              "      <th>n_children_no_computer</th>\n",
              "      <th>state_lkp</th>\n",
              "    </tr>\n",
              "  </thead>\n",
              "  <tbody>\n",
              "    <tr>\n",
              "      <th>0</th>\n",
              "      <td>17</td>\n",
              "      <td>1</td>\n",
              "      <td>100</td>\n",
              "      <td>17001000100</td>\n",
              "      <td>0.813</td>\n",
              "      <td>0.861</td>\n",
              "      <td>0.246</td>\n",
              "      <td>0.068</td>\n",
              "      <td>0.000</td>\n",
              "      <td>10.78</td>\n",
              "      <td>48088.0</td>\n",
              "      <td>4761.0</td>\n",
              "      <td>2202.0</td>\n",
              "      <td>81.3</td>\n",
              "      <td>86.1</td>\n",
              "      <td>6.8</td>\n",
              "      <td>0.0</td>\n",
              "      <td>48088.0</td>\n",
              "      <td>24.6</td>\n",
              "      <td>2202.0</td>\n",
              "      <td>1896.0</td>\n",
              "      <td>1791.0</td>\n",
              "      <td>4761.0</td>\n",
              "      <td>324.0</td>\n",
              "      <td>4761.0</td>\n",
              "      <td>0.0</td>\n",
              "      <td>3381.0</td>\n",
              "      <td>831.0</td>\n",
              "      <td>1896</td>\n",
              "      <td>1791</td>\n",
              "      <td>1896</td>\n",
              "      <td>0</td>\n",
              "      <td>1791</td>\n",
              "      <td>105</td>\n",
              "      <td>306</td>\n",
              "      <td>4741</td>\n",
              "      <td>1044</td>\n",
              "      <td>1044</td>\n",
              "      <td>0</td>\n",
              "      <td>978</td>\n",
              "      <td>66</td>\n",
              "      <td>0</td>\n",
              "      <td>17</td>\n",
              "    </tr>\n",
              "    <tr>\n",
              "      <th>1</th>\n",
              "      <td>17</td>\n",
              "      <td>1</td>\n",
              "      <td>201</td>\n",
              "      <td>17001000201</td>\n",
              "      <td>0.879</td>\n",
              "      <td>0.940</td>\n",
              "      <td>0.266</td>\n",
              "      <td>0.078</td>\n",
              "      <td>0.016</td>\n",
              "      <td>10.71</td>\n",
              "      <td>44855.0</td>\n",
              "      <td>1985.0</td>\n",
              "      <td>889.0</td>\n",
              "      <td>87.9</td>\n",
              "      <td>94.0</td>\n",
              "      <td>7.8</td>\n",
              "      <td>1.6</td>\n",
              "      <td>44855.0</td>\n",
              "      <td>26.6</td>\n",
              "      <td>889.0</td>\n",
              "      <td>836.0</td>\n",
              "      <td>781.0</td>\n",
              "      <td>1985.0</td>\n",
              "      <td>155.0</td>\n",
              "      <td>1985.0</td>\n",
              "      <td>32.0</td>\n",
              "      <td>1400.0</td>\n",
              "      <td>373.0</td>\n",
              "      <td>836</td>\n",
              "      <td>781</td>\n",
              "      <td>836</td>\n",
              "      <td>5</td>\n",
              "      <td>781</td>\n",
              "      <td>50</td>\n",
              "      <td>53</td>\n",
              "      <td>1961</td>\n",
              "      <td>383</td>\n",
              "      <td>383</td>\n",
              "      <td>0</td>\n",
              "      <td>383</td>\n",
              "      <td>0</td>\n",
              "      <td>0</td>\n",
              "      <td>17</td>\n",
              "    </tr>\n",
              "    <tr>\n",
              "      <th>2</th>\n",
              "      <td>17</td>\n",
              "      <td>1</td>\n",
              "      <td>202</td>\n",
              "      <td>17001000202</td>\n",
              "      <td>0.863</td>\n",
              "      <td>0.933</td>\n",
              "      <td>0.221</td>\n",
              "      <td>0.080</td>\n",
              "      <td>0.008</td>\n",
              "      <td>10.83</td>\n",
              "      <td>50375.0</td>\n",
              "      <td>2376.0</td>\n",
              "      <td>970.0</td>\n",
              "      <td>86.3</td>\n",
              "      <td>93.3</td>\n",
              "      <td>8.0</td>\n",
              "      <td>0.8</td>\n",
              "      <td>50375.0</td>\n",
              "      <td>22.1</td>\n",
              "      <td>970.0</td>\n",
              "      <td>905.0</td>\n",
              "      <td>837.0</td>\n",
              "      <td>2376.0</td>\n",
              "      <td>191.0</td>\n",
              "      <td>2376.0</td>\n",
              "      <td>19.0</td>\n",
              "      <td>1527.0</td>\n",
              "      <td>338.0</td>\n",
              "      <td>905</td>\n",
              "      <td>837</td>\n",
              "      <td>905</td>\n",
              "      <td>7</td>\n",
              "      <td>829</td>\n",
              "      <td>69</td>\n",
              "      <td>65</td>\n",
              "      <td>2336</td>\n",
              "      <td>521</td>\n",
              "      <td>521</td>\n",
              "      <td>0</td>\n",
              "      <td>498</td>\n",
              "      <td>23</td>\n",
              "      <td>0</td>\n",
              "      <td>17</td>\n",
              "    </tr>\n",
              "    <tr>\n",
              "      <th>3</th>\n",
              "      <td>17</td>\n",
              "      <td>1</td>\n",
              "      <td>400</td>\n",
              "      <td>17001000400</td>\n",
              "      <td>0.691</td>\n",
              "      <td>0.780</td>\n",
              "      <td>0.094</td>\n",
              "      <td>0.182</td>\n",
              "      <td>0.006</td>\n",
              "      <td>10.31</td>\n",
              "      <td>30164.0</td>\n",
              "      <td>3422.0</td>\n",
              "      <td>1316.0</td>\n",
              "      <td>69.1</td>\n",
              "      <td>78.0</td>\n",
              "      <td>18.2</td>\n",
              "      <td>0.6</td>\n",
              "      <td>30164.0</td>\n",
              "      <td>9.4</td>\n",
              "      <td>1316.0</td>\n",
              "      <td>1027.0</td>\n",
              "      <td>909.0</td>\n",
              "      <td>3422.0</td>\n",
              "      <td>624.0</td>\n",
              "      <td>3422.0</td>\n",
              "      <td>20.0</td>\n",
              "      <td>2536.0</td>\n",
              "      <td>238.0</td>\n",
              "      <td>1027</td>\n",
              "      <td>909</td>\n",
              "      <td>1027</td>\n",
              "      <td>9</td>\n",
              "      <td>909</td>\n",
              "      <td>109</td>\n",
              "      <td>289</td>\n",
              "      <td>3147</td>\n",
              "      <td>645</td>\n",
              "      <td>637</td>\n",
              "      <td>0</td>\n",
              "      <td>619</td>\n",
              "      <td>18</td>\n",
              "      <td>8</td>\n",
              "      <td>17</td>\n",
              "    </tr>\n",
              "    <tr>\n",
              "      <th>4</th>\n",
              "      <td>17</td>\n",
              "      <td>1</td>\n",
              "      <td>500</td>\n",
              "      <td>17001000500</td>\n",
              "      <td>0.665</td>\n",
              "      <td>0.787</td>\n",
              "      <td>0.113</td>\n",
              "      <td>0.133</td>\n",
              "      <td>0.035</td>\n",
              "      <td>10.62</td>\n",
              "      <td>41008.0</td>\n",
              "      <td>2175.0</td>\n",
              "      <td>813.0</td>\n",
              "      <td>66.5</td>\n",
              "      <td>78.7</td>\n",
              "      <td>13.3</td>\n",
              "      <td>3.5</td>\n",
              "      <td>41008.0</td>\n",
              "      <td>11.3</td>\n",
              "      <td>813.0</td>\n",
              "      <td>640.0</td>\n",
              "      <td>541.0</td>\n",
              "      <td>2175.0</td>\n",
              "      <td>290.0</td>\n",
              "      <td>2175.0</td>\n",
              "      <td>77.0</td>\n",
              "      <td>1455.0</td>\n",
              "      <td>165.0</td>\n",
              "      <td>640</td>\n",
              "      <td>541</td>\n",
              "      <td>640</td>\n",
              "      <td>0</td>\n",
              "      <td>536</td>\n",
              "      <td>104</td>\n",
              "      <td>173</td>\n",
              "      <td>1878</td>\n",
              "      <td>475</td>\n",
              "      <td>458</td>\n",
              "      <td>0</td>\n",
              "      <td>434</td>\n",
              "      <td>24</td>\n",
              "      <td>17</td>\n",
              "      <td>17</td>\n",
              "    </tr>\n",
              "  </tbody>\n",
              "</table>\n",
              "</div>"
            ],
            "text/plain": [
              "   state  county  tract        geoid  f_broadband  f_computer   f_ba  f_black  \\\n",
              "0     17       1    100  17001000100        0.813       0.861  0.246    0.068   \n",
              "1     17       1    201  17001000201        0.879       0.940  0.266    0.078   \n",
              "2     17       1    202  17001000202        0.863       0.933  0.221    0.080   \n",
              "3     17       1    400  17001000400        0.691       0.780  0.094    0.182   \n",
              "4     17       1    500  17001000500        0.665       0.787  0.113    0.133   \n",
              "\n",
              "   f_hispanic  log_mhi      mhi  population  households  broadband  computer  \\\n",
              "0       0.000    10.78  48088.0      4761.0      2202.0       81.3      86.1   \n",
              "1       0.016    10.71  44855.0      1985.0       889.0       87.9      94.0   \n",
              "2       0.008    10.83  50375.0      2376.0       970.0       86.3      93.3   \n",
              "3       0.006    10.31  30164.0      3422.0      1316.0       69.1      78.0   \n",
              "4       0.035    10.62  41008.0      2175.0       813.0       66.5      78.7   \n",
              "\n",
              "   black  hispanic    mhi.1    ba  den_computers  n_computer  n_broadband  \\\n",
              "0    6.8       0.0  48088.0  24.6         2202.0      1896.0       1791.0   \n",
              "1    7.8       1.6  44855.0  26.6          889.0       836.0        781.0   \n",
              "2    8.0       0.8  50375.0  22.1          970.0       905.0        837.0   \n",
              "3   18.2       0.6  30164.0   9.4         1316.0      1027.0        909.0   \n",
              "4   13.3       3.5  41008.0  11.3          813.0       640.0        541.0   \n",
              "\n",
              "   den_black  n_black  den_hispanic  n_hispanic  den_ba   n_ba  nhh_computer  \\\n",
              "0     4761.0    324.0        4761.0         0.0  3381.0  831.0          1896   \n",
              "1     1985.0    155.0        1985.0        32.0  1400.0  373.0           836   \n",
              "2     2376.0    191.0        2376.0        19.0  1527.0  338.0           905   \n",
              "3     3422.0    624.0        3422.0        20.0  2536.0  238.0          1027   \n",
              "4     2175.0    290.0        2175.0        77.0  1455.0  165.0           640   \n",
              "\n",
              "   nhh_broadband  nhh_computer_any_internet  nhh_computer_and_dialup  \\\n",
              "0           1791                       1896                        0   \n",
              "1            781                        836                        5   \n",
              "2            837                        905                        7   \n",
              "3            909                       1027                        9   \n",
              "4            541                        640                        0   \n",
              "\n",
              "   nhh_computer_and_broadband  nhh_computer_no_internet  nhh_no_computer  \\\n",
              "0                        1791                       105              306   \n",
              "1                         781                        50               53   \n",
              "2                         829                        69               65   \n",
              "3                         909                       109              289   \n",
              "4                         536                       104              173   \n",
              "\n",
              "   den_age  n_children  n_children_computer  n_children_computer_and_dialup  \\\n",
              "0     4741        1044                 1044                               0   \n",
              "1     1961         383                  383                               0   \n",
              "2     2336         521                  521                               0   \n",
              "3     3147         645                  637                               0   \n",
              "4     1878         475                  458                               0   \n",
              "\n",
              "   n_children_computer_and_broadband  n_children_computer_no_internet  \\\n",
              "0                                978                               66   \n",
              "1                                383                                0   \n",
              "2                                498                               23   \n",
              "3                                619                               18   \n",
              "4                                434                               24   \n",
              "\n",
              "   n_children_no_computer  state_lkp  \n",
              "0                       0         17  \n",
              "1                       0         17  \n",
              "2                       0         17  \n",
              "3                       8         17  \n",
              "4                      17         17  "
            ]
          },
          "metadata": {},
          "execution_count": 54
        }
      ]
    },
    {
      "cell_type": "code",
      "metadata": {
        "scrolled": false,
        "colab": {
          "base_uri": "https://localhost:8080/",
          "height": 320
        },
        "id": "a723d2c4",
        "outputId": "ac7e92cc-42b8-47d3-d401-ffb15c12ca39"
      },
      "source": [
        "df_acs.describe()"
      ],
      "id": "a723d2c4",
      "execution_count": 55,
      "outputs": [
        {
          "output_type": "execute_result",
          "data": {
            "text/html": [
              "<div>\n",
              "<style scoped>\n",
              "    .dataframe tbody tr th:only-of-type {\n",
              "        vertical-align: middle;\n",
              "    }\n",
              "\n",
              "    .dataframe tbody tr th {\n",
              "        vertical-align: top;\n",
              "    }\n",
              "\n",
              "    .dataframe thead th {\n",
              "        text-align: right;\n",
              "    }\n",
              "</style>\n",
              "<table border=\"1\" class=\"dataframe\">\n",
              "  <thead>\n",
              "    <tr style=\"text-align: right;\">\n",
              "      <th></th>\n",
              "      <th>state</th>\n",
              "      <th>county</th>\n",
              "      <th>tract</th>\n",
              "      <th>geoid</th>\n",
              "      <th>f_broadband</th>\n",
              "      <th>f_computer</th>\n",
              "      <th>f_ba</th>\n",
              "      <th>f_black</th>\n",
              "      <th>f_hispanic</th>\n",
              "      <th>log_mhi</th>\n",
              "      <th>mhi</th>\n",
              "      <th>population</th>\n",
              "      <th>households</th>\n",
              "      <th>broadband</th>\n",
              "      <th>computer</th>\n",
              "      <th>black</th>\n",
              "      <th>hispanic</th>\n",
              "      <th>mhi.1</th>\n",
              "      <th>ba</th>\n",
              "      <th>den_computers</th>\n",
              "      <th>n_computer</th>\n",
              "      <th>n_broadband</th>\n",
              "      <th>den_black</th>\n",
              "      <th>n_black</th>\n",
              "      <th>den_hispanic</th>\n",
              "      <th>n_hispanic</th>\n",
              "      <th>den_ba</th>\n",
              "      <th>n_ba</th>\n",
              "      <th>nhh_computer</th>\n",
              "      <th>nhh_broadband</th>\n",
              "      <th>nhh_computer_any_internet</th>\n",
              "      <th>nhh_computer_and_dialup</th>\n",
              "      <th>nhh_computer_and_broadband</th>\n",
              "      <th>nhh_computer_no_internet</th>\n",
              "      <th>nhh_no_computer</th>\n",
              "      <th>den_age</th>\n",
              "      <th>n_children</th>\n",
              "      <th>n_children_computer</th>\n",
              "      <th>n_children_computer_and_dialup</th>\n",
              "      <th>n_children_computer_and_broadband</th>\n",
              "      <th>n_children_computer_no_internet</th>\n",
              "      <th>n_children_no_computer</th>\n",
              "      <th>state_lkp</th>\n",
              "    </tr>\n",
              "  </thead>\n",
              "  <tbody>\n",
              "    <tr>\n",
              "      <th>count</th>\n",
              "      <td>3123.0</td>\n",
              "      <td>3123.00000</td>\n",
              "      <td>3123.000000</td>\n",
              "      <td>3.123000e+03</td>\n",
              "      <td>3.123000e+03</td>\n",
              "      <td>3.123000e+03</td>\n",
              "      <td>3.123000e+03</td>\n",
              "      <td>3.123000e+03</td>\n",
              "      <td>3.123000e+03</td>\n",
              "      <td>3110.000000</td>\n",
              "      <td>3.123000e+03</td>\n",
              "      <td>3123.000000</td>\n",
              "      <td>3123.000000</td>\n",
              "      <td>3.123000e+03</td>\n",
              "      <td>3.123000e+03</td>\n",
              "      <td>3.123000e+03</td>\n",
              "      <td>3.123000e+03</td>\n",
              "      <td>3.123000e+03</td>\n",
              "      <td>3.123000e+03</td>\n",
              "      <td>3123.000000</td>\n",
              "      <td>3123.000000</td>\n",
              "      <td>3123.000000</td>\n",
              "      <td>3123.000000</td>\n",
              "      <td>3123.000000</td>\n",
              "      <td>3123.000000</td>\n",
              "      <td>3123.000000</td>\n",
              "      <td>3123.000000</td>\n",
              "      <td>3123.000000</td>\n",
              "      <td>3123.000000</td>\n",
              "      <td>3123.000000</td>\n",
              "      <td>3123.000000</td>\n",
              "      <td>3123.000000</td>\n",
              "      <td>3123.000000</td>\n",
              "      <td>3123.000000</td>\n",
              "      <td>3123.000000</td>\n",
              "      <td>3123.000000</td>\n",
              "      <td>3123.000000</td>\n",
              "      <td>3123.000000</td>\n",
              "      <td>3123.000000</td>\n",
              "      <td>3123.000000</td>\n",
              "      <td>3123.000000</td>\n",
              "      <td>3123.000000</td>\n",
              "      <td>3123.0</td>\n",
              "    </tr>\n",
              "    <tr>\n",
              "      <th>mean</th>\n",
              "      <td>17.0</td>\n",
              "      <td>77.84342</td>\n",
              "      <td>550658.070445</td>\n",
              "      <td>1.707839e+10</td>\n",
              "      <td>-1.707679e+04</td>\n",
              "      <td>-1.707671e+04</td>\n",
              "      <td>-1.494257e+04</td>\n",
              "      <td>-1.494271e+04</td>\n",
              "      <td>-1.494274e+04</td>\n",
              "      <td>11.021341</td>\n",
              "      <td>-2.706551e+06</td>\n",
              "      <td>4089.219020</td>\n",
              "      <td>1551.756004</td>\n",
              "      <td>-1.707679e+06</td>\n",
              "      <td>-1.707671e+06</td>\n",
              "      <td>-1.494271e+06</td>\n",
              "      <td>-1.494274e+06</td>\n",
              "      <td>-2.706551e+06</td>\n",
              "      <td>-1.494257e+06</td>\n",
              "      <td>1551.756004</td>\n",
              "      <td>1394.305796</td>\n",
              "      <td>1283.443484</td>\n",
              "      <td>4089.219020</td>\n",
              "      <td>626.099584</td>\n",
              "      <td>4089.219020</td>\n",
              "      <td>700.091899</td>\n",
              "      <td>2781.395773</td>\n",
              "      <td>963.824848</td>\n",
              "      <td>1394.305796</td>\n",
              "      <td>1283.443484</td>\n",
              "      <td>1394.305796</td>\n",
              "      <td>5.422991</td>\n",
              "      <td>1272.642331</td>\n",
              "      <td>116.240474</td>\n",
              "      <td>157.450208</td>\n",
              "      <td>3994.042267</td>\n",
              "      <td>924.236631</td>\n",
              "      <td>899.917707</td>\n",
              "      <td>1.065962</td>\n",
              "      <td>842.127121</td>\n",
              "      <td>56.724624</td>\n",
              "      <td>24.318924</td>\n",
              "      <td>17.0</td>\n",
              "    </tr>\n",
              "    <tr>\n",
              "      <th>std</th>\n",
              "      <td>0.0</td>\n",
              "      <td>59.65828</td>\n",
              "      <td>371654.169982</td>\n",
              "      <td>5.960782e+07</td>\n",
              "      <td>3.370392e+05</td>\n",
              "      <td>3.370392e+05</td>\n",
              "      <td>3.153218e+05</td>\n",
              "      <td>3.153218e+05</td>\n",
              "      <td>3.153218e+05</td>\n",
              "      <td>0.498528</td>\n",
              "      <td>4.293418e+07</td>\n",
              "      <td>2008.694842</td>\n",
              "      <td>766.964873</td>\n",
              "      <td>3.370392e+07</td>\n",
              "      <td>3.370392e+07</td>\n",
              "      <td>3.153218e+07</td>\n",
              "      <td>3.153218e+07</td>\n",
              "      <td>4.293418e+07</td>\n",
              "      <td>3.153218e+07</td>\n",
              "      <td>766.964873</td>\n",
              "      <td>741.175944</td>\n",
              "      <td>710.599870</td>\n",
              "      <td>2008.694842</td>\n",
              "      <td>980.364285</td>\n",
              "      <td>2008.694842</td>\n",
              "      <td>1054.395723</td>\n",
              "      <td>1375.622715</td>\n",
              "      <td>893.324306</td>\n",
              "      <td>741.175944</td>\n",
              "      <td>710.599870</td>\n",
              "      <td>741.175944</td>\n",
              "      <td>9.220730</td>\n",
              "      <td>707.715562</td>\n",
              "      <td>90.546020</td>\n",
              "      <td>108.225979</td>\n",
              "      <td>1999.898186</td>\n",
              "      <td>572.032757</td>\n",
              "      <td>568.291095</td>\n",
              "      <td>6.939161</td>\n",
              "      <td>553.018746</td>\n",
              "      <td>79.491556</td>\n",
              "      <td>49.936912</td>\n",
              "      <td>0.0</td>\n",
              "    </tr>\n",
              "    <tr>\n",
              "      <th>min</th>\n",
              "      <td>17.0</td>\n",
              "      <td>1.00000</td>\n",
              "      <td>100.000000</td>\n",
              "      <td>1.700100e+10</td>\n",
              "      <td>-6.666667e+06</td>\n",
              "      <td>-6.666667e+06</td>\n",
              "      <td>-6.666667e+06</td>\n",
              "      <td>-6.666667e+06</td>\n",
              "      <td>-6.666667e+06</td>\n",
              "      <td>8.260000</td>\n",
              "      <td>-6.666667e+08</td>\n",
              "      <td>0.000000</td>\n",
              "      <td>0.000000</td>\n",
              "      <td>-6.666667e+08</td>\n",
              "      <td>-6.666667e+08</td>\n",
              "      <td>-6.666667e+08</td>\n",
              "      <td>-6.666667e+08</td>\n",
              "      <td>-6.666667e+08</td>\n",
              "      <td>-6.666667e+08</td>\n",
              "      <td>0.000000</td>\n",
              "      <td>0.000000</td>\n",
              "      <td>0.000000</td>\n",
              "      <td>0.000000</td>\n",
              "      <td>0.000000</td>\n",
              "      <td>0.000000</td>\n",
              "      <td>0.000000</td>\n",
              "      <td>0.000000</td>\n",
              "      <td>0.000000</td>\n",
              "      <td>0.000000</td>\n",
              "      <td>0.000000</td>\n",
              "      <td>0.000000</td>\n",
              "      <td>0.000000</td>\n",
              "      <td>0.000000</td>\n",
              "      <td>0.000000</td>\n",
              "      <td>0.000000</td>\n",
              "      <td>0.000000</td>\n",
              "      <td>0.000000</td>\n",
              "      <td>0.000000</td>\n",
              "      <td>0.000000</td>\n",
              "      <td>0.000000</td>\n",
              "      <td>0.000000</td>\n",
              "      <td>0.000000</td>\n",
              "      <td>17.0</td>\n",
              "    </tr>\n",
              "    <tr>\n",
              "      <th>25%</th>\n",
              "      <td>17.0</td>\n",
              "      <td>31.00000</td>\n",
              "      <td>71450.000000</td>\n",
              "      <td>1.703171e+10</td>\n",
              "      <td>7.510000e-01</td>\n",
              "      <td>8.480000e-01</td>\n",
              "      <td>1.590000e-01</td>\n",
              "      <td>1.700000e-02</td>\n",
              "      <td>2.600000e-02</td>\n",
              "      <td>10.740000</td>\n",
              "      <td>4.589250e+04</td>\n",
              "      <td>2728.500000</td>\n",
              "      <td>1067.000000</td>\n",
              "      <td>7.510000e+01</td>\n",
              "      <td>8.480000e+01</td>\n",
              "      <td>1.700000e+00</td>\n",
              "      <td>2.600000e+00</td>\n",
              "      <td>4.589250e+04</td>\n",
              "      <td>1.590000e+01</td>\n",
              "      <td>1067.000000</td>\n",
              "      <td>927.000000</td>\n",
              "      <td>832.000000</td>\n",
              "      <td>2728.500000</td>\n",
              "      <td>64.000000</td>\n",
              "      <td>2728.500000</td>\n",
              "      <td>84.500000</td>\n",
              "      <td>1861.000000</td>\n",
              "      <td>342.500000</td>\n",
              "      <td>927.000000</td>\n",
              "      <td>832.000000</td>\n",
              "      <td>927.000000</td>\n",
              "      <td>0.000000</td>\n",
              "      <td>821.500000</td>\n",
              "      <td>56.000000</td>\n",
              "      <td>78.000000</td>\n",
              "      <td>2641.500000</td>\n",
              "      <td>553.000000</td>\n",
              "      <td>537.000000</td>\n",
              "      <td>0.000000</td>\n",
              "      <td>489.000000</td>\n",
              "      <td>0.000000</td>\n",
              "      <td>0.000000</td>\n",
              "      <td>17.0</td>\n",
              "    </tr>\n",
              "    <tr>\n",
              "      <th>50%</th>\n",
              "      <td>17.0</td>\n",
              "      <td>43.00000</td>\n",
              "      <td>804102.000000</td>\n",
              "      <td>1.704384e+10</td>\n",
              "      <td>8.230000e-01</td>\n",
              "      <td>8.980000e-01</td>\n",
              "      <td>2.620000e-01</td>\n",
              "      <td>5.200000e-02</td>\n",
              "      <td>7.500000e-02</td>\n",
              "      <td>11.030000</td>\n",
              "      <td>6.132400e+04</td>\n",
              "      <td>3825.000000</td>\n",
              "      <td>1449.000000</td>\n",
              "      <td>8.230000e+01</td>\n",
              "      <td>8.980000e+01</td>\n",
              "      <td>5.200000e+00</td>\n",
              "      <td>7.500000e+00</td>\n",
              "      <td>6.132400e+04</td>\n",
              "      <td>2.620000e+01</td>\n",
              "      <td>1449.000000</td>\n",
              "      <td>1291.000000</td>\n",
              "      <td>1187.000000</td>\n",
              "      <td>3825.000000</td>\n",
              "      <td>204.000000</td>\n",
              "      <td>3825.000000</td>\n",
              "      <td>285.000000</td>\n",
              "      <td>2621.000000</td>\n",
              "      <td>692.000000</td>\n",
              "      <td>1291.000000</td>\n",
              "      <td>1187.000000</td>\n",
              "      <td>1291.000000</td>\n",
              "      <td>0.000000</td>\n",
              "      <td>1174.000000</td>\n",
              "      <td>96.000000</td>\n",
              "      <td>141.000000</td>\n",
              "      <td>3735.000000</td>\n",
              "      <td>833.000000</td>\n",
              "      <td>806.000000</td>\n",
              "      <td>0.000000</td>\n",
              "      <td>743.000000</td>\n",
              "      <td>28.000000</td>\n",
              "      <td>0.000000</td>\n",
              "      <td>17.0</td>\n",
              "    </tr>\n",
              "    <tr>\n",
              "      <th>75%</th>\n",
              "      <td>17.0</td>\n",
              "      <td>115.00000</td>\n",
              "      <td>851700.500000</td>\n",
              "      <td>1.711500e+10</td>\n",
              "      <td>8.920000e-01</td>\n",
              "      <td>9.430000e-01</td>\n",
              "      <td>4.530000e-01</td>\n",
              "      <td>1.905000e-01</td>\n",
              "      <td>1.920000e-01</td>\n",
              "      <td>11.350000</td>\n",
              "      <td>8.519600e+04</td>\n",
              "      <td>5111.500000</td>\n",
              "      <td>1915.500000</td>\n",
              "      <td>8.920000e+01</td>\n",
              "      <td>9.430000e+01</td>\n",
              "      <td>1.905000e+01</td>\n",
              "      <td>1.920000e+01</td>\n",
              "      <td>8.519600e+04</td>\n",
              "      <td>4.530000e+01</td>\n",
              "      <td>1915.500000</td>\n",
              "      <td>1734.000000</td>\n",
              "      <td>1619.000000</td>\n",
              "      <td>5111.500000</td>\n",
              "      <td>753.000000</td>\n",
              "      <td>5111.500000</td>\n",
              "      <td>801.000000</td>\n",
              "      <td>3455.000000</td>\n",
              "      <td>1375.000000</td>\n",
              "      <td>1734.000000</td>\n",
              "      <td>1619.000000</td>\n",
              "      <td>1734.000000</td>\n",
              "      <td>9.000000</td>\n",
              "      <td>1606.500000</td>\n",
              "      <td>155.000000</td>\n",
              "      <td>211.000000</td>\n",
              "      <td>4965.000000</td>\n",
              "      <td>1171.500000</td>\n",
              "      <td>1144.500000</td>\n",
              "      <td>0.000000</td>\n",
              "      <td>1085.000000</td>\n",
              "      <td>78.000000</td>\n",
              "      <td>28.000000</td>\n",
              "      <td>17.0</td>\n",
              "    </tr>\n",
              "    <tr>\n",
              "      <th>max</th>\n",
              "      <td>17.0</td>\n",
              "      <td>203.00000</td>\n",
              "      <td>990000.000000</td>\n",
              "      <td>1.720303e+10</td>\n",
              "      <td>1.000000e+00</td>\n",
              "      <td>1.000000e+00</td>\n",
              "      <td>9.590000e-01</td>\n",
              "      <td>1.000000e+00</td>\n",
              "      <td>9.910000e-01</td>\n",
              "      <td>12.430000</td>\n",
              "      <td>2.500010e+05</td>\n",
              "      <td>29089.000000</td>\n",
              "      <td>12017.000000</td>\n",
              "      <td>1.000000e+02</td>\n",
              "      <td>1.000000e+02</td>\n",
              "      <td>1.000000e+02</td>\n",
              "      <td>9.910000e+01</td>\n",
              "      <td>2.500010e+05</td>\n",
              "      <td>9.590000e+01</td>\n",
              "      <td>12017.000000</td>\n",
              "      <td>11646.000000</td>\n",
              "      <td>11212.000000</td>\n",
              "      <td>29089.000000</td>\n",
              "      <td>7301.000000</td>\n",
              "      <td>29089.000000</td>\n",
              "      <td>8647.000000</td>\n",
              "      <td>17986.000000</td>\n",
              "      <td>13216.000000</td>\n",
              "      <td>11646.000000</td>\n",
              "      <td>11212.000000</td>\n",
              "      <td>11646.000000</td>\n",
              "      <td>77.000000</td>\n",
              "      <td>11030.000000</td>\n",
              "      <td>1431.000000</td>\n",
              "      <td>945.000000</td>\n",
              "      <td>28855.000000</td>\n",
              "      <td>8998.000000</td>\n",
              "      <td>8998.000000</td>\n",
              "      <td>196.000000</td>\n",
              "      <td>8989.000000</td>\n",
              "      <td>800.000000</td>\n",
              "      <td>703.000000</td>\n",
              "      <td>17.0</td>\n",
              "    </tr>\n",
              "  </tbody>\n",
              "</table>\n",
              "</div>"
            ],
            "text/plain": [
              "        state      county          tract         geoid   f_broadband  \\\n",
              "count  3123.0  3123.00000    3123.000000  3.123000e+03  3.123000e+03   \n",
              "mean     17.0    77.84342  550658.070445  1.707839e+10 -1.707679e+04   \n",
              "std       0.0    59.65828  371654.169982  5.960782e+07  3.370392e+05   \n",
              "min      17.0     1.00000     100.000000  1.700100e+10 -6.666667e+06   \n",
              "25%      17.0    31.00000   71450.000000  1.703171e+10  7.510000e-01   \n",
              "50%      17.0    43.00000  804102.000000  1.704384e+10  8.230000e-01   \n",
              "75%      17.0   115.00000  851700.500000  1.711500e+10  8.920000e-01   \n",
              "max      17.0   203.00000  990000.000000  1.720303e+10  1.000000e+00   \n",
              "\n",
              "         f_computer          f_ba       f_black    f_hispanic      log_mhi  \\\n",
              "count  3.123000e+03  3.123000e+03  3.123000e+03  3.123000e+03  3110.000000   \n",
              "mean  -1.707671e+04 -1.494257e+04 -1.494271e+04 -1.494274e+04    11.021341   \n",
              "std    3.370392e+05  3.153218e+05  3.153218e+05  3.153218e+05     0.498528   \n",
              "min   -6.666667e+06 -6.666667e+06 -6.666667e+06 -6.666667e+06     8.260000   \n",
              "25%    8.480000e-01  1.590000e-01  1.700000e-02  2.600000e-02    10.740000   \n",
              "50%    8.980000e-01  2.620000e-01  5.200000e-02  7.500000e-02    11.030000   \n",
              "75%    9.430000e-01  4.530000e-01  1.905000e-01  1.920000e-01    11.350000   \n",
              "max    1.000000e+00  9.590000e-01  1.000000e+00  9.910000e-01    12.430000   \n",
              "\n",
              "                mhi    population    households     broadband      computer  \\\n",
              "count  3.123000e+03   3123.000000   3123.000000  3.123000e+03  3.123000e+03   \n",
              "mean  -2.706551e+06   4089.219020   1551.756004 -1.707679e+06 -1.707671e+06   \n",
              "std    4.293418e+07   2008.694842    766.964873  3.370392e+07  3.370392e+07   \n",
              "min   -6.666667e+08      0.000000      0.000000 -6.666667e+08 -6.666667e+08   \n",
              "25%    4.589250e+04   2728.500000   1067.000000  7.510000e+01  8.480000e+01   \n",
              "50%    6.132400e+04   3825.000000   1449.000000  8.230000e+01  8.980000e+01   \n",
              "75%    8.519600e+04   5111.500000   1915.500000  8.920000e+01  9.430000e+01   \n",
              "max    2.500010e+05  29089.000000  12017.000000  1.000000e+02  1.000000e+02   \n",
              "\n",
              "              black      hispanic         mhi.1            ba  den_computers  \\\n",
              "count  3.123000e+03  3.123000e+03  3.123000e+03  3.123000e+03    3123.000000   \n",
              "mean  -1.494271e+06 -1.494274e+06 -2.706551e+06 -1.494257e+06    1551.756004   \n",
              "std    3.153218e+07  3.153218e+07  4.293418e+07  3.153218e+07     766.964873   \n",
              "min   -6.666667e+08 -6.666667e+08 -6.666667e+08 -6.666667e+08       0.000000   \n",
              "25%    1.700000e+00  2.600000e+00  4.589250e+04  1.590000e+01    1067.000000   \n",
              "50%    5.200000e+00  7.500000e+00  6.132400e+04  2.620000e+01    1449.000000   \n",
              "75%    1.905000e+01  1.920000e+01  8.519600e+04  4.530000e+01    1915.500000   \n",
              "max    1.000000e+02  9.910000e+01  2.500010e+05  9.590000e+01   12017.000000   \n",
              "\n",
              "         n_computer   n_broadband     den_black      n_black  den_hispanic  \\\n",
              "count   3123.000000   3123.000000   3123.000000  3123.000000   3123.000000   \n",
              "mean    1394.305796   1283.443484   4089.219020   626.099584   4089.219020   \n",
              "std      741.175944    710.599870   2008.694842   980.364285   2008.694842   \n",
              "min        0.000000      0.000000      0.000000     0.000000      0.000000   \n",
              "25%      927.000000    832.000000   2728.500000    64.000000   2728.500000   \n",
              "50%     1291.000000   1187.000000   3825.000000   204.000000   3825.000000   \n",
              "75%     1734.000000   1619.000000   5111.500000   753.000000   5111.500000   \n",
              "max    11646.000000  11212.000000  29089.000000  7301.000000  29089.000000   \n",
              "\n",
              "        n_hispanic        den_ba          n_ba  nhh_computer  nhh_broadband  \\\n",
              "count  3123.000000   3123.000000   3123.000000   3123.000000    3123.000000   \n",
              "mean    700.091899   2781.395773    963.824848   1394.305796    1283.443484   \n",
              "std    1054.395723   1375.622715    893.324306    741.175944     710.599870   \n",
              "min       0.000000      0.000000      0.000000      0.000000       0.000000   \n",
              "25%      84.500000   1861.000000    342.500000    927.000000     832.000000   \n",
              "50%     285.000000   2621.000000    692.000000   1291.000000    1187.000000   \n",
              "75%     801.000000   3455.000000   1375.000000   1734.000000    1619.000000   \n",
              "max    8647.000000  17986.000000  13216.000000  11646.000000   11212.000000   \n",
              "\n",
              "       nhh_computer_any_internet  nhh_computer_and_dialup  \\\n",
              "count                3123.000000              3123.000000   \n",
              "mean                 1394.305796                 5.422991   \n",
              "std                   741.175944                 9.220730   \n",
              "min                     0.000000                 0.000000   \n",
              "25%                   927.000000                 0.000000   \n",
              "50%                  1291.000000                 0.000000   \n",
              "75%                  1734.000000                 9.000000   \n",
              "max                 11646.000000                77.000000   \n",
              "\n",
              "       nhh_computer_and_broadband  nhh_computer_no_internet  nhh_no_computer  \\\n",
              "count                 3123.000000               3123.000000      3123.000000   \n",
              "mean                  1272.642331                116.240474       157.450208   \n",
              "std                    707.715562                 90.546020       108.225979   \n",
              "min                      0.000000                  0.000000         0.000000   \n",
              "25%                    821.500000                 56.000000        78.000000   \n",
              "50%                   1174.000000                 96.000000       141.000000   \n",
              "75%                   1606.500000                155.000000       211.000000   \n",
              "max                  11030.000000               1431.000000       945.000000   \n",
              "\n",
              "            den_age   n_children  n_children_computer  \\\n",
              "count   3123.000000  3123.000000          3123.000000   \n",
              "mean    3994.042267   924.236631           899.917707   \n",
              "std     1999.898186   572.032757           568.291095   \n",
              "min        0.000000     0.000000             0.000000   \n",
              "25%     2641.500000   553.000000           537.000000   \n",
              "50%     3735.000000   833.000000           806.000000   \n",
              "75%     4965.000000  1171.500000          1144.500000   \n",
              "max    28855.000000  8998.000000          8998.000000   \n",
              "\n",
              "       n_children_computer_and_dialup  n_children_computer_and_broadband  \\\n",
              "count                     3123.000000                        3123.000000   \n",
              "mean                         1.065962                         842.127121   \n",
              "std                          6.939161                         553.018746   \n",
              "min                          0.000000                           0.000000   \n",
              "25%                          0.000000                         489.000000   \n",
              "50%                          0.000000                         743.000000   \n",
              "75%                          0.000000                        1085.000000   \n",
              "max                        196.000000                        8989.000000   \n",
              "\n",
              "       n_children_computer_no_internet  n_children_no_computer  state_lkp  \n",
              "count                      3123.000000             3123.000000     3123.0  \n",
              "mean                         56.724624               24.318924       17.0  \n",
              "std                          79.491556               49.936912        0.0  \n",
              "min                           0.000000                0.000000       17.0  \n",
              "25%                           0.000000                0.000000       17.0  \n",
              "50%                          28.000000                0.000000       17.0  \n",
              "75%                          78.000000               28.000000       17.0  \n",
              "max                         800.000000              703.000000       17.0  "
            ]
          },
          "metadata": {},
          "execution_count": 55
        }
      ]
    },
    {
      "cell_type": "code",
      "metadata": {
        "colab": {
          "base_uri": "https://localhost:8080/"
        },
        "id": "a7b90482",
        "outputId": "56c888af-ac8d-4b47-ca5e-92857237ae60"
      },
      "source": [
        "df_acs.columns"
      ],
      "id": "a7b90482",
      "execution_count": 56,
      "outputs": [
        {
          "output_type": "execute_result",
          "data": {
            "text/plain": [
              "Index(['state', 'county', 'tract', 'geoid', 'f_broadband', 'f_computer',\n",
              "       'f_ba', 'f_black', 'f_hispanic', 'log_mhi', 'mhi', 'population',\n",
              "       'households', 'broadband', 'computer', 'black', 'hispanic', 'mhi.1',\n",
              "       'ba', 'den_computers', 'n_computer', 'n_broadband', 'den_black',\n",
              "       'n_black', 'den_hispanic', 'n_hispanic', 'den_ba', 'n_ba',\n",
              "       'nhh_computer', 'nhh_broadband', 'nhh_computer_any_internet',\n",
              "       'nhh_computer_and_dialup', 'nhh_computer_and_broadband',\n",
              "       'nhh_computer_no_internet', 'nhh_no_computer', 'den_age', 'n_children',\n",
              "       'n_children_computer', 'n_children_computer_and_dialup',\n",
              "       'n_children_computer_and_broadband', 'n_children_computer_no_internet',\n",
              "       'n_children_no_computer', 'state_lkp'],\n",
              "      dtype='object')"
            ]
          },
          "metadata": {},
          "execution_count": 56
        }
      ]
    },
    {
      "cell_type": "markdown",
      "metadata": {
        "id": "44502365"
      },
      "source": [
        "Looking at the shape, columns and the summary statistics, we see a dataset that is entirely quantitative. Of course, the first few columns are IDs, and not continuous variables. They can be recast as strings. \n",
        "This would allow us to lead some work on dimensionality reduction.\n",
        "Each row is a census tract. Most of the quantitative variables start with a prefix. It may be possible later to check for correlations in terms with the same prefix, especially where the prefixes 'nhh' and 'nh'.\n",
        "For now, we focus on the subset of non-ID variables."
      ],
      "id": "44502365"
    },
    {
      "cell_type": "code",
      "metadata": {
        "scrolled": true,
        "id": "04426d84"
      },
      "source": [
        "vars = df_acs[['f_broadband', 'f_computer',\n",
        "       'f_ba', 'f_black', 'f_hispanic', 'log_mhi', 'mhi', 'population',\n",
        "       'households', 'broadband', 'computer', 'black', 'hispanic', 'mhi.1',\n",
        "       'ba', 'den_computers', 'n_computer', 'n_broadband', 'den_black',\n",
        "       'n_black', 'den_hispanic', 'n_hispanic', 'den_ba', 'n_ba',\n",
        "       'nhh_computer', 'nhh_broadband', 'nhh_computer_any_internet',\n",
        "       'nhh_computer_and_dialup', 'nhh_computer_and_broadband',\n",
        "       'nhh_computer_no_internet', 'nhh_no_computer', 'den_age', 'n_children',\n",
        "       'n_children_computer', 'n_children_computer_and_dialup',\n",
        "       'n_children_computer_and_broadband', 'n_children_computer_no_internet',\n",
        "       'n_children_no_computer']]"
      ],
      "id": "04426d84",
      "execution_count": 57,
      "outputs": []
    },
    {
      "cell_type": "code",
      "metadata": {
        "scrolled": true,
        "id": "876301ae"
      },
      "source": [
        "# Some basic cleanup\n",
        "raw = StandardScaler().fit_transform(vars.dropna())"
      ],
      "id": "876301ae",
      "execution_count": 58,
      "outputs": []
    },
    {
      "cell_type": "code",
      "metadata": {
        "scrolled": true,
        "colab": {
          "base_uri": "https://localhost:8080/"
        },
        "id": "643bcbf7",
        "outputId": "47b48841-f2c6-42ea-e63c-87dd2b2ac678"
      },
      "source": [
        "raw"
      ],
      "id": "643bcbf7",
      "execution_count": 59,
      "outputs": [
        {
          "output_type": "execute_result",
          "data": {
            "text/plain": [
              "array([[ 0.01930425, -0.34054995, -0.37223559, ...,  0.24028611,\n",
              "         0.11484295, -0.48793537],\n",
              "       [ 0.63172947,  0.6891298 , -0.2791258 , ..., -0.83840209,\n",
              "        -0.71561902, -0.48793537],\n",
              "       [ 0.48326275,  0.59789235, -0.48862283, ..., -0.62991613,\n",
              "        -0.42621561, -0.48793537],\n",
              "       ...,\n",
              "       [-0.16627914, -0.14504114,  0.27022199, ...,  0.86936982,\n",
              "         0.42941187,  0.8941038 ],\n",
              "       [ 0.04714176,  0.45451922,  0.00485907, ..., -0.02983917,\n",
              "        -0.0487329 , -0.48793537],\n",
              "       [-0.52816677, -0.2493125 , -0.414135  , ...,  0.00460634,\n",
              "         0.84464286, -0.14743297]])"
            ]
          },
          "metadata": {},
          "execution_count": 59
        }
      ]
    },
    {
      "cell_type": "code",
      "metadata": {
        "scrolled": true,
        "id": "d10994c5"
      },
      "source": [
        "#We will start with a high number of components, then use an elbow plot to check for the ideal number\n",
        "pca = PCA(n_components=6)\n",
        "x = pca.fit_transform(raw)"
      ],
      "id": "d10994c5",
      "execution_count": 60,
      "outputs": []
    },
    {
      "cell_type": "code",
      "metadata": {
        "scrolled": true,
        "colab": {
          "base_uri": "https://localhost:8080/"
        },
        "id": "dd4ea0ac",
        "outputId": "1bb836d0-4174-4e48-9422-70fcfad2acab"
      },
      "source": [
        "pca"
      ],
      "id": "dd4ea0ac",
      "execution_count": 61,
      "outputs": [
        {
          "output_type": "execute_result",
          "data": {
            "text/plain": [
              "PCA(copy=True, iterated_power='auto', n_components=6, random_state=None,\n",
              "    svd_solver='auto', tol=0.0, whiten=False)"
            ]
          },
          "metadata": {},
          "execution_count": 61
        }
      ]
    },
    {
      "cell_type": "code",
      "metadata": {
        "scrolled": true,
        "colab": {
          "base_uri": "https://localhost:8080/"
        },
        "id": "36379f11",
        "outputId": "a00935fe-45be-4dc1-c52a-c54a09ae760a"
      },
      "source": [
        "pca.components_"
      ],
      "id": "36379f11",
      "execution_count": 62,
      "outputs": [
        {
          "output_type": "execute_result",
          "data": {
            "text/plain": [
              "array([[ 0.1441313 ,  0.14004853,  0.10728138, -0.09533997, -0.00713473,\n",
              "         0.13696758,  0.12252745,  0.22282545,  0.22184645,  0.1441313 ,\n",
              "         0.14004853, -0.09533997, -0.00713473,  0.12252745,  0.10728138,\n",
              "         0.22184645,  0.22952696,  0.23267812,  0.22282545, -0.01923903,\n",
              "         0.22282545,  0.0558221 ,  0.22585014,  0.20218557,  0.22952696,\n",
              "         0.23267812,  0.22952696,  0.04055995,  0.23298904,  0.05241751,\n",
              "        -0.00139505,  0.22487025,  0.18594887,  0.1904288 ,  0.00570456,\n",
              "         0.19625575, -0.00487228, -0.0373698 ],\n",
              "       [-0.24834245, -0.22297277, -0.24504409,  0.15179675,  0.10180356,\n",
              "        -0.2490136 , -0.25693584,  0.12011014,  0.10492512, -0.24834245,\n",
              "        -0.22297277,  0.15179675,  0.10180356, -0.25693584, -0.24504409,\n",
              "         0.10492512,  0.06975732,  0.04665444,  0.12011014,  0.18058591,\n",
              "         0.12011014,  0.14187807,  0.10206207, -0.08730947,  0.06975732,\n",
              "         0.04665444,  0.06975732,  0.02338666,  0.04432415,  0.22116148,\n",
              "         0.26435464,  0.11920712,  0.131564  ,  0.1182092 ,  0.03135848,\n",
              "         0.09261323,  0.19729821,  0.1611082 ],\n",
              "       [-0.07334601, -0.06921936,  0.11620873,  0.24513648, -0.46107681,\n",
              "        -0.06415231, -0.02419675, -0.03093887,  0.10057567, -0.07334601,\n",
              "        -0.06921936,  0.24513648, -0.46107681, -0.02419675,  0.11620873,\n",
              "         0.10057567,  0.08936119,  0.08209649, -0.03093887,  0.22371369,\n",
              "        -0.03093887, -0.42764149,  0.0184768 ,  0.12913865,  0.08936119,\n",
              "         0.08209649,  0.08936119,  0.02874411,  0.08109164,  0.09401914,\n",
              "         0.09974759, -0.03703352, -0.1346145 , -0.13209674, -0.02424656,\n",
              "        -0.11960072, -0.10962929, -0.03833184],\n",
              "       [ 0.09517151,  0.16610431,  0.09844023,  0.43512049,  0.09860455,\n",
              "         0.02925518,  0.09658983,  0.02947908, -0.0921279 ,  0.09517151,\n",
              "         0.16610431,  0.43512049,  0.09860455,  0.09658983,  0.09844023,\n",
              "        -0.0921279 , -0.05892003, -0.05679428,  0.02947908,  0.44899652,\n",
              "         0.02947908,  0.1164369 , -0.03810771,  0.03039879, -0.05892003,\n",
              "        -0.05679428, -0.05892003, -0.28460386, -0.05628183, -0.01294445,\n",
              "        -0.24802236,  0.02769027,  0.14209966,  0.13845902, -0.08060767,\n",
              "         0.11993376,  0.16185343,  0.05161855],\n",
              "       [-0.13359182, -0.02289833,  0.29630778, -0.05654693,  0.21209895,\n",
              "        -0.0242503 ,  0.00417642, -0.06534276,  0.08983906, -0.13359182,\n",
              "        -0.02289833, -0.05654693,  0.21209895,  0.00417642,  0.29630778,\n",
              "         0.08983906,  0.08315988,  0.04475068, -0.06534276, -0.054011  ,\n",
              "        -0.06534276,  0.13907303, -0.01754555,  0.22192775,  0.08315988,\n",
              "         0.04475068,  0.08315988, -0.34204252,  0.04401077,  0.3702116 ,\n",
              "         0.0662992 , -0.06908738, -0.23908369, -0.24361741, -0.27071578,\n",
              "        -0.27350862,  0.18500065,  0.03412956],\n",
              "       [-0.12027376, -0.34153304,  0.13991093, -0.01718322, -0.0317315 ,\n",
              "         0.20837011,  0.30660669,  0.03666031, -0.04248114, -0.12027376,\n",
              "        -0.34153304, -0.01718322, -0.0317315 ,  0.30660669,  0.13991093,\n",
              "        -0.04248114, -0.0869524 , -0.05499352,  0.03666031, -0.03445659,\n",
              "         0.03666031, -0.01623046,  0.03816089,  0.11273271, -0.0869524 ,\n",
              "        -0.05499352, -0.0869524 , -0.13515848, -0.05683302, -0.25252149,\n",
              "         0.29396941,  0.0451015 ,  0.15443864,  0.12098859, -0.14809655,\n",
              "         0.13793399, -0.08173948,  0.39084149]])"
            ]
          },
          "metadata": {},
          "execution_count": 62
        }
      ]
    },
    {
      "cell_type": "code",
      "metadata": {
        "colab": {
          "base_uri": "https://localhost:8080/",
          "height": 295
        },
        "id": "7009b74d",
        "outputId": "53960b65-83a6-411c-eef3-bfccbc29ffeb"
      },
      "source": [
        "# Plot Values\n",
        "# Drawn from: https://www.datasklr.com/principal-component-analysis-and-factor-analysis/principal-component-analysis\n",
        "PC_values = np.arange(pca.n_components_) + 1\n",
        "plt.plot(PC_values, pca.explained_variance_ratio_, 'ro-', linewidth=2)\n",
        "plt.title('Scree Plot')\n",
        "plt.xlabel('Principal Component')\n",
        "plt.ylabel('Proportion of Variance Explained')\n",
        "plt.show()"
      ],
      "id": "7009b74d",
      "execution_count": 63,
      "outputs": [
        {
          "output_type": "display_data",
          "data": {
            "image/png": "[encoded data removed]",
            "text/plain": [
              "<Figure size 432x288 with 1 Axes>"
            ]
          },
          "metadata": {
            "needs_background": "light"
          }
        }
      ]
    },
    {
      "cell_type": "markdown",
      "metadata": {
        "id": "7cb89762"
      },
      "source": [
        "The 'elbow' in the curve isn't as clear-cut as in many cases, but the diagram suggests that 2 or 3 may be sufficient. We can double check by exploring proportion of variance explained."
      ],
      "id": "7cb89762"
    },
    {
      "cell_type": "code",
      "metadata": {
        "colab": {
          "base_uri": "https://localhost:8080/"
        },
        "id": "fb5f7036",
        "outputId": "110f2fa0-acfd-46a8-c4d4-ad7e3887657c"
      },
      "source": [
        "pca.explained_variance_"
      ],
      "id": "fb5f7036",
      "execution_count": 64,
      "outputs": [
        {
          "output_type": "execute_result",
          "data": {
            "text/plain": [
              "array([17.04719181,  7.68188417,  3.50946103,  2.07727299,  1.41363175,\n",
              "        1.28737065])"
            ]
          },
          "metadata": {},
          "execution_count": 64
        }
      ]
    },
    {
      "cell_type": "code",
      "metadata": {
        "id": "6c2fff42"
      },
      "source": [
        "pc_list = ['PC'+str(i) for i in range(1,7)]"
      ],
      "id": "6c2fff42",
      "execution_count": 65,
      "outputs": []
    },
    {
      "cell_type": "code",
      "metadata": {
        "id": "763df4dd"
      },
      "source": [
        "# idea for this viz came from: https://www.reneshbedre.com/blog/principal-component-analysis.html\n",
        "from bioinfokit.visuz import cluster\n",
        "cluster.screeplot(obj=[pc_list, pca.explained_variance_ratio_])"
      ],
      "id": "763df4dd",
      "execution_count": 66,
      "outputs": []
    },
    {
      "cell_type": "markdown",
      "metadata": {
        "id": "fp6yy_bbqkaH"
      },
      "source": [
        "The plot above is not displayed inline, check the 'Files' it will be there as 'screeplot.png'\n",
        "\n",
        "![screeplot (1).png](data:image/png;base64,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)"
      ],
      "id": "fp6yy_bbqkaH"
    },
    {
      "cell_type": "markdown",
      "metadata": {
        "id": "82df21d1"
      },
      "source": [
        "From the plot, it seems like 2 PCs account for most of the variance\n",
        "The next task would be to see if these components are interpretable through their loadings. "
      ],
      "id": "82df21d1"
    },
    {
      "cell_type": "code",
      "metadata": {
        "colab": {
          "base_uri": "https://localhost:8080/"
        },
        "id": "2dae18d5",
        "outputId": "04c58e17-37eb-49f4-a091-4d3c39ce9199"
      },
      "source": [
        "x.shape"
      ],
      "id": "2dae18d5",
      "execution_count": 67,
      "outputs": [
        {
          "output_type": "execute_result",
          "data": {
            "text/plain": [
              "(3110, 6)"
            ]
          },
          "metadata": {},
          "execution_count": 67
        }
      ]
    },
    {
      "cell_type": "code",
      "metadata": {
        "colab": {
          "base_uri": "https://localhost:8080/"
        },
        "id": "cc7b2593",
        "outputId": "692c9aa7-165b-4429-bfd1-d1927cfa4ffd"
      },
      "source": [
        "len(vars.columns)"
      ],
      "id": "cc7b2593",
      "execution_count": 68,
      "outputs": [
        {
          "output_type": "execute_result",
          "data": {
            "text/plain": [
              "38"
            ]
          },
          "metadata": {},
          "execution_count": 68
        }
      ]
    },
    {
      "cell_type": "code",
      "metadata": {
        "scrolled": true,
        "id": "a7156ffd"
      },
      "source": [
        "#So let's do the analysis again with just the 2 components\n",
        "pca = PCA(n_components=2)\n",
        "x = pca.fit_transform(raw)\n",
        "loadings = pd.DataFrame(pca.components_.T, \n",
        "                        columns=['PC1', 'PC2'], \n",
        "                        index=vars.columns)"
      ],
      "id": "a7156ffd",
      "execution_count": 69,
      "outputs": []
    },
    {
      "cell_type": "code",
      "metadata": {
        "scrolled": true,
        "colab": {
          "base_uri": "https://localhost:8080/",
          "height": 132
        },
        "id": "98d50f89",
        "outputId": "b4ccba78-d75f-4ed2-da94-14e028af6f1e"
      },
      "source": [
        "loadings.T"
      ],
      "id": "98d50f89",
      "execution_count": 70,
      "outputs": [
        {
          "output_type": "execute_result",
          "data": {
            "text/html": [
              "<div>\n",
              "<style scoped>\n",
              "    .dataframe tbody tr th:only-of-type {\n",
              "        vertical-align: middle;\n",
              "    }\n",
              "\n",
              "    .dataframe tbody tr th {\n",
              "        vertical-align: top;\n",
              "    }\n",
              "\n",
              "    .dataframe thead th {\n",
              "        text-align: right;\n",
              "    }\n",
              "</style>\n",
              "<table border=\"1\" class=\"dataframe\">\n",
              "  <thead>\n",
              "    <tr style=\"text-align: right;\">\n",
              "      <th></th>\n",
              "      <th>f_broadband</th>\n",
              "      <th>f_computer</th>\n",
              "      <th>f_ba</th>\n",
              "      <th>f_black</th>\n",
              "      <th>f_hispanic</th>\n",
              "      <th>log_mhi</th>\n",
              "      <th>mhi</th>\n",
              "      <th>population</th>\n",
              "      <th>households</th>\n",
              "      <th>broadband</th>\n",
              "      <th>computer</th>\n",
              "      <th>black</th>\n",
              "      <th>hispanic</th>\n",
              "      <th>mhi.1</th>\n",
              "      <th>ba</th>\n",
              "      <th>den_computers</th>\n",
              "      <th>n_computer</th>\n",
              "      <th>n_broadband</th>\n",
              "      <th>den_black</th>\n",
              "      <th>n_black</th>\n",
              "      <th>den_hispanic</th>\n",
              "      <th>n_hispanic</th>\n",
              "      <th>den_ba</th>\n",
              "      <th>n_ba</th>\n",
              "      <th>nhh_computer</th>\n",
              "      <th>nhh_broadband</th>\n",
              "      <th>nhh_computer_any_internet</th>\n",
              "      <th>nhh_computer_and_dialup</th>\n",
              "      <th>nhh_computer_and_broadband</th>\n",
              "      <th>nhh_computer_no_internet</th>\n",
              "      <th>nhh_no_computer</th>\n",
              "      <th>den_age</th>\n",
              "      <th>n_children</th>\n",
              "      <th>n_children_computer</th>\n",
              "      <th>n_children_computer_and_dialup</th>\n",
              "      <th>n_children_computer_and_broadband</th>\n",
              "      <th>n_children_computer_no_internet</th>\n",
              "      <th>n_children_no_computer</th>\n",
              "    </tr>\n",
              "  </thead>\n",
              "  <tbody>\n",
              "    <tr>\n",
              "      <th>PC1</th>\n",
              "      <td>0.144131</td>\n",
              "      <td>0.140049</td>\n",
              "      <td>0.107281</td>\n",
              "      <td>-0.095340</td>\n",
              "      <td>-0.007135</td>\n",
              "      <td>0.136968</td>\n",
              "      <td>0.122527</td>\n",
              "      <td>0.222825</td>\n",
              "      <td>0.221846</td>\n",
              "      <td>0.144131</td>\n",
              "      <td>0.140049</td>\n",
              "      <td>-0.095340</td>\n",
              "      <td>-0.007135</td>\n",
              "      <td>0.122527</td>\n",
              "      <td>0.107281</td>\n",
              "      <td>0.221846</td>\n",
              "      <td>0.229527</td>\n",
              "      <td>0.232678</td>\n",
              "      <td>0.222825</td>\n",
              "      <td>-0.019239</td>\n",
              "      <td>0.222825</td>\n",
              "      <td>0.055822</td>\n",
              "      <td>0.225850</td>\n",
              "      <td>0.202186</td>\n",
              "      <td>0.229527</td>\n",
              "      <td>0.232678</td>\n",
              "      <td>0.229527</td>\n",
              "      <td>0.040560</td>\n",
              "      <td>0.232989</td>\n",
              "      <td>0.052418</td>\n",
              "      <td>-0.001395</td>\n",
              "      <td>0.224870</td>\n",
              "      <td>0.185949</td>\n",
              "      <td>0.190429</td>\n",
              "      <td>0.005705</td>\n",
              "      <td>0.196256</td>\n",
              "      <td>-0.004872</td>\n",
              "      <td>-0.037370</td>\n",
              "    </tr>\n",
              "    <tr>\n",
              "      <th>PC2</th>\n",
              "      <td>-0.248342</td>\n",
              "      <td>-0.222973</td>\n",
              "      <td>-0.245044</td>\n",
              "      <td>0.151797</td>\n",
              "      <td>0.101804</td>\n",
              "      <td>-0.249014</td>\n",
              "      <td>-0.256936</td>\n",
              "      <td>0.120110</td>\n",
              "      <td>0.104925</td>\n",
              "      <td>-0.248342</td>\n",
              "      <td>-0.222973</td>\n",
              "      <td>0.151797</td>\n",
              "      <td>0.101804</td>\n",
              "      <td>-0.256936</td>\n",
              "      <td>-0.245044</td>\n",
              "      <td>0.104925</td>\n",
              "      <td>0.069757</td>\n",
              "      <td>0.046654</td>\n",
              "      <td>0.120110</td>\n",
              "      <td>0.180586</td>\n",
              "      <td>0.120110</td>\n",
              "      <td>0.141878</td>\n",
              "      <td>0.102062</td>\n",
              "      <td>-0.087309</td>\n",
              "      <td>0.069757</td>\n",
              "      <td>0.046654</td>\n",
              "      <td>0.069757</td>\n",
              "      <td>0.023387</td>\n",
              "      <td>0.044324</td>\n",
              "      <td>0.221161</td>\n",
              "      <td>0.264355</td>\n",
              "      <td>0.119207</td>\n",
              "      <td>0.131564</td>\n",
              "      <td>0.118209</td>\n",
              "      <td>0.031358</td>\n",
              "      <td>0.092613</td>\n",
              "      <td>0.197298</td>\n",
              "      <td>0.161108</td>\n",
              "    </tr>\n",
              "  </tbody>\n",
              "</table>\n",
              "</div>"
            ],
            "text/plain": [
              "     f_broadband  f_computer      f_ba   f_black  f_hispanic   log_mhi  \\\n",
              "PC1     0.144131    0.140049  0.107281 -0.095340   -0.007135  0.136968   \n",
              "PC2    -0.248342   -0.222973 -0.245044  0.151797    0.101804 -0.249014   \n",
              "\n",
              "          mhi  population  households  broadband  computer     black  \\\n",
              "PC1  0.122527    0.222825    0.221846   0.144131  0.140049 -0.095340   \n",
              "PC2 -0.256936    0.120110    0.104925  -0.248342 -0.222973  0.151797   \n",
              "\n",
              "     hispanic     mhi.1        ba  den_computers  n_computer  n_broadband  \\\n",
              "PC1 -0.007135  0.122527  0.107281       0.221846    0.229527     0.232678   \n",
              "PC2  0.101804 -0.256936 -0.245044       0.104925    0.069757     0.046654   \n",
              "\n",
              "     den_black   n_black  den_hispanic  n_hispanic    den_ba      n_ba  \\\n",
              "PC1   0.222825 -0.019239      0.222825    0.055822  0.225850  0.202186   \n",
              "PC2   0.120110  0.180586      0.120110    0.141878  0.102062 -0.087309   \n",
              "\n",
              "     nhh_computer  nhh_broadband  nhh_computer_any_internet  \\\n",
              "PC1      0.229527       0.232678                   0.229527   \n",
              "PC2      0.069757       0.046654                   0.069757   \n",
              "\n",
              "     nhh_computer_and_dialup  nhh_computer_and_broadband  \\\n",
              "PC1                 0.040560                    0.232989   \n",
              "PC2                 0.023387                    0.044324   \n",
              "\n",
              "     nhh_computer_no_internet  nhh_no_computer   den_age  n_children  \\\n",
              "PC1                  0.052418        -0.001395  0.224870    0.185949   \n",
              "PC2                  0.221161         0.264355  0.119207    0.131564   \n",
              "\n",
              "     n_children_computer  n_children_computer_and_dialup  \\\n",
              "PC1             0.190429                        0.005705   \n",
              "PC2             0.118209                        0.031358   \n",
              "\n",
              "     n_children_computer_and_broadband  n_children_computer_no_internet  \\\n",
              "PC1                           0.196256                        -0.004872   \n",
              "PC2                           0.092613                         0.197298   \n",
              "\n",
              "     n_children_no_computer  \n",
              "PC1               -0.037370  \n",
              "PC2                0.161108  "
            ]
          },
          "metadata": {},
          "execution_count": 70
        }
      ]
    },
    {
      "cell_type": "code",
      "metadata": {
        "colab": {
          "base_uri": "https://localhost:8080/"
        },
        "id": "4c03ea75",
        "outputId": "11fb735a-748c-4301-e6b1-ea1841223e34"
      },
      "source": [
        "print(loadings['PC1'].max(), loadings['PC1'].min())"
      ],
      "id": "4c03ea75",
      "execution_count": 71,
      "outputs": [
        {
          "output_type": "stream",
          "name": "stdout",
          "text": [
            "0.23298904301740828 -0.09533997299687252\n"
          ]
        }
      ]
    },
    {
      "cell_type": "code",
      "metadata": {
        "colab": {
          "base_uri": "https://localhost:8080/"
        },
        "id": "19fb8159",
        "outputId": "7c4df047-eac3-4b68-db00-9f11a7ed650c"
      },
      "source": [
        "print(loadings['PC2'].max(), loadings['PC2'].min())"
      ],
      "id": "19fb8159",
      "execution_count": 72,
      "outputs": [
        {
          "output_type": "stream",
          "name": "stdout",
          "text": [
            "0.26435463880634835 -0.25693583806946746\n"
          ]
        }
      ]
    },
    {
      "cell_type": "markdown",
      "metadata": {
        "id": "35a1aaf9"
      },
      "source": [
        "None of the loadings of principal components from the original variables are particularly strong. This makes interpretation challenging. Interestingly, PC2 has both a positive and negative loading of around 0.25.\n",
        "Visualization may help."
      ],
      "id": "35a1aaf9"
    },
    {
      "cell_type": "code",
      "metadata": {
        "colab": {
          "base_uri": "https://localhost:8080/",
          "height": 268
        },
        "id": "60d07dbb",
        "outputId": "58a7dc94-acfb-4542-f966-866e4d7b5a0d"
      },
      "source": [
        "ax = sns.heatmap(loadings, annot=True, cmap='Spectral')\n",
        "plt.show()"
      ],
      "id": "60d07dbb",
      "execution_count": 73,
      "outputs": [
        {
          "output_type": "display_data",
          "data": {
            "image/png": "[encoded data removed]",
            "text/plain": [
              "<Figure size 432x288 with 2 Axes>"
            ]
          },
          "metadata": {
            "needs_background": "light"
          }
        }
      ]
    },
    {
      "cell_type": "markdown",
      "metadata": {
        "id": "e0c727e8"
      },
      "source": [
        "PC2 holds strong negative loadings with some demographic variables such as Monthly Household Income (mhi), number of families from hispanic and 'ba' backgrounds (not sure what 'ba' means). It also has a strong positive loadings correlation with the households that have no computers.\n",
        "\n",
        "PC1 seems closely linked to variables with the 'nhh' prefix (I believe that's number of households, but we need to check the data dictionary)"
      ],
      "id": "e0c727e8"
    },
    {
      "cell_type": "markdown",
      "metadata": {
        "id": "H4pAAQag8SO9"
      },
      "source": [
        "Increasing the size of heatmap, for better readability"
      ],
      "id": "H4pAAQag8SO9"
    },
    {
      "cell_type": "code",
      "metadata": {
        "colab": {
          "base_uri": "https://localhost:8080/",
          "height": 592
        },
        "id": "4GQurh1OrjBw",
        "outputId": "75e365b4-fb30-4a71-eb01-f16123adaf92"
      },
      "source": [
        "## trying to increase the size of heatmap\n",
        "fig, ax = plt.subplots(figsize=(10,10))         # Sample figsize in inches\n",
        "# sns.heatmap(df1.iloc[:, 1:6:], annot=True, linewidths=.5, ax=ax)\n",
        "sns.heatmap(loadings, annot=True, cmap='Spectral', linewidths=.5, ax=ax)\n",
        "plt.show()"
      ],
      "id": "4GQurh1OrjBw",
      "execution_count": 74,
      "outputs": [
        {
          "output_type": "display_data",
          "data": {
            "image/png": "[encoded data removed]",
            "text/plain": [
              "<Figure size 720x720 with 2 Axes>"
            ]
          },
          "metadata": {
            "needs_background": "light"
          }
        }
      ]
    },
    {
      "cell_type": "markdown",
      "metadata": {
        "id": "2af2ae23"
      },
      "source": [
        "# Part 2"
      ],
      "id": "2af2ae23"
    },
    {
      "cell_type": "code",
      "metadata": {
        "id": "Yj9c4EeV8Cvk"
      },
      "source": [
        "illinois_map = gpd.read_file('il_spdf/il_spdf.shp')"
      ],
      "id": "Yj9c4EeV8Cvk",
      "execution_count": null,
      "outputs": []
    },
    {
      "cell_type": "code",
      "metadata": {
        "id": "GhI_wBdX8Gcv"
      },
      "source": [
        "illinois_map.plot()"
      ],
      "id": "GhI_wBdX8Gcv",
      "execution_count": null,
      "outputs": []
    },
    {
      "cell_type": "code",
      "metadata": {
        "id": "RkRyqaTk8JOr"
      },
      "source": [
        "#Using Coordinate Reference System\n",
        "illinois_map.to_crs(epsg=4326).plot()"
      ],
      "id": "RkRyqaTk8JOr",
      "execution_count": null,
      "outputs": []
    },
    {
      "cell_type": "code",
      "metadata": {
        "id": "QUliZfXv8Lmq"
      },
      "source": [
        "# Check for Lat Long in the other data\n",
        "df_fcc = pd.read_csv('fcc_477_census_tract_IL.csv')\n",
        "#flatten the tract\n",
        "df_fcc.columns\n",
        "#tract and download speeds"
      ],
      "id": "QUliZfXv8Lmq",
      "execution_count": null,
      "outputs": []
    },
    {
      "cell_type": "code",
      "metadata": {
        "id": "wPeMY5CY8NYL"
      },
      "source": [
        "df_fcc['tract']"
      ],
      "id": "wPeMY5CY8NYL",
      "execution_count": null,
      "outputs": []
    },
    {
      "cell_type": "markdown",
      "metadata": {
        "id": "acb7b821"
      },
      "source": [
        "So no, the FCC data doesn't have the required lat-long.\n"
      ],
      "id": "acb7b821"
    },
    {
      "cell_type": "code",
      "metadata": {
        "colab": {
          "base_uri": "https://localhost:8080/",
          "height": 415
        },
        "id": "59d37514",
        "outputId": "f8545360-0e7c-4ff3-cad4-9706a8ef21a9"
      },
      "source": [
        "#Ookla\n",
        "df_ookla = pd.read_csv('ookla_combined_il.csv')\n",
        "df_ookla.columns"
      ],
      "id": "59d37514",
      "execution_count": 75,
      "outputs": [
        {
          "output_type": "error",
          "ename": "FileNotFoundError",
          "evalue": "ignored",
          "traceback": [
            "\u001b[0;31m---------------------------------------------------------------------------\u001b[0m",
            "\u001b[0;31mFileNotFoundError\u001b[0m                         Traceback (most recent call last)",
            "\u001b[0;32m<ipython-input-75-a6053dcb897d>\u001b[0m in \u001b[0;36m<module>\u001b[0;34m()\u001b[0m\n\u001b[1;32m      1\u001b[0m \u001b[0;31m#Ookla\u001b[0m\u001b[0;34m\u001b[0m\u001b[0;34m\u001b[0m\u001b[0;34m\u001b[0m\u001b[0m\n\u001b[0;32m----> 2\u001b[0;31m \u001b[0mdf_ookla\u001b[0m \u001b[0;34m=\u001b[0m \u001b[0mpd\u001b[0m\u001b[0;34m.\u001b[0m\u001b[0mread_csv\u001b[0m\u001b[0;34m(\u001b[0m\u001b[0;34m'ookla_combined_il.csv'\u001b[0m\u001b[0;34m)\u001b[0m\u001b[0;34m\u001b[0m\u001b[0;34m\u001b[0m\u001b[0m\n\u001b[0m\u001b[1;32m      3\u001b[0m \u001b[0mdf_ookla\u001b[0m\u001b[0;34m.\u001b[0m\u001b[0mcolumns\u001b[0m\u001b[0;34m\u001b[0m\u001b[0;34m\u001b[0m\u001b[0m\n",
            "\u001b[0;32m/usr/local/lib/python3.7/dist-packages/pandas/io/parsers.py\u001b[0m in \u001b[0;36mread_csv\u001b[0;34m(filepath_or_buffer, sep, delimiter, header, names, index_col, usecols, squeeze, prefix, mangle_dupe_cols, dtype, engine, converters, true_values, false_values, skipinitialspace, skiprows, skipfooter, nrows, na_values, keep_default_na, na_filter, verbose, skip_blank_lines, parse_dates, infer_datetime_format, keep_date_col, date_parser, dayfirst, cache_dates, iterator, chunksize, compression, thousands, decimal, lineterminator, quotechar, quoting, doublequote, escapechar, comment, encoding, dialect, error_bad_lines, warn_bad_lines, delim_whitespace, low_memory, memory_map, float_precision)\u001b[0m\n\u001b[1;32m    686\u001b[0m     )\n\u001b[1;32m    687\u001b[0m \u001b[0;34m\u001b[0m\u001b[0m\n\u001b[0;32m--> 688\u001b[0;31m     \u001b[0;32mreturn\u001b[0m \u001b[0m_read\u001b[0m\u001b[0;34m(\u001b[0m\u001b[0mfilepath_or_buffer\u001b[0m\u001b[0;34m,\u001b[0m \u001b[0mkwds\u001b[0m\u001b[0;34m)\u001b[0m\u001b[0;34m\u001b[0m\u001b[0;34m\u001b[0m\u001b[0m\n\u001b[0m\u001b[1;32m    689\u001b[0m \u001b[0;34m\u001b[0m\u001b[0m\n\u001b[1;32m    690\u001b[0m \u001b[0;34m\u001b[0m\u001b[0m\n",
            "\u001b[0;32m/usr/local/lib/python3.7/dist-packages/pandas/io/parsers.py\u001b[0m in \u001b[0;36m_read\u001b[0;34m(filepath_or_buffer, kwds)\u001b[0m\n\u001b[1;32m    452\u001b[0m \u001b[0;34m\u001b[0m\u001b[0m\n\u001b[1;32m    453\u001b[0m     \u001b[0;31m# Create the parser.\u001b[0m\u001b[0;34m\u001b[0m\u001b[0;34m\u001b[0m\u001b[0;34m\u001b[0m\u001b[0m\n\u001b[0;32m--> 454\u001b[0;31m     \u001b[0mparser\u001b[0m \u001b[0;34m=\u001b[0m \u001b[0mTextFileReader\u001b[0m\u001b[0;34m(\u001b[0m\u001b[0mfp_or_buf\u001b[0m\u001b[0;34m,\u001b[0m \u001b[0;34m**\u001b[0m\u001b[0mkwds\u001b[0m\u001b[0;34m)\u001b[0m\u001b[0;34m\u001b[0m\u001b[0;34m\u001b[0m\u001b[0m\n\u001b[0m\u001b[1;32m    455\u001b[0m \u001b[0;34m\u001b[0m\u001b[0m\n\u001b[1;32m    456\u001b[0m     \u001b[0;32mif\u001b[0m \u001b[0mchunksize\u001b[0m \u001b[0;32mor\u001b[0m \u001b[0miterator\u001b[0m\u001b[0;34m:\u001b[0m\u001b[0;34m\u001b[0m\u001b[0;34m\u001b[0m\u001b[0m\n",
            "\u001b[0;32m/usr/local/lib/python3.7/dist-packages/pandas/io/parsers.py\u001b[0m in \u001b[0;36m__init__\u001b[0;34m(self, f, engine, **kwds)\u001b[0m\n\u001b[1;32m    946\u001b[0m             \u001b[0mself\u001b[0m\u001b[0;34m.\u001b[0m\u001b[0moptions\u001b[0m\u001b[0;34m[\u001b[0m\u001b[0;34m\"has_index_names\"\u001b[0m\u001b[0;34m]\u001b[0m \u001b[0;34m=\u001b[0m \u001b[0mkwds\u001b[0m\u001b[0;34m[\u001b[0m\u001b[0;34m\"has_index_names\"\u001b[0m\u001b[0;34m]\u001b[0m\u001b[0;34m\u001b[0m\u001b[0;34m\u001b[0m\u001b[0m\n\u001b[1;32m    947\u001b[0m \u001b[0;34m\u001b[0m\u001b[0m\n\u001b[0;32m--> 948\u001b[0;31m         \u001b[0mself\u001b[0m\u001b[0;34m.\u001b[0m\u001b[0m_make_engine\u001b[0m\u001b[0;34m(\u001b[0m\u001b[0mself\u001b[0m\u001b[0;34m.\u001b[0m\u001b[0mengine\u001b[0m\u001b[0;34m)\u001b[0m\u001b[0;34m\u001b[0m\u001b[0;34m\u001b[0m\u001b[0m\n\u001b[0m\u001b[1;32m    949\u001b[0m \u001b[0;34m\u001b[0m\u001b[0m\n\u001b[1;32m    950\u001b[0m     \u001b[0;32mdef\u001b[0m \u001b[0mclose\u001b[0m\u001b[0;34m(\u001b[0m\u001b[0mself\u001b[0m\u001b[0;34m)\u001b[0m\u001b[0;34m:\u001b[0m\u001b[0;34m\u001b[0m\u001b[0;34m\u001b[0m\u001b[0m\n",
            "\u001b[0;32m/usr/local/lib/python3.7/dist-packages/pandas/io/parsers.py\u001b[0m in \u001b[0;36m_make_engine\u001b[0;34m(self, engine)\u001b[0m\n\u001b[1;32m   1178\u001b[0m     \u001b[0;32mdef\u001b[0m \u001b[0m_make_engine\u001b[0m\u001b[0;34m(\u001b[0m\u001b[0mself\u001b[0m\u001b[0;34m,\u001b[0m \u001b[0mengine\u001b[0m\u001b[0;34m=\u001b[0m\u001b[0;34m\"c\"\u001b[0m\u001b[0;34m)\u001b[0m\u001b[0;34m:\u001b[0m\u001b[0;34m\u001b[0m\u001b[0;34m\u001b[0m\u001b[0m\n\u001b[1;32m   1179\u001b[0m         \u001b[0;32mif\u001b[0m \u001b[0mengine\u001b[0m \u001b[0;34m==\u001b[0m \u001b[0;34m\"c\"\u001b[0m\u001b[0;34m:\u001b[0m\u001b[0;34m\u001b[0m\u001b[0;34m\u001b[0m\u001b[0m\n\u001b[0;32m-> 1180\u001b[0;31m             \u001b[0mself\u001b[0m\u001b[0;34m.\u001b[0m\u001b[0m_engine\u001b[0m \u001b[0;34m=\u001b[0m \u001b[0mCParserWrapper\u001b[0m\u001b[0;34m(\u001b[0m\u001b[0mself\u001b[0m\u001b[0;34m.\u001b[0m\u001b[0mf\u001b[0m\u001b[0;34m,\u001b[0m \u001b[0;34m**\u001b[0m\u001b[0mself\u001b[0m\u001b[0;34m.\u001b[0m\u001b[0moptions\u001b[0m\u001b[0;34m)\u001b[0m\u001b[0;34m\u001b[0m\u001b[0;34m\u001b[0m\u001b[0m\n\u001b[0m\u001b[1;32m   1181\u001b[0m         \u001b[0;32melse\u001b[0m\u001b[0;34m:\u001b[0m\u001b[0;34m\u001b[0m\u001b[0;34m\u001b[0m\u001b[0m\n\u001b[1;32m   1182\u001b[0m             \u001b[0;32mif\u001b[0m \u001b[0mengine\u001b[0m \u001b[0;34m==\u001b[0m \u001b[0;34m\"python\"\u001b[0m\u001b[0;34m:\u001b[0m\u001b[0;34m\u001b[0m\u001b[0;34m\u001b[0m\u001b[0m\n",
            "\u001b[0;32m/usr/local/lib/python3.7/dist-packages/pandas/io/parsers.py\u001b[0m in \u001b[0;36m__init__\u001b[0;34m(self, src, **kwds)\u001b[0m\n\u001b[1;32m   2008\u001b[0m         \u001b[0mkwds\u001b[0m\u001b[0;34m[\u001b[0m\u001b[0;34m\"usecols\"\u001b[0m\u001b[0;34m]\u001b[0m \u001b[0;34m=\u001b[0m \u001b[0mself\u001b[0m\u001b[0;34m.\u001b[0m\u001b[0musecols\u001b[0m\u001b[0;34m\u001b[0m\u001b[0;34m\u001b[0m\u001b[0m\n\u001b[1;32m   2009\u001b[0m \u001b[0;34m\u001b[0m\u001b[0m\n\u001b[0;32m-> 2010\u001b[0;31m         \u001b[0mself\u001b[0m\u001b[0;34m.\u001b[0m\u001b[0m_reader\u001b[0m \u001b[0;34m=\u001b[0m \u001b[0mparsers\u001b[0m\u001b[0;34m.\u001b[0m\u001b[0mTextReader\u001b[0m\u001b[0;34m(\u001b[0m\u001b[0msrc\u001b[0m\u001b[0;34m,\u001b[0m \u001b[0;34m**\u001b[0m\u001b[0mkwds\u001b[0m\u001b[0;34m)\u001b[0m\u001b[0;34m\u001b[0m\u001b[0;34m\u001b[0m\u001b[0m\n\u001b[0m\u001b[1;32m   2011\u001b[0m         \u001b[0mself\u001b[0m\u001b[0;34m.\u001b[0m\u001b[0munnamed_cols\u001b[0m \u001b[0;34m=\u001b[0m \u001b[0mself\u001b[0m\u001b[0;34m.\u001b[0m\u001b[0m_reader\u001b[0m\u001b[0;34m.\u001b[0m\u001b[0munnamed_cols\u001b[0m\u001b[0;34m\u001b[0m\u001b[0;34m\u001b[0m\u001b[0m\n\u001b[1;32m   2012\u001b[0m \u001b[0;34m\u001b[0m\u001b[0m\n",
            "\u001b[0;32mpandas/_libs/parsers.pyx\u001b[0m in \u001b[0;36mpandas._libs.parsers.TextReader.__cinit__\u001b[0;34m()\u001b[0m\n",
            "\u001b[0;32mpandas/_libs/parsers.pyx\u001b[0m in \u001b[0;36mpandas._libs.parsers.TextReader._setup_parser_source\u001b[0;34m()\u001b[0m\n",
            "\u001b[0;31mFileNotFoundError\u001b[0m: [Errno 2] No such file or directory: 'ookla_combined_il.csv'"
          ]
        }
      ]
    },
    {
      "cell_type": "code",
      "metadata": {
        "scrolled": true,
        "id": "c0091146"
      },
      "source": [
        "df_ookla.head()"
      ],
      "id": "c0091146",
      "execution_count": null,
      "outputs": []
    },
    {
      "cell_type": "code",
      "metadata": {
        "id": "33d85629"
      },
      "source": [
        "df_ookla['tile']"
      ],
      "id": "33d85629",
      "execution_count": null,
      "outputs": []
    },
    {
      "cell_type": "code",
      "metadata": {
        "id": "1f0ee7a4"
      },
      "source": [
        "df_ookla['tile_length'] = df_ookla['tile'].apply(len)"
      ],
      "id": "1f0ee7a4",
      "execution_count": null,
      "outputs": []
    },
    {
      "cell_type": "code",
      "metadata": {
        "id": "d3de3f0a"
      },
      "source": [
        "df_ookla['tile_length']"
      ],
      "id": "d3de3f0a",
      "execution_count": null,
      "outputs": []
    },
    {
      "cell_type": "code",
      "metadata": {
        "id": "93eb0d0d"
      },
      "source": [
        "df_ookla['tile_length'].describe()"
      ],
      "id": "93eb0d0d",
      "execution_count": null,
      "outputs": []
    },
    {
      "cell_type": "markdown",
      "metadata": {
        "id": "f44ddcea"
      },
      "source": [
        "Phew, these tiles are quite complex. I'm best leaving this to Steven and other team members to handle on Tableau and R while I figure out the data overlaps."
      ],
      "id": "f44ddcea"
    },
    {
      "cell_type": "markdown",
      "metadata": {
        "id": "80006f40"
      },
      "source": [
        "# Part 3- Checking for FCC and Ookla Joins"
      ],
      "id": "80006f40"
    },
    {
      "cell_type": "code",
      "metadata": {
        "id": "622a8265"
      },
      "source": [
        "print(len(df_fcc), len(df_ookla))"
      ],
      "id": "622a8265",
      "execution_count": null,
      "outputs": []
    },
    {
      "cell_type": "markdown",
      "metadata": {
        "id": "3592a531"
      },
      "source": [
        "There are clearly huge differences in the number of quadkeys in Ookla vs the number of census tracts in Illinois. This suggests a close concentration of a huge number of quadkeys within census tracts. And that isn't even considering quadkeys that extends across more than one census tract."
      ],
      "id": "3592a531"
    },
    {
      "cell_type": "code",
      "metadata": {
        "id": "37e090e1"
      },
      "source": [
        "#Left Join Ookla\n",
        "left_join = df_ookla.merge(df_fcc, how='left', left_on='GEOID', right_on='tract')"
      ],
      "id": "37e090e1",
      "execution_count": null,
      "outputs": []
    },
    {
      "cell_type": "code",
      "metadata": {
        "scrolled": true,
        "id": "c506087e"
      },
      "source": [
        "left_join"
      ],
      "id": "c506087e",
      "execution_count": null,
      "outputs": []
    },
    {
      "cell_type": "code",
      "metadata": {
        "id": "9334d154"
      },
      "source": [
        "# Here, ookla is the dataframe on the left.\n",
        "missing_tract = left_join.loc[left_join['tract'].isnull()]\n",
        "missing_tract"
      ],
      "id": "9334d154",
      "execution_count": null,
      "outputs": []
    },
    {
      "cell_type": "markdown",
      "metadata": {
        "id": "694aeec7"
      },
      "source": [
        "Okay, so every single quadkey is in at least one tract. Let's try the reverse."
      ],
      "id": "694aeec7"
    },
    {
      "cell_type": "code",
      "metadata": {
        "id": "db1f3c04"
      },
      "source": [
        "right_join = df_ookla.merge(df_fcc, how='right', left_on='GEOID', right_on='tract')"
      ],
      "id": "db1f3c04",
      "execution_count": null,
      "outputs": []
    },
    {
      "cell_type": "code",
      "metadata": {
        "id": "ef93fc17"
      },
      "source": [
        "missing_geoid = right_join.loc[right_join['GEOID'].isnull()]\n",
        "missing_geoid"
      ],
      "id": "ef93fc17",
      "execution_count": null,
      "outputs": []
    },
    {
      "cell_type": "code",
      "metadata": {
        "id": "04a35b9c"
      },
      "source": [
        "tracts_missing_geoid = missing_geoid['tract']"
      ],
      "id": "04a35b9c",
      "execution_count": null,
      "outputs": []
    },
    {
      "cell_type": "markdown",
      "metadata": {
        "id": "83776791"
      },
      "source": [
        "All right, so there are 162 quadkeys that don't have a tract."
      ],
      "id": "83776791"
    },
    {
      "cell_type": "markdown",
      "metadata": {
        "id": "ab2a80f6"
      },
      "source": [
        "The next step would have been to plot against the shapefile and see which parts become blank. Steven is already taking care of that on Tableau. So I'll just compare the results of the right join with ACS and check for any patterns appearing with respect to our calculated principal components. "
      ],
      "id": "ab2a80f6"
    },
    {
      "cell_type": "markdown",
      "metadata": {
        "id": "e28be5b6"
      },
      "source": [
        "# PART 4: Combine PCA and Table Join"
      ],
      "id": "e28be5b6"
    },
    {
      "cell_type": "code",
      "metadata": {
        "id": "9e708e28"
      },
      "source": [
        "x.shape"
      ],
      "id": "9e708e28",
      "execution_count": null,
      "outputs": []
    },
    {
      "cell_type": "code",
      "metadata": {
        "id": "8dd13de9"
      },
      "source": [
        "df_pc = pd.DataFrame(x, columns=['PC1', 'PC2'])"
      ],
      "id": "8dd13de9",
      "execution_count": null,
      "outputs": []
    },
    {
      "cell_type": "code",
      "metadata": {
        "id": "e36077ab"
      },
      "source": [
        "df_pc"
      ],
      "id": "e36077ab",
      "execution_count": null,
      "outputs": []
    },
    {
      "cell_type": "code",
      "metadata": {
        "id": "77244a4d"
      },
      "source": [
        "df_acs.shape"
      ],
      "id": "77244a4d",
      "execution_count": null,
      "outputs": []
    },
    {
      "cell_type": "code",
      "metadata": {
        "id": "c8eded77"
      },
      "source": [
        "df_acs.dropna().shape"
      ],
      "id": "c8eded77",
      "execution_count": null,
      "outputs": []
    },
    {
      "cell_type": "code",
      "metadata": {
        "id": "f7ba3b70"
      },
      "source": [
        "#Now that the dimensions agree, we can combine the Principal Components into this dataframe\n",
        "df_acs.dropna(inplace=True)"
      ],
      "id": "f7ba3b70",
      "execution_count": null,
      "outputs": []
    },
    {
      "cell_type": "code",
      "metadata": {
        "id": "d4632b81"
      },
      "source": [
        "pc_acs = pd.concat([df_acs, df_pc], axis=1)"
      ],
      "id": "d4632b81",
      "execution_count": null,
      "outputs": []
    },
    {
      "cell_type": "code",
      "metadata": {
        "id": "c9010afa"
      },
      "source": [
        "pc_acs.shape"
      ],
      "id": "c9010afa",
      "execution_count": null,
      "outputs": []
    },
    {
      "cell_type": "code",
      "metadata": {
        "id": "855cc8d9"
      },
      "source": [
        "pc_acs['PC2']"
      ],
      "id": "855cc8d9",
      "execution_count": null,
      "outputs": []
    },
    {
      "cell_type": "code",
      "metadata": {
        "id": "2d75f2af"
      },
      "source": [
        "pc_acs.tail(13)"
      ],
      "id": "2d75f2af",
      "execution_count": null,
      "outputs": []
    },
    {
      "cell_type": "code",
      "metadata": {
        "id": "a0097c6a"
      },
      "source": [
        "final = pc_acs.dropna()[['geoid', 'PC1', 'PC2']]"
      ],
      "id": "a0097c6a",
      "execution_count": null,
      "outputs": []
    },
    {
      "cell_type": "code",
      "metadata": {
        "id": "bcc661cf"
      },
      "source": [
        "final.shape"
      ],
      "id": "bcc661cf",
      "execution_count": null,
      "outputs": []
    },
    {
      "cell_type": "code",
      "metadata": {
        "id": "ba3e1477"
      },
      "source": [
        "tracts_missing_geoid"
      ],
      "id": "ba3e1477",
      "execution_count": null,
      "outputs": []
    },
    {
      "cell_type": "code",
      "metadata": {
        "id": "1ad4c153"
      },
      "source": [
        "final_tracts = final.loc[final['geoid'].isin(tracts_missing_geoid)]\n",
        "final_tracts"
      ],
      "id": "1ad4c153",
      "execution_count": null,
      "outputs": []
    },
    {
      "cell_type": "code",
      "metadata": {
        "id": "870e907a"
      },
      "source": [
        "#Hmm this raises the question of what happened to 3 of the original 162 tracts\n",
        "final_tracts.describe()"
      ],
      "id": "870e907a",
      "execution_count": null,
      "outputs": []
    },
    {
      "cell_type": "code",
      "metadata": {
        "id": "24242cab"
      },
      "source": [
        "matched_tracts = pc_acs.loc[~pc_acs['geoid'].isin(tracts_missing_geoid)]\n",
        "matched_tracts.dropna(inplace=True)"
      ],
      "id": "24242cab",
      "execution_count": null,
      "outputs": []
    },
    {
      "cell_type": "code",
      "metadata": {
        "id": "c9d04b6f"
      },
      "source": [
        "matched_tracts[['PC1', 'PC2']].describe()"
      ],
      "id": "c9d04b6f",
      "execution_count": null,
      "outputs": []
    },
    {
      "cell_type": "markdown",
      "metadata": {
        "id": "0dc837cc"
      },
      "source": [
        "The values on the PC have switched signs between the matched and unmatched tracts. It might be worthwhile testing for a statistically significant difference."
      ],
      "id": "0dc837cc"
    },
    {
      "cell_type": "markdown",
      "metadata": {
        "id": "e4e86da5"
      },
      "source": [
        "Before we can run a formal statistical test, we need to ensure we meet the underlying assumptions. We will check for normality (or near-normality) of the distributions of the two components"
      ],
      "id": "e4e86da5"
    },
    {
      "cell_type": "code",
      "metadata": {
        "id": "7c3fc6c1"
      },
      "source": [
        "sns.histplot(data=matched_tracts, x=\"PC1\", kde=True)"
      ],
      "id": "7c3fc6c1",
      "execution_count": null,
      "outputs": []
    },
    {
      "cell_type": "markdown",
      "metadata": {
        "id": "e3c1de8e"
      },
      "source": [
        "This distribution is right-skewed with a thin tail. The outliers may be worth exploring, or removing from the analysis."
      ],
      "id": "e3c1de8e"
    },
    {
      "cell_type": "code",
      "metadata": {
        "id": "daadbd88"
      },
      "source": [
        "sns.histplot(data=matched_tracts, x=\"PC2\", kde=True)"
      ],
      "id": "daadbd88",
      "execution_count": null,
      "outputs": []
    },
    {
      "cell_type": "markdown",
      "metadata": {
        "id": "9735bc71"
      },
      "source": [
        "The plot seems more symmetric than the one above and seems to be approaching a standard normal distribution."
      ],
      "id": "9735bc71"
    },
    {
      "cell_type": "code",
      "metadata": {
        "id": "7e73e05f"
      },
      "source": [
        "sns.histplot(data=final_tracts, x=\"PC1\", kde=True)"
      ],
      "id": "7e73e05f",
      "execution_count": null,
      "outputs": []
    },
    {
      "cell_type": "code",
      "metadata": {
        "id": "22398f53"
      },
      "source": [
        "sns.histplot(data=matched_tracts, x=\"PC2\", kde=True)"
      ],
      "id": "22398f53",
      "execution_count": null,
      "outputs": []
    },
    {
      "cell_type": "markdown",
      "metadata": {
        "id": "db509c84"
      },
      "source": [
        "The same pattern appears for PC1 (skewed) vs PC2 (more symmetric).  There may be a need to run some transformations on PC1 before the t-test's validity in this context becomes sacrosanct. "
      ],
      "id": "db509c84"
    },
    {
      "cell_type": "code",
      "metadata": {
        "id": "c4de1ac9"
      },
      "source": [
        "from scipy.stats import ttest_ind\n",
        "print(ttest_ind(matched_tracts['PC1'], final_tracts['PC1']))"
      ],
      "id": "c4de1ac9",
      "execution_count": null,
      "outputs": []
    },
    {
      "cell_type": "code",
      "metadata": {
        "id": "0860664c"
      },
      "source": [
        "print(ttest_ind(matched_tracts['PC2'], final_tracts['PC2']))"
      ],
      "id": "0860664c",
      "execution_count": null,
      "outputs": []
    },
    {
      "cell_type": "markdown",
      "metadata": {
        "id": "c19468c8"
      },
      "source": [
        "The p value is highly statistically significant for both the t Tests. So the two groups are drawn from different populations along the two variables (principal components) of interest. \n",
        "So if we are able to now plot these tracts on Illinois maps, and develop an interpretation of the two principal components, we may be able to arrive at some metrics as required by part iii of this problem. "
      ],
      "id": "c19468c8"
    }
  ]
}