{
  "nbformat": 4,
  "nbformat_minor": 5,
  "metadata": {
    "kernelspec": {
      "display_name": "Python 3",
      "language": "python",
      "name": "python3"
    },
    "language_info": {
      "codemirror_mode": {
        "name": "ipython",
        "version": 3
      },
      "file_extension": ".py",
      "mimetype": "text/x-python",
      "name": "python",
      "nbconvert_exporter": "python",
      "pygments_lexer": "ipython3",
      "version": "3.9.5"
    },
    "colab": {
      "name": "Task1b-part_c.ipynb",
      "provenance": [],
      "include_colab_link": true
    }
  },
  "cells": [
    {
      "cell_type": "markdown",
      "metadata": {
        "id": "view-in-github",
        "colab_type": "text"
      },
      "source": [
        "<a href=\"https://colab.research.google.com/github/patternproject/sept-datadive-cdac/blob/patternproject/policyglot/Task1b-part_c.ipynb\" target=\"_parent\"><img src=\"https://colab.research.google.com/assets/colab-badge.svg\" alt=\"Open In Colab\"/></a>"
      ]
    },
    {
      "cell_type": "markdown",
      "metadata": {
        "id": "wABVEhA-f9I1"
      },
      "source": [
        "VER HISTORY\n",
        "### 1: First Draft for PCA Heat Map"
      ],
      "id": "wABVEhA-f9I1"
    },
    {
      "cell_type": "markdown",
      "metadata": {
        "id": "8a83fced"
      },
      "source": [
        "## Task 1b_partc"
      ],
      "id": "8a83fced"
    },
    {
      "cell_type": "markdown",
      "metadata": {
        "id": "47c45425"
      },
      "source": [
        "## Statement of Goal:\n",
        "    Explore the ACS data, reduce the dimensionality of quantitative variables and explore if can be linked to patterns in overlaps of ookla and FCC data."
      ],
      "id": "47c45425"
    },
    {
      "cell_type": "markdown",
      "metadata": {
        "id": "d349d324"
      },
      "source": [
        "# Part 1: Reduce ACS dimensionality"
      ],
      "id": "d349d324"
    },
    {
      "cell_type": "code",
      "metadata": {
        "id": "a4bc2604",
        "colab": {
          "base_uri": "https://localhost:8080/"
        },
        "outputId": "22ea7064-7599-408c-e02d-c105f8cbf16e"
      },
      "source": [
        "# This is a library I'm testing, there may be better ways of visualizing this data. \n",
        "# If not, this library may be added to a requirements.txt file in the Github Repo\n",
        "!pip3 install bioinfokit"
      ],
      "id": "a4bc2604",
      "execution_count": 1,
      "outputs": [
        {
          "output_type": "stream",
          "name": "stdout",
          "text": [
            "Collecting bioinfokit\n",
            "  Downloading bioinfokit-2.0.6.tar.gz (84 kB)\n",
            "\u001b[?25l\r\u001b[K     |███▉                            | 10 kB 21.0 MB/s eta 0:00:01\r\u001b[K     |███████▊                        | 20 kB 28.7 MB/s eta 0:00:01\r\u001b[K     |███████████▋                    | 30 kB 15.8 MB/s eta 0:00:01\r\u001b[K     |███████████████▌                | 40 kB 16.9 MB/s eta 0:00:01\r\u001b[K     |███████████████████▍            | 51 kB 11.5 MB/s eta 0:00:01\r\u001b[K     |███████████████████████▎        | 61 kB 12.3 MB/s eta 0:00:01\r\u001b[K     |███████████████████████████▏    | 71 kB 11.2 MB/s eta 0:00:01\r\u001b[K     |███████████████████████████████ | 81 kB 12.3 MB/s eta 0:00:01\r\u001b[K     |████████████████████████████████| 84 kB 2.3 MB/s \n",
            "\u001b[?25hRequirement already satisfied: pandas in /usr/local/lib/python3.7/dist-packages (from bioinfokit) (1.1.5)\n",
            "Requirement already satisfied: numpy in /usr/local/lib/python3.7/dist-packages (from bioinfokit) (1.19.5)\n",
            "Requirement already satisfied: matplotlib in /usr/local/lib/python3.7/dist-packages (from bioinfokit) (3.2.2)\n",
            "Requirement already satisfied: scipy in /usr/local/lib/python3.7/dist-packages (from bioinfokit) (1.4.1)\n",
            "Requirement already satisfied: scikit-learn in /usr/local/lib/python3.7/dist-packages (from bioinfokit) (0.22.2.post1)\n",
            "Requirement already satisfied: seaborn in /usr/local/lib/python3.7/dist-packages (from bioinfokit) (0.11.2)\n",
            "Requirement already satisfied: matplotlib-venn in /usr/local/lib/python3.7/dist-packages (from bioinfokit) (0.11.6)\n",
            "Requirement already satisfied: tabulate in /usr/local/lib/python3.7/dist-packages (from bioinfokit) (0.8.9)\n",
            "Requirement already satisfied: statsmodels in /usr/local/lib/python3.7/dist-packages (from bioinfokit) (0.10.2)\n",
            "Collecting textwrap3\n",
            "  Downloading textwrap3-0.9.2-py2.py3-none-any.whl (12 kB)\n",
            "Collecting adjustText\n",
            "  Downloading adjustText-0.7.3.tar.gz (7.5 kB)\n",
            "Requirement already satisfied: cycler>=0.10 in /usr/local/lib/python3.7/dist-packages (from matplotlib->bioinfokit) (0.10.0)\n",
            "Requirement already satisfied: python-dateutil>=2.1 in /usr/local/lib/python3.7/dist-packages (from matplotlib->bioinfokit) (2.8.2)\n",
            "Requirement already satisfied: kiwisolver>=1.0.1 in /usr/local/lib/python3.7/dist-packages (from matplotlib->bioinfokit) (1.3.2)\n",
            "Requirement already satisfied: pyparsing!=2.0.4,!=2.1.2,!=2.1.6,>=2.0.1 in /usr/local/lib/python3.7/dist-packages (from matplotlib->bioinfokit) (2.4.7)\n",
            "Requirement already satisfied: six in /usr/local/lib/python3.7/dist-packages (from cycler>=0.10->matplotlib->bioinfokit) (1.15.0)\n",
            "Requirement already satisfied: pytz>=2017.2 in /usr/local/lib/python3.7/dist-packages (from pandas->bioinfokit) (2018.9)\n",
            "Requirement already satisfied: joblib>=0.11 in /usr/local/lib/python3.7/dist-packages (from scikit-learn->bioinfokit) (1.0.1)\n",
            "Requirement already satisfied: patsy>=0.4.0 in /usr/local/lib/python3.7/dist-packages (from statsmodels->bioinfokit) (0.5.1)\n",
            "Building wheels for collected packages: bioinfokit, adjustText\n",
            "  Building wheel for bioinfokit (setup.py) ... \u001b[?25l\u001b[?25hdone\n",
            "  Created wheel for bioinfokit: filename=bioinfokit-2.0.6-py3-none-any.whl size=57066 sha256=593c26b73161ba46408010ddbf2efc8618b2c56c7f43e960ee435377e32bdef2\n",
            "  Stored in directory: /root/.cache/pip/wheels/38/b2/a0/3f65c463d3faababa8cb5f3076e3bfc1c49fea2a736a49038a\n",
            "  Building wheel for adjustText (setup.py) ... \u001b[?25l\u001b[?25hdone\n",
            "  Created wheel for adjustText: filename=adjustText-0.7.3-py3-none-any.whl size=7094 sha256=814de70e035a20417bd4eb65c504c98024d0ef51bacd818ad6e93405b49b402d\n",
            "  Stored in directory: /root/.cache/pip/wheels/2f/98/32/afbf902d8f040fadfdf0a44357e4ab750afe165d873bf5893d\n",
            "Successfully built bioinfokit adjustText\n",
            "Installing collected packages: textwrap3, adjustText, bioinfokit\n",
            "Successfully installed adjustText-0.7.3 bioinfokit-2.0.6 textwrap3-0.9.2\n"
          ]
        }
      ]
    },
    {
      "cell_type": "code",
      "metadata": {
        "id": "5fJ5rvFTgher",
        "colab": {
          "base_uri": "https://localhost:8080/"
        },
        "outputId": "a1a92c67-1a04-46d7-d3ff-c3b971dde0e8"
      },
      "source": [
        "!pip3 install geopandas"
      ],
      "id": "5fJ5rvFTgher",
      "execution_count": 2,
      "outputs": [
        {
          "output_type": "stream",
          "name": "stdout",
          "text": [
            "Collecting geopandas\n",
            "  Downloading geopandas-0.9.0-py2.py3-none-any.whl (994 kB)\n",
            "\u001b[K     |████████████████████████████████| 994 kB 12.1 MB/s \n",
            "\u001b[?25hCollecting pyproj>=2.2.0\n",
            "  Downloading pyproj-3.2.1-cp37-cp37m-manylinux2010_x86_64.whl (6.3 MB)\n",
            "\u001b[K     |████████████████████████████████| 6.3 MB 68.8 MB/s \n",
            "\u001b[?25hCollecting fiona>=1.8\n",
            "  Downloading Fiona-1.8.20-cp37-cp37m-manylinux1_x86_64.whl (15.4 MB)\n",
            "\u001b[K     |████████████████████████████████| 15.4 MB 18 kB/s \n",
            "\u001b[?25hRequirement already satisfied: shapely>=1.6 in /usr/local/lib/python3.7/dist-packages (from geopandas) (1.7.1)\n",
            "Requirement already satisfied: pandas>=0.24.0 in /usr/local/lib/python3.7/dist-packages (from geopandas) (1.1.5)\n",
            "Requirement already satisfied: setuptools in /usr/local/lib/python3.7/dist-packages (from fiona>=1.8->geopandas) (57.4.0)\n",
            "Requirement already satisfied: six>=1.7 in /usr/local/lib/python3.7/dist-packages (from fiona>=1.8->geopandas) (1.15.0)\n",
            "Collecting cligj>=0.5\n",
            "  Downloading cligj-0.7.2-py3-none-any.whl (7.1 kB)\n",
            "Requirement already satisfied: click>=4.0 in /usr/local/lib/python3.7/dist-packages (from fiona>=1.8->geopandas) (7.1.2)\n",
            "Collecting click-plugins>=1.0\n",
            "  Downloading click_plugins-1.1.1-py2.py3-none-any.whl (7.5 kB)\n",
            "Requirement already satisfied: certifi in /usr/local/lib/python3.7/dist-packages (from fiona>=1.8->geopandas) (2021.5.30)\n",
            "Collecting munch\n",
            "  Downloading munch-2.5.0-py2.py3-none-any.whl (10 kB)\n",
            "Requirement already satisfied: attrs>=17 in /usr/local/lib/python3.7/dist-packages (from fiona>=1.8->geopandas) (21.2.0)\n",
            "Requirement already satisfied: pytz>=2017.2 in /usr/local/lib/python3.7/dist-packages (from pandas>=0.24.0->geopandas) (2018.9)\n",
            "Requirement already satisfied: numpy>=1.15.4 in /usr/local/lib/python3.7/dist-packages (from pandas>=0.24.0->geopandas) (1.19.5)\n",
            "Requirement already satisfied: python-dateutil>=2.7.3 in /usr/local/lib/python3.7/dist-packages (from pandas>=0.24.0->geopandas) (2.8.2)\n",
            "Installing collected packages: munch, cligj, click-plugins, pyproj, fiona, geopandas\n",
            "Successfully installed click-plugins-1.1.1 cligj-0.7.2 fiona-1.8.20 geopandas-0.9.0 munch-2.5.0 pyproj-3.2.1\n"
          ]
        }
      ]
    },
    {
      "cell_type": "code",
      "metadata": {
        "scrolled": true,
        "id": "33d6f9ff"
      },
      "source": [
        "# Imports\n",
        "import pandas as pd\n",
        "import numpy as np\n",
        "import geopandas as gpd\n",
        "\n",
        "##Machine Learning\n",
        "from sklearn.preprocessing import StandardScaler\n",
        "from sklearn.decomposition import PCA\n",
        "\n",
        "##Data Viz\n",
        "import matplotlib\n",
        "import matplotlib.pyplot as plt\n",
        "import seaborn as sns"
      ],
      "id": "33d6f9ff",
      "execution_count": 3,
      "outputs": []
    },
    {
      "cell_type": "markdown",
      "metadata": {
        "id": "OwSI-XKjn6Dl"
      },
      "source": [
        "There needs to be a better way to read remotely from the DataKind Folder, or the GitHub Folder\n",
        "\n",
        "For now manually reading it from local drive"
      ],
      "id": "OwSI-XKjn6Dl"
    },
    {
      "cell_type": "code",
      "metadata": {
        "id": "MvJMpioUnk0Q",
        "colab": {
          "resources": {
            "http://localhost:8080/nbextensions/google.colab/files.js": {
              "data": "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",
              "ok": true,
              "headers": [
                [
                  "content-type",
                  "application/javascript"
                ]
              ],
              "status": 200,
              "status_text": ""
            }
          },
          "base_uri": "https://localhost:8080/",
          "height": 73
        },
        "outputId": "3df9323b-00e3-4566-91ef-04ded65dee68"
      },
      "source": [
        "from google.colab import files\n",
        "\n",
        "uploaded = files.upload()"
      ],
      "id": "MvJMpioUnk0Q",
      "execution_count": 4,
      "outputs": [
        {
          "output_type": "display_data",
          "data": {
            "text/html": [
              "\n",
              "     <input type=\"file\" id=\"files-d61858f0-07c4-44a3-a794-56a88dc46458\" name=\"files[]\" multiple disabled\n",
              "        style=\"border:none\" />\n",
              "     <output id=\"result-d61858f0-07c4-44a3-a794-56a88dc46458\">\n",
              "      Upload widget is only available when the cell has been executed in the\n",
              "      current browser session. Please rerun this cell to enable.\n",
              "      </output>\n",
              "      <script src=\"/nbextensions/google.colab/files.js\"></script> "
            ],
            "text/plain": [
              "<IPython.core.display.HTML object>"
            ]
          },
          "metadata": {}
        },
        {
          "output_type": "stream",
          "name": "stdout",
          "text": [
            "Saving acs_2019_IL.csv to acs_2019_IL.csv\n"
          ]
        }
      ]
    },
    {
      "cell_type": "code",
      "metadata": {
        "id": "hfMMA665oNU5"
      },
      "source": [
        "fpath = '/content/acs_2019_IL.csv'"
      ],
      "id": "hfMMA665oNU5",
      "execution_count": 7,
      "outputs": []
    },
    {
      "cell_type": "code",
      "metadata": {
        "scrolled": true,
        "id": "bdf522ab"
      },
      "source": [
        "df_acs = pd.read_csv(fpath)"
      ],
      "id": "bdf522ab",
      "execution_count": 9,
      "outputs": []
    },
    {
      "cell_type": "code",
      "metadata": {
        "scrolled": true,
        "id": "afd8e810",
        "colab": {
          "base_uri": "https://localhost:8080/"
        },
        "outputId": "e645a521-ddb3-42e7-86bf-c7df59c66f29"
      },
      "source": [
        "df_acs.shape"
      ],
      "id": "afd8e810",
      "execution_count": 10,
      "outputs": [
        {
          "output_type": "execute_result",
          "data": {
            "text/plain": [
              "(3123, 43)"
            ]
          },
          "metadata": {},
          "execution_count": 10
        }
      ]
    },
    {
      "cell_type": "code",
      "metadata": {
        "id": "6fgaDpNUh8i8"
      },
      "source": [
        "from google.colab import drive\n",
        "#drive.mount('/content/drive')\n",
        "#drive.mount('https://drive.google.com/drive/folders/15GhF-WywcBU3GCbRsE2K_7eKEtj7YifB?usp=sharing')"
      ],
      "id": "6fgaDpNUh8i8",
      "execution_count": 11,
      "outputs": []
    },
    {
      "cell_type": "code",
      "metadata": {
        "scrolled": true,
        "id": "367e5c48"
      },
      "source": [
        "#It would make sense to see as many of the 43 columns as possible\n",
        "pd.set_option(\"display.max_columns\", 50)"
      ],
      "id": "367e5c48",
      "execution_count": 12,
      "outputs": []
    },
    {
      "cell_type": "code",
      "metadata": {
        "scrolled": true,
        "id": "0027813d",
        "colab": {
          "base_uri": "https://localhost:8080/",
          "height": 226
        },
        "outputId": "61ff7b35-74e7-41ac-c5b5-2e79674b5c04"
      },
      "source": [
        "df_acs.head()"
      ],
      "id": "0027813d",
      "execution_count": 13,
      "outputs": [
        {
          "output_type": "execute_result",
          "data": {
            "text/html": [
              "<div>\n",
              "<style scoped>\n",
              "    .dataframe tbody tr th:only-of-type {\n",
              "        vertical-align: middle;\n",
              "    }\n",
              "\n",
              "    .dataframe tbody tr th {\n",
              "        vertical-align: top;\n",
              "    }\n",
              "\n",
              "    .dataframe thead th {\n",
              "        text-align: right;\n",
              "    }\n",
              "</style>\n",
              "<table border=\"1\" class=\"dataframe\">\n",
              "  <thead>\n",
              "    <tr style=\"text-align: right;\">\n",
              "      <th></th>\n",
              "      <th>state</th>\n",
              "      <th>county</th>\n",
              "      <th>tract</th>\n",
              "      <th>geoid</th>\n",
              "      <th>f_broadband</th>\n",
              "      <th>f_computer</th>\n",
              "      <th>f_ba</th>\n",
              "      <th>f_black</th>\n",
              "      <th>f_hispanic</th>\n",
              "      <th>log_mhi</th>\n",
              "      <th>mhi</th>\n",
              "      <th>population</th>\n",
              "      <th>households</th>\n",
              "      <th>broadband</th>\n",
              "      <th>computer</th>\n",
              "      <th>black</th>\n",
              "      <th>hispanic</th>\n",
              "      <th>mhi.1</th>\n",
              "      <th>ba</th>\n",
              "      <th>den_computers</th>\n",
              "      <th>n_computer</th>\n",
              "      <th>n_broadband</th>\n",
              "      <th>den_black</th>\n",
              "      <th>n_black</th>\n",
              "      <th>den_hispanic</th>\n",
              "      <th>n_hispanic</th>\n",
              "      <th>den_ba</th>\n",
              "      <th>n_ba</th>\n",
              "      <th>nhh_computer</th>\n",
              "      <th>nhh_broadband</th>\n",
              "      <th>nhh_computer_any_internet</th>\n",
              "      <th>nhh_computer_and_dialup</th>\n",
              "      <th>nhh_computer_and_broadband</th>\n",
              "      <th>nhh_computer_no_internet</th>\n",
              "      <th>nhh_no_computer</th>\n",
              "      <th>den_age</th>\n",
              "      <th>n_children</th>\n",
              "      <th>n_children_computer</th>\n",
              "      <th>n_children_computer_and_dialup</th>\n",
              "      <th>n_children_computer_and_broadband</th>\n",
              "      <th>n_children_computer_no_internet</th>\n",
              "      <th>n_children_no_computer</th>\n",
              "      <th>state_lkp</th>\n",
              "    </tr>\n",
              "  </thead>\n",
              "  <tbody>\n",
              "    <tr>\n",
              "      <th>0</th>\n",
              "      <td>17</td>\n",
              "      <td>1</td>\n",
              "      <td>100</td>\n",
              "      <td>17001000100</td>\n",
              "      <td>0.813</td>\n",
              "      <td>0.861</td>\n",
              "      <td>0.246</td>\n",
              "      <td>0.068</td>\n",
              "      <td>0.000</td>\n",
              "      <td>10.78</td>\n",
              "      <td>48088.0</td>\n",
              "      <td>4761.0</td>\n",
              "      <td>2202.0</td>\n",
              "      <td>81.3</td>\n",
              "      <td>86.1</td>\n",
              "      <td>6.8</td>\n",
              "      <td>0.0</td>\n",
              "      <td>48088.0</td>\n",
              "      <td>24.6</td>\n",
              "      <td>2202.0</td>\n",
              "      <td>1896.0</td>\n",
              "      <td>1791.0</td>\n",
              "      <td>4761.0</td>\n",
              "      <td>324.0</td>\n",
              "      <td>4761.0</td>\n",
              "      <td>0.0</td>\n",
              "      <td>3381.0</td>\n",
              "      <td>831.0</td>\n",
              "      <td>1896</td>\n",
              "      <td>1791</td>\n",
              "      <td>1896</td>\n",
              "      <td>0</td>\n",
              "      <td>1791</td>\n",
              "      <td>105</td>\n",
              "      <td>306</td>\n",
              "      <td>4741</td>\n",
              "      <td>1044</td>\n",
              "      <td>1044</td>\n",
              "      <td>0</td>\n",
              "      <td>978</td>\n",
              "      <td>66</td>\n",
              "      <td>0</td>\n",
              "      <td>17</td>\n",
              "    </tr>\n",
              "    <tr>\n",
              "      <th>1</th>\n",
              "      <td>17</td>\n",
              "      <td>1</td>\n",
              "      <td>201</td>\n",
              "      <td>17001000201</td>\n",
              "      <td>0.879</td>\n",
              "      <td>0.940</td>\n",
              "      <td>0.266</td>\n",
              "      <td>0.078</td>\n",
              "      <td>0.016</td>\n",
              "      <td>10.71</td>\n",
              "      <td>44855.0</td>\n",
              "      <td>1985.0</td>\n",
              "      <td>889.0</td>\n",
              "      <td>87.9</td>\n",
              "      <td>94.0</td>\n",
              "      <td>7.8</td>\n",
              "      <td>1.6</td>\n",
              "      <td>44855.0</td>\n",
              "      <td>26.6</td>\n",
              "      <td>889.0</td>\n",
              "      <td>836.0</td>\n",
              "      <td>781.0</td>\n",
              "      <td>1985.0</td>\n",
              "      <td>155.0</td>\n",
              "      <td>1985.0</td>\n",
              "      <td>32.0</td>\n",
              "      <td>1400.0</td>\n",
              "      <td>373.0</td>\n",
              "      <td>836</td>\n",
              "      <td>781</td>\n",
              "      <td>836</td>\n",
              "      <td>5</td>\n",
              "      <td>781</td>\n",
              "      <td>50</td>\n",
              "      <td>53</td>\n",
              "      <td>1961</td>\n",
              "      <td>383</td>\n",
              "      <td>383</td>\n",
              "      <td>0</td>\n",
              "      <td>383</td>\n",
              "      <td>0</td>\n",
              "      <td>0</td>\n",
              "      <td>17</td>\n",
              "    </tr>\n",
              "    <tr>\n",
              "      <th>2</th>\n",
              "      <td>17</td>\n",
              "      <td>1</td>\n",
              "      <td>202</td>\n",
              "      <td>17001000202</td>\n",
              "      <td>0.863</td>\n",
              "      <td>0.933</td>\n",
              "      <td>0.221</td>\n",
              "      <td>0.080</td>\n",
              "      <td>0.008</td>\n",
              "      <td>10.83</td>\n",
              "      <td>50375.0</td>\n",
              "      <td>2376.0</td>\n",
              "      <td>970.0</td>\n",
              "      <td>86.3</td>\n",
              "      <td>93.3</td>\n",
              "      <td>8.0</td>\n",
              "      <td>0.8</td>\n",
              "      <td>50375.0</td>\n",
              "      <td>22.1</td>\n",
              "      <td>970.0</td>\n",
              "      <td>905.0</td>\n",
              "      <td>837.0</td>\n",
              "      <td>2376.0</td>\n",
              "      <td>191.0</td>\n",
              "      <td>2376.0</td>\n",
              "      <td>19.0</td>\n",
              "      <td>1527.0</td>\n",
              "      <td>338.0</td>\n",
              "      <td>905</td>\n",
              "      <td>837</td>\n",
              "      <td>905</td>\n",
              "      <td>7</td>\n",
              "      <td>829</td>\n",
              "      <td>69</td>\n",
              "      <td>65</td>\n",
              "      <td>2336</td>\n",
              "      <td>521</td>\n",
              "      <td>521</td>\n",
              "      <td>0</td>\n",
              "      <td>498</td>\n",
              "      <td>23</td>\n",
              "      <td>0</td>\n",
              "      <td>17</td>\n",
              "    </tr>\n",
              "    <tr>\n",
              "      <th>3</th>\n",
              "      <td>17</td>\n",
              "      <td>1</td>\n",
              "      <td>400</td>\n",
              "      <td>17001000400</td>\n",
              "      <td>0.691</td>\n",
              "      <td>0.780</td>\n",
              "      <td>0.094</td>\n",
              "      <td>0.182</td>\n",
              "      <td>0.006</td>\n",
              "      <td>10.31</td>\n",
              "      <td>30164.0</td>\n",
              "      <td>3422.0</td>\n",
              "      <td>1316.0</td>\n",
              "      <td>69.1</td>\n",
              "      <td>78.0</td>\n",
              "      <td>18.2</td>\n",
              "      <td>0.6</td>\n",
              "      <td>30164.0</td>\n",
              "      <td>9.4</td>\n",
              "      <td>1316.0</td>\n",
              "      <td>1027.0</td>\n",
              "      <td>909.0</td>\n",
              "      <td>3422.0</td>\n",
              "      <td>624.0</td>\n",
              "      <td>3422.0</td>\n",
              "      <td>20.0</td>\n",
              "      <td>2536.0</td>\n",
              "      <td>238.0</td>\n",
              "      <td>1027</td>\n",
              "      <td>909</td>\n",
              "      <td>1027</td>\n",
              "      <td>9</td>\n",
              "      <td>909</td>\n",
              "      <td>109</td>\n",
              "      <td>289</td>\n",
              "      <td>3147</td>\n",
              "      <td>645</td>\n",
              "      <td>637</td>\n",
              "      <td>0</td>\n",
              "      <td>619</td>\n",
              "      <td>18</td>\n",
              "      <td>8</td>\n",
              "      <td>17</td>\n",
              "    </tr>\n",
              "    <tr>\n",
              "      <th>4</th>\n",
              "      <td>17</td>\n",
              "      <td>1</td>\n",
              "      <td>500</td>\n",
              "      <td>17001000500</td>\n",
              "      <td>0.665</td>\n",
              "      <td>0.787</td>\n",
              "      <td>0.113</td>\n",
              "      <td>0.133</td>\n",
              "      <td>0.035</td>\n",
              "      <td>10.62</td>\n",
              "      <td>41008.0</td>\n",
              "      <td>2175.0</td>\n",
              "      <td>813.0</td>\n",
              "      <td>66.5</td>\n",
              "      <td>78.7</td>\n",
              "      <td>13.3</td>\n",
              "      <td>3.5</td>\n",
              "      <td>41008.0</td>\n",
              "      <td>11.3</td>\n",
              "      <td>813.0</td>\n",
              "      <td>640.0</td>\n",
              "      <td>541.0</td>\n",
              "      <td>2175.0</td>\n",
              "      <td>290.0</td>\n",
              "      <td>2175.0</td>\n",
              "      <td>77.0</td>\n",
              "      <td>1455.0</td>\n",
              "      <td>165.0</td>\n",
              "      <td>640</td>\n",
              "      <td>541</td>\n",
              "      <td>640</td>\n",
              "      <td>0</td>\n",
              "      <td>536</td>\n",
              "      <td>104</td>\n",
              "      <td>173</td>\n",
              "      <td>1878</td>\n",
              "      <td>475</td>\n",
              "      <td>458</td>\n",
              "      <td>0</td>\n",
              "      <td>434</td>\n",
              "      <td>24</td>\n",
              "      <td>17</td>\n",
              "      <td>17</td>\n",
              "    </tr>\n",
              "  </tbody>\n",
              "</table>\n",
              "</div>"
            ],
            "text/plain": [
              "   state  county  tract        geoid  f_broadband  f_computer   f_ba  f_black  \\\n",
              "0     17       1    100  17001000100        0.813       0.861  0.246    0.068   \n",
              "1     17       1    201  17001000201        0.879       0.940  0.266    0.078   \n",
              "2     17       1    202  17001000202        0.863       0.933  0.221    0.080   \n",
              "3     17       1    400  17001000400        0.691       0.780  0.094    0.182   \n",
              "4     17       1    500  17001000500        0.665       0.787  0.113    0.133   \n",
              "\n",
              "   f_hispanic  log_mhi      mhi  population  households  broadband  computer  \\\n",
              "0       0.000    10.78  48088.0      4761.0      2202.0       81.3      86.1   \n",
              "1       0.016    10.71  44855.0      1985.0       889.0       87.9      94.0   \n",
              "2       0.008    10.83  50375.0      2376.0       970.0       86.3      93.3   \n",
              "3       0.006    10.31  30164.0      3422.0      1316.0       69.1      78.0   \n",
              "4       0.035    10.62  41008.0      2175.0       813.0       66.5      78.7   \n",
              "\n",
              "   black  hispanic    mhi.1    ba  den_computers  n_computer  n_broadband  \\\n",
              "0    6.8       0.0  48088.0  24.6         2202.0      1896.0       1791.0   \n",
              "1    7.8       1.6  44855.0  26.6          889.0       836.0        781.0   \n",
              "2    8.0       0.8  50375.0  22.1          970.0       905.0        837.0   \n",
              "3   18.2       0.6  30164.0   9.4         1316.0      1027.0        909.0   \n",
              "4   13.3       3.5  41008.0  11.3          813.0       640.0        541.0   \n",
              "\n",
              "   den_black  n_black  den_hispanic  n_hispanic  den_ba   n_ba  nhh_computer  \\\n",
              "0     4761.0    324.0        4761.0         0.0  3381.0  831.0          1896   \n",
              "1     1985.0    155.0        1985.0        32.0  1400.0  373.0           836   \n",
              "2     2376.0    191.0        2376.0        19.0  1527.0  338.0           905   \n",
              "3     3422.0    624.0        3422.0        20.0  2536.0  238.0          1027   \n",
              "4     2175.0    290.0        2175.0        77.0  1455.0  165.0           640   \n",
              "\n",
              "   nhh_broadband  nhh_computer_any_internet  nhh_computer_and_dialup  \\\n",
              "0           1791                       1896                        0   \n",
              "1            781                        836                        5   \n",
              "2            837                        905                        7   \n",
              "3            909                       1027                        9   \n",
              "4            541                        640                        0   \n",
              "\n",
              "   nhh_computer_and_broadband  nhh_computer_no_internet  nhh_no_computer  \\\n",
              "0                        1791                       105              306   \n",
              "1                         781                        50               53   \n",
              "2                         829                        69               65   \n",
              "3                         909                       109              289   \n",
              "4                         536                       104              173   \n",
              "\n",
              "   den_age  n_children  n_children_computer  n_children_computer_and_dialup  \\\n",
              "0     4741        1044                 1044                               0   \n",
              "1     1961         383                  383                               0   \n",
              "2     2336         521                  521                               0   \n",
              "3     3147         645                  637                               0   \n",
              "4     1878         475                  458                               0   \n",
              "\n",
              "   n_children_computer_and_broadband  n_children_computer_no_internet  \\\n",
              "0                                978                               66   \n",
              "1                                383                                0   \n",
              "2                                498                               23   \n",
              "3                                619                               18   \n",
              "4                                434                               24   \n",
              "\n",
              "   n_children_no_computer  state_lkp  \n",
              "0                       0         17  \n",
              "1                       0         17  \n",
              "2                       0         17  \n",
              "3                       8         17  \n",
              "4                      17         17  "
            ]
          },
          "metadata": {},
          "execution_count": 13
        }
      ]
    },
    {
      "cell_type": "code",
      "metadata": {
        "scrolled": false,
        "id": "a723d2c4",
        "colab": {
          "base_uri": "https://localhost:8080/",
          "height": 320
        },
        "outputId": "9dccbd4c-07f9-42a7-b714-611bc62abeb5"
      },
      "source": [
        "df_acs.describe()"
      ],
      "id": "a723d2c4",
      "execution_count": 14,
      "outputs": [
        {
          "output_type": "execute_result",
          "data": {
            "text/html": [
              "<div>\n",
              "<style scoped>\n",
              "    .dataframe tbody tr th:only-of-type {\n",
              "        vertical-align: middle;\n",
              "    }\n",
              "\n",
              "    .dataframe tbody tr th {\n",
              "        vertical-align: top;\n",
              "    }\n",
              "\n",
              "    .dataframe thead th {\n",
              "        text-align: right;\n",
              "    }\n",
              "</style>\n",
              "<table border=\"1\" class=\"dataframe\">\n",
              "  <thead>\n",
              "    <tr style=\"text-align: right;\">\n",
              "      <th></th>\n",
              "      <th>state</th>\n",
              "      <th>county</th>\n",
              "      <th>tract</th>\n",
              "      <th>geoid</th>\n",
              "      <th>f_broadband</th>\n",
              "      <th>f_computer</th>\n",
              "      <th>f_ba</th>\n",
              "      <th>f_black</th>\n",
              "      <th>f_hispanic</th>\n",
              "      <th>log_mhi</th>\n",
              "      <th>mhi</th>\n",
              "      <th>population</th>\n",
              "      <th>households</th>\n",
              "      <th>broadband</th>\n",
              "      <th>computer</th>\n",
              "      <th>black</th>\n",
              "      <th>hispanic</th>\n",
              "      <th>mhi.1</th>\n",
              "      <th>ba</th>\n",
              "      <th>den_computers</th>\n",
              "      <th>n_computer</th>\n",
              "      <th>n_broadband</th>\n",
              "      <th>den_black</th>\n",
              "      <th>n_black</th>\n",
              "      <th>den_hispanic</th>\n",
              "      <th>n_hispanic</th>\n",
              "      <th>den_ba</th>\n",
              "      <th>n_ba</th>\n",
              "      <th>nhh_computer</th>\n",
              "      <th>nhh_broadband</th>\n",
              "      <th>nhh_computer_any_internet</th>\n",
              "      <th>nhh_computer_and_dialup</th>\n",
              "      <th>nhh_computer_and_broadband</th>\n",
              "      <th>nhh_computer_no_internet</th>\n",
              "      <th>nhh_no_computer</th>\n",
              "      <th>den_age</th>\n",
              "      <th>n_children</th>\n",
              "      <th>n_children_computer</th>\n",
              "      <th>n_children_computer_and_dialup</th>\n",
              "      <th>n_children_computer_and_broadband</th>\n",
              "      <th>n_children_computer_no_internet</th>\n",
              "      <th>n_children_no_computer</th>\n",
              "      <th>state_lkp</th>\n",
              "    </tr>\n",
              "  </thead>\n",
              "  <tbody>\n",
              "    <tr>\n",
              "      <th>count</th>\n",
              "      <td>3123.0</td>\n",
              "      <td>3123.00000</td>\n",
              "      <td>3123.000000</td>\n",
              "      <td>3.123000e+03</td>\n",
              "      <td>3.123000e+03</td>\n",
              "      <td>3.123000e+03</td>\n",
              "      <td>3.123000e+03</td>\n",
              "      <td>3.123000e+03</td>\n",
              "      <td>3.123000e+03</td>\n",
              "      <td>3110.000000</td>\n",
              "      <td>3.123000e+03</td>\n",
              "      <td>3123.000000</td>\n",
              "      <td>3123.000000</td>\n",
              "      <td>3.123000e+03</td>\n",
              "      <td>3.123000e+03</td>\n",
              "      <td>3.123000e+03</td>\n",
              "      <td>3.123000e+03</td>\n",
              "      <td>3.123000e+03</td>\n",
              "      <td>3.123000e+03</td>\n",
              "      <td>3123.000000</td>\n",
              "      <td>3123.000000</td>\n",
              "      <td>3123.000000</td>\n",
              "      <td>3123.000000</td>\n",
              "      <td>3123.000000</td>\n",
              "      <td>3123.000000</td>\n",
              "      <td>3123.000000</td>\n",
              "      <td>3123.000000</td>\n",
              "      <td>3123.000000</td>\n",
              "      <td>3123.000000</td>\n",
              "      <td>3123.000000</td>\n",
              "      <td>3123.000000</td>\n",
              "      <td>3123.000000</td>\n",
              "      <td>3123.000000</td>\n",
              "      <td>3123.000000</td>\n",
              "      <td>3123.000000</td>\n",
              "      <td>3123.000000</td>\n",
              "      <td>3123.000000</td>\n",
              "      <td>3123.000000</td>\n",
              "      <td>3123.000000</td>\n",
              "      <td>3123.000000</td>\n",
              "      <td>3123.000000</td>\n",
              "      <td>3123.000000</td>\n",
              "      <td>3123.0</td>\n",
              "    </tr>\n",
              "    <tr>\n",
              "      <th>mean</th>\n",
              "      <td>17.0</td>\n",
              "      <td>77.84342</td>\n",
              "      <td>550658.070445</td>\n",
              "      <td>1.707839e+10</td>\n",
              "      <td>-1.707679e+04</td>\n",
              "      <td>-1.707671e+04</td>\n",
              "      <td>-1.494257e+04</td>\n",
              "      <td>-1.494271e+04</td>\n",
              "      <td>-1.494274e+04</td>\n",
              "      <td>11.021341</td>\n",
              "      <td>-2.706551e+06</td>\n",
              "      <td>4089.219020</td>\n",
              "      <td>1551.756004</td>\n",
              "      <td>-1.707679e+06</td>\n",
              "      <td>-1.707671e+06</td>\n",
              "      <td>-1.494271e+06</td>\n",
              "      <td>-1.494274e+06</td>\n",
              "      <td>-2.706551e+06</td>\n",
              "      <td>-1.494257e+06</td>\n",
              "      <td>1551.756004</td>\n",
              "      <td>1394.305796</td>\n",
              "      <td>1283.443484</td>\n",
              "      <td>4089.219020</td>\n",
              "      <td>626.099584</td>\n",
              "      <td>4089.219020</td>\n",
              "      <td>700.091899</td>\n",
              "      <td>2781.395773</td>\n",
              "      <td>963.824848</td>\n",
              "      <td>1394.305796</td>\n",
              "      <td>1283.443484</td>\n",
              "      <td>1394.305796</td>\n",
              "      <td>5.422991</td>\n",
              "      <td>1272.642331</td>\n",
              "      <td>116.240474</td>\n",
              "      <td>157.450208</td>\n",
              "      <td>3994.042267</td>\n",
              "      <td>924.236631</td>\n",
              "      <td>899.917707</td>\n",
              "      <td>1.065962</td>\n",
              "      <td>842.127121</td>\n",
              "      <td>56.724624</td>\n",
              "      <td>24.318924</td>\n",
              "      <td>17.0</td>\n",
              "    </tr>\n",
              "    <tr>\n",
              "      <th>std</th>\n",
              "      <td>0.0</td>\n",
              "      <td>59.65828</td>\n",
              "      <td>371654.169982</td>\n",
              "      <td>5.960782e+07</td>\n",
              "      <td>3.370392e+05</td>\n",
              "      <td>3.370392e+05</td>\n",
              "      <td>3.153218e+05</td>\n",
              "      <td>3.153218e+05</td>\n",
              "      <td>3.153218e+05</td>\n",
              "      <td>0.498528</td>\n",
              "      <td>4.293418e+07</td>\n",
              "      <td>2008.694842</td>\n",
              "      <td>766.964873</td>\n",
              "      <td>3.370392e+07</td>\n",
              "      <td>3.370392e+07</td>\n",
              "      <td>3.153218e+07</td>\n",
              "      <td>3.153218e+07</td>\n",
              "      <td>4.293418e+07</td>\n",
              "      <td>3.153218e+07</td>\n",
              "      <td>766.964873</td>\n",
              "      <td>741.175944</td>\n",
              "      <td>710.599870</td>\n",
              "      <td>2008.694842</td>\n",
              "      <td>980.364285</td>\n",
              "      <td>2008.694842</td>\n",
              "      <td>1054.395723</td>\n",
              "      <td>1375.622715</td>\n",
              "      <td>893.324306</td>\n",
              "      <td>741.175944</td>\n",
              "      <td>710.599870</td>\n",
              "      <td>741.175944</td>\n",
              "      <td>9.220730</td>\n",
              "      <td>707.715562</td>\n",
              "      <td>90.546020</td>\n",
              "      <td>108.225979</td>\n",
              "      <td>1999.898186</td>\n",
              "      <td>572.032757</td>\n",
              "      <td>568.291095</td>\n",
              "      <td>6.939161</td>\n",
              "      <td>553.018746</td>\n",
              "      <td>79.491556</td>\n",
              "      <td>49.936912</td>\n",
              "      <td>0.0</td>\n",
              "    </tr>\n",
              "    <tr>\n",
              "      <th>min</th>\n",
              "      <td>17.0</td>\n",
              "      <td>1.00000</td>\n",
              "      <td>100.000000</td>\n",
              "      <td>1.700100e+10</td>\n",
              "      <td>-6.666667e+06</td>\n",
              "      <td>-6.666667e+06</td>\n",
              "      <td>-6.666667e+06</td>\n",
              "      <td>-6.666667e+06</td>\n",
              "      <td>-6.666667e+06</td>\n",
              "      <td>8.260000</td>\n",
              "      <td>-6.666667e+08</td>\n",
              "      <td>0.000000</td>\n",
              "      <td>0.000000</td>\n",
              "      <td>-6.666667e+08</td>\n",
              "      <td>-6.666667e+08</td>\n",
              "      <td>-6.666667e+08</td>\n",
              "      <td>-6.666667e+08</td>\n",
              "      <td>-6.666667e+08</td>\n",
              "      <td>-6.666667e+08</td>\n",
              "      <td>0.000000</td>\n",
              "      <td>0.000000</td>\n",
              "      <td>0.000000</td>\n",
              "      <td>0.000000</td>\n",
              "      <td>0.000000</td>\n",
              "      <td>0.000000</td>\n",
              "      <td>0.000000</td>\n",
              "      <td>0.000000</td>\n",
              "      <td>0.000000</td>\n",
              "      <td>0.000000</td>\n",
              "      <td>0.000000</td>\n",
              "      <td>0.000000</td>\n",
              "      <td>0.000000</td>\n",
              "      <td>0.000000</td>\n",
              "      <td>0.000000</td>\n",
              "      <td>0.000000</td>\n",
              "      <td>0.000000</td>\n",
              "      <td>0.000000</td>\n",
              "      <td>0.000000</td>\n",
              "      <td>0.000000</td>\n",
              "      <td>0.000000</td>\n",
              "      <td>0.000000</td>\n",
              "      <td>0.000000</td>\n",
              "      <td>17.0</td>\n",
              "    </tr>\n",
              "    <tr>\n",
              "      <th>25%</th>\n",
              "      <td>17.0</td>\n",
              "      <td>31.00000</td>\n",
              "      <td>71450.000000</td>\n",
              "      <td>1.703171e+10</td>\n",
              "      <td>7.510000e-01</td>\n",
              "      <td>8.480000e-01</td>\n",
              "      <td>1.590000e-01</td>\n",
              "      <td>1.700000e-02</td>\n",
              "      <td>2.600000e-02</td>\n",
              "      <td>10.740000</td>\n",
              "      <td>4.589250e+04</td>\n",
              "      <td>2728.500000</td>\n",
              "      <td>1067.000000</td>\n",
              "      <td>7.510000e+01</td>\n",
              "      <td>8.480000e+01</td>\n",
              "      <td>1.700000e+00</td>\n",
              "      <td>2.600000e+00</td>\n",
              "      <td>4.589250e+04</td>\n",
              "      <td>1.590000e+01</td>\n",
              "      <td>1067.000000</td>\n",
              "      <td>927.000000</td>\n",
              "      <td>832.000000</td>\n",
              "      <td>2728.500000</td>\n",
              "      <td>64.000000</td>\n",
              "      <td>2728.500000</td>\n",
              "      <td>84.500000</td>\n",
              "      <td>1861.000000</td>\n",
              "      <td>342.500000</td>\n",
              "      <td>927.000000</td>\n",
              "      <td>832.000000</td>\n",
              "      <td>927.000000</td>\n",
              "      <td>0.000000</td>\n",
              "      <td>821.500000</td>\n",
              "      <td>56.000000</td>\n",
              "      <td>78.000000</td>\n",
              "      <td>2641.500000</td>\n",
              "      <td>553.000000</td>\n",
              "      <td>537.000000</td>\n",
              "      <td>0.000000</td>\n",
              "      <td>489.000000</td>\n",
              "      <td>0.000000</td>\n",
              "      <td>0.000000</td>\n",
              "      <td>17.0</td>\n",
              "    </tr>\n",
              "    <tr>\n",
              "      <th>50%</th>\n",
              "      <td>17.0</td>\n",
              "      <td>43.00000</td>\n",
              "      <td>804102.000000</td>\n",
              "      <td>1.704384e+10</td>\n",
              "      <td>8.230000e-01</td>\n",
              "      <td>8.980000e-01</td>\n",
              "      <td>2.620000e-01</td>\n",
              "      <td>5.200000e-02</td>\n",
              "      <td>7.500000e-02</td>\n",
              "      <td>11.030000</td>\n",
              "      <td>6.132400e+04</td>\n",
              "      <td>3825.000000</td>\n",
              "      <td>1449.000000</td>\n",
              "      <td>8.230000e+01</td>\n",
              "      <td>8.980000e+01</td>\n",
              "      <td>5.200000e+00</td>\n",
              "      <td>7.500000e+00</td>\n",
              "      <td>6.132400e+04</td>\n",
              "      <td>2.620000e+01</td>\n",
              "      <td>1449.000000</td>\n",
              "      <td>1291.000000</td>\n",
              "      <td>1187.000000</td>\n",
              "      <td>3825.000000</td>\n",
              "      <td>204.000000</td>\n",
              "      <td>3825.000000</td>\n",
              "      <td>285.000000</td>\n",
              "      <td>2621.000000</td>\n",
              "      <td>692.000000</td>\n",
              "      <td>1291.000000</td>\n",
              "      <td>1187.000000</td>\n",
              "      <td>1291.000000</td>\n",
              "      <td>0.000000</td>\n",
              "      <td>1174.000000</td>\n",
              "      <td>96.000000</td>\n",
              "      <td>141.000000</td>\n",
              "      <td>3735.000000</td>\n",
              "      <td>833.000000</td>\n",
              "      <td>806.000000</td>\n",
              "      <td>0.000000</td>\n",
              "      <td>743.000000</td>\n",
              "      <td>28.000000</td>\n",
              "      <td>0.000000</td>\n",
              "      <td>17.0</td>\n",
              "    </tr>\n",
              "    <tr>\n",
              "      <th>75%</th>\n",
              "      <td>17.0</td>\n",
              "      <td>115.00000</td>\n",
              "      <td>851700.500000</td>\n",
              "      <td>1.711500e+10</td>\n",
              "      <td>8.920000e-01</td>\n",
              "      <td>9.430000e-01</td>\n",
              "      <td>4.530000e-01</td>\n",
              "      <td>1.905000e-01</td>\n",
              "      <td>1.920000e-01</td>\n",
              "      <td>11.350000</td>\n",
              "      <td>8.519600e+04</td>\n",
              "      <td>5111.500000</td>\n",
              "      <td>1915.500000</td>\n",
              "      <td>8.920000e+01</td>\n",
              "      <td>9.430000e+01</td>\n",
              "      <td>1.905000e+01</td>\n",
              "      <td>1.920000e+01</td>\n",
              "      <td>8.519600e+04</td>\n",
              "      <td>4.530000e+01</td>\n",
              "      <td>1915.500000</td>\n",
              "      <td>1734.000000</td>\n",
              "      <td>1619.000000</td>\n",
              "      <td>5111.500000</td>\n",
              "      <td>753.000000</td>\n",
              "      <td>5111.500000</td>\n",
              "      <td>801.000000</td>\n",
              "      <td>3455.000000</td>\n",
              "      <td>1375.000000</td>\n",
              "      <td>1734.000000</td>\n",
              "      <td>1619.000000</td>\n",
              "      <td>1734.000000</td>\n",
              "      <td>9.000000</td>\n",
              "      <td>1606.500000</td>\n",
              "      <td>155.000000</td>\n",
              "      <td>211.000000</td>\n",
              "      <td>4965.000000</td>\n",
              "      <td>1171.500000</td>\n",
              "      <td>1144.500000</td>\n",
              "      <td>0.000000</td>\n",
              "      <td>1085.000000</td>\n",
              "      <td>78.000000</td>\n",
              "      <td>28.000000</td>\n",
              "      <td>17.0</td>\n",
              "    </tr>\n",
              "    <tr>\n",
              "      <th>max</th>\n",
              "      <td>17.0</td>\n",
              "      <td>203.00000</td>\n",
              "      <td>990000.000000</td>\n",
              "      <td>1.720303e+10</td>\n",
              "      <td>1.000000e+00</td>\n",
              "      <td>1.000000e+00</td>\n",
              "      <td>9.590000e-01</td>\n",
              "      <td>1.000000e+00</td>\n",
              "      <td>9.910000e-01</td>\n",
              "      <td>12.430000</td>\n",
              "      <td>2.500010e+05</td>\n",
              "      <td>29089.000000</td>\n",
              "      <td>12017.000000</td>\n",
              "      <td>1.000000e+02</td>\n",
              "      <td>1.000000e+02</td>\n",
              "      <td>1.000000e+02</td>\n",
              "      <td>9.910000e+01</td>\n",
              "      <td>2.500010e+05</td>\n",
              "      <td>9.590000e+01</td>\n",
              "      <td>12017.000000</td>\n",
              "      <td>11646.000000</td>\n",
              "      <td>11212.000000</td>\n",
              "      <td>29089.000000</td>\n",
              "      <td>7301.000000</td>\n",
              "      <td>29089.000000</td>\n",
              "      <td>8647.000000</td>\n",
              "      <td>17986.000000</td>\n",
              "      <td>13216.000000</td>\n",
              "      <td>11646.000000</td>\n",
              "      <td>11212.000000</td>\n",
              "      <td>11646.000000</td>\n",
              "      <td>77.000000</td>\n",
              "      <td>11030.000000</td>\n",
              "      <td>1431.000000</td>\n",
              "      <td>945.000000</td>\n",
              "      <td>28855.000000</td>\n",
              "      <td>8998.000000</td>\n",
              "      <td>8998.000000</td>\n",
              "      <td>196.000000</td>\n",
              "      <td>8989.000000</td>\n",
              "      <td>800.000000</td>\n",
              "      <td>703.000000</td>\n",
              "      <td>17.0</td>\n",
              "    </tr>\n",
              "  </tbody>\n",
              "</table>\n",
              "</div>"
            ],
            "text/plain": [
              "        state      county          tract         geoid   f_broadband  \\\n",
              "count  3123.0  3123.00000    3123.000000  3.123000e+03  3.123000e+03   \n",
              "mean     17.0    77.84342  550658.070445  1.707839e+10 -1.707679e+04   \n",
              "std       0.0    59.65828  371654.169982  5.960782e+07  3.370392e+05   \n",
              "min      17.0     1.00000     100.000000  1.700100e+10 -6.666667e+06   \n",
              "25%      17.0    31.00000   71450.000000  1.703171e+10  7.510000e-01   \n",
              "50%      17.0    43.00000  804102.000000  1.704384e+10  8.230000e-01   \n",
              "75%      17.0   115.00000  851700.500000  1.711500e+10  8.920000e-01   \n",
              "max      17.0   203.00000  990000.000000  1.720303e+10  1.000000e+00   \n",
              "\n",
              "         f_computer          f_ba       f_black    f_hispanic      log_mhi  \\\n",
              "count  3.123000e+03  3.123000e+03  3.123000e+03  3.123000e+03  3110.000000   \n",
              "mean  -1.707671e+04 -1.494257e+04 -1.494271e+04 -1.494274e+04    11.021341   \n",
              "std    3.370392e+05  3.153218e+05  3.153218e+05  3.153218e+05     0.498528   \n",
              "min   -6.666667e+06 -6.666667e+06 -6.666667e+06 -6.666667e+06     8.260000   \n",
              "25%    8.480000e-01  1.590000e-01  1.700000e-02  2.600000e-02    10.740000   \n",
              "50%    8.980000e-01  2.620000e-01  5.200000e-02  7.500000e-02    11.030000   \n",
              "75%    9.430000e-01  4.530000e-01  1.905000e-01  1.920000e-01    11.350000   \n",
              "max    1.000000e+00  9.590000e-01  1.000000e+00  9.910000e-01    12.430000   \n",
              "\n",
              "                mhi    population    households     broadband      computer  \\\n",
              "count  3.123000e+03   3123.000000   3123.000000  3.123000e+03  3.123000e+03   \n",
              "mean  -2.706551e+06   4089.219020   1551.756004 -1.707679e+06 -1.707671e+06   \n",
              "std    4.293418e+07   2008.694842    766.964873  3.370392e+07  3.370392e+07   \n",
              "min   -6.666667e+08      0.000000      0.000000 -6.666667e+08 -6.666667e+08   \n",
              "25%    4.589250e+04   2728.500000   1067.000000  7.510000e+01  8.480000e+01   \n",
              "50%    6.132400e+04   3825.000000   1449.000000  8.230000e+01  8.980000e+01   \n",
              "75%    8.519600e+04   5111.500000   1915.500000  8.920000e+01  9.430000e+01   \n",
              "max    2.500010e+05  29089.000000  12017.000000  1.000000e+02  1.000000e+02   \n",
              "\n",
              "              black      hispanic         mhi.1            ba  den_computers  \\\n",
              "count  3.123000e+03  3.123000e+03  3.123000e+03  3.123000e+03    3123.000000   \n",
              "mean  -1.494271e+06 -1.494274e+06 -2.706551e+06 -1.494257e+06    1551.756004   \n",
              "std    3.153218e+07  3.153218e+07  4.293418e+07  3.153218e+07     766.964873   \n",
              "min   -6.666667e+08 -6.666667e+08 -6.666667e+08 -6.666667e+08       0.000000   \n",
              "25%    1.700000e+00  2.600000e+00  4.589250e+04  1.590000e+01    1067.000000   \n",
              "50%    5.200000e+00  7.500000e+00  6.132400e+04  2.620000e+01    1449.000000   \n",
              "75%    1.905000e+01  1.920000e+01  8.519600e+04  4.530000e+01    1915.500000   \n",
              "max    1.000000e+02  9.910000e+01  2.500010e+05  9.590000e+01   12017.000000   \n",
              "\n",
              "         n_computer   n_broadband     den_black      n_black  den_hispanic  \\\n",
              "count   3123.000000   3123.000000   3123.000000  3123.000000   3123.000000   \n",
              "mean    1394.305796   1283.443484   4089.219020   626.099584   4089.219020   \n",
              "std      741.175944    710.599870   2008.694842   980.364285   2008.694842   \n",
              "min        0.000000      0.000000      0.000000     0.000000      0.000000   \n",
              "25%      927.000000    832.000000   2728.500000    64.000000   2728.500000   \n",
              "50%     1291.000000   1187.000000   3825.000000   204.000000   3825.000000   \n",
              "75%     1734.000000   1619.000000   5111.500000   753.000000   5111.500000   \n",
              "max    11646.000000  11212.000000  29089.000000  7301.000000  29089.000000   \n",
              "\n",
              "        n_hispanic        den_ba          n_ba  nhh_computer  nhh_broadband  \\\n",
              "count  3123.000000   3123.000000   3123.000000   3123.000000    3123.000000   \n",
              "mean    700.091899   2781.395773    963.824848   1394.305796    1283.443484   \n",
              "std    1054.395723   1375.622715    893.324306    741.175944     710.599870   \n",
              "min       0.000000      0.000000      0.000000      0.000000       0.000000   \n",
              "25%      84.500000   1861.000000    342.500000    927.000000     832.000000   \n",
              "50%     285.000000   2621.000000    692.000000   1291.000000    1187.000000   \n",
              "75%     801.000000   3455.000000   1375.000000   1734.000000    1619.000000   \n",
              "max    8647.000000  17986.000000  13216.000000  11646.000000   11212.000000   \n",
              "\n",
              "       nhh_computer_any_internet  nhh_computer_and_dialup  \\\n",
              "count                3123.000000              3123.000000   \n",
              "mean                 1394.305796                 5.422991   \n",
              "std                   741.175944                 9.220730   \n",
              "min                     0.000000                 0.000000   \n",
              "25%                   927.000000                 0.000000   \n",
              "50%                  1291.000000                 0.000000   \n",
              "75%                  1734.000000                 9.000000   \n",
              "max                 11646.000000                77.000000   \n",
              "\n",
              "       nhh_computer_and_broadband  nhh_computer_no_internet  nhh_no_computer  \\\n",
              "count                 3123.000000               3123.000000      3123.000000   \n",
              "mean                  1272.642331                116.240474       157.450208   \n",
              "std                    707.715562                 90.546020       108.225979   \n",
              "min                      0.000000                  0.000000         0.000000   \n",
              "25%                    821.500000                 56.000000        78.000000   \n",
              "50%                   1174.000000                 96.000000       141.000000   \n",
              "75%                   1606.500000                155.000000       211.000000   \n",
              "max                  11030.000000               1431.000000       945.000000   \n",
              "\n",
              "            den_age   n_children  n_children_computer  \\\n",
              "count   3123.000000  3123.000000          3123.000000   \n",
              "mean    3994.042267   924.236631           899.917707   \n",
              "std     1999.898186   572.032757           568.291095   \n",
              "min        0.000000     0.000000             0.000000   \n",
              "25%     2641.500000   553.000000           537.000000   \n",
              "50%     3735.000000   833.000000           806.000000   \n",
              "75%     4965.000000  1171.500000          1144.500000   \n",
              "max    28855.000000  8998.000000          8998.000000   \n",
              "\n",
              "       n_children_computer_and_dialup  n_children_computer_and_broadband  \\\n",
              "count                     3123.000000                        3123.000000   \n",
              "mean                         1.065962                         842.127121   \n",
              "std                          6.939161                         553.018746   \n",
              "min                          0.000000                           0.000000   \n",
              "25%                          0.000000                         489.000000   \n",
              "50%                          0.000000                         743.000000   \n",
              "75%                          0.000000                        1085.000000   \n",
              "max                        196.000000                        8989.000000   \n",
              "\n",
              "       n_children_computer_no_internet  n_children_no_computer  state_lkp  \n",
              "count                      3123.000000             3123.000000     3123.0  \n",
              "mean                         56.724624               24.318924       17.0  \n",
              "std                          79.491556               49.936912        0.0  \n",
              "min                           0.000000                0.000000       17.0  \n",
              "25%                           0.000000                0.000000       17.0  \n",
              "50%                          28.000000                0.000000       17.0  \n",
              "75%                          78.000000               28.000000       17.0  \n",
              "max                         800.000000              703.000000       17.0  "
            ]
          },
          "metadata": {},
          "execution_count": 14
        }
      ]
    },
    {
      "cell_type": "code",
      "metadata": {
        "id": "a7b90482",
        "colab": {
          "base_uri": "https://localhost:8080/"
        },
        "outputId": "bb5f594f-1348-4a96-fee5-b91cd218248e"
      },
      "source": [
        "df_acs.columns"
      ],
      "id": "a7b90482",
      "execution_count": 15,
      "outputs": [
        {
          "output_type": "execute_result",
          "data": {
            "text/plain": [
              "Index(['state', 'county', 'tract', 'geoid', 'f_broadband', 'f_computer',\n",
              "       'f_ba', 'f_black', 'f_hispanic', 'log_mhi', 'mhi', 'population',\n",
              "       'households', 'broadband', 'computer', 'black', 'hispanic', 'mhi.1',\n",
              "       'ba', 'den_computers', 'n_computer', 'n_broadband', 'den_black',\n",
              "       'n_black', 'den_hispanic', 'n_hispanic', 'den_ba', 'n_ba',\n",
              "       'nhh_computer', 'nhh_broadband', 'nhh_computer_any_internet',\n",
              "       'nhh_computer_and_dialup', 'nhh_computer_and_broadband',\n",
              "       'nhh_computer_no_internet', 'nhh_no_computer', 'den_age', 'n_children',\n",
              "       'n_children_computer', 'n_children_computer_and_dialup',\n",
              "       'n_children_computer_and_broadband', 'n_children_computer_no_internet',\n",
              "       'n_children_no_computer', 'state_lkp'],\n",
              "      dtype='object')"
            ]
          },
          "metadata": {},
          "execution_count": 15
        }
      ]
    },
    {
      "cell_type": "markdown",
      "metadata": {
        "id": "44502365"
      },
      "source": [
        "Looking at the shape, columns and the summary statistics, we see a dataset that is entirely quantitative. Of course, the first few columns are IDs, and not continuous variables. They can be recast as strings. \n",
        "This would allow us to lead some work on dimensionality reduction.\n",
        "Each row is a census tract. Most of the quantitative variables start with a prefix. It may be possible later to check for correlations in terms with the same prefix, especially where the prefixes 'nhh' and 'nh'.\n",
        "For now, we focus on the subset of non-ID variables."
      ],
      "id": "44502365"
    },
    {
      "cell_type": "code",
      "metadata": {
        "scrolled": true,
        "id": "04426d84"
      },
      "source": [
        "vars = df_acs[['f_broadband', 'f_computer',\n",
        "       'f_ba', 'f_black', 'f_hispanic', 'log_mhi', 'mhi', 'population',\n",
        "       'households', 'broadband', 'computer', 'black', 'hispanic', 'mhi.1',\n",
        "       'ba', 'den_computers', 'n_computer', 'n_broadband', 'den_black',\n",
        "       'n_black', 'den_hispanic', 'n_hispanic', 'den_ba', 'n_ba',\n",
        "       'nhh_computer', 'nhh_broadband', 'nhh_computer_any_internet',\n",
        "       'nhh_computer_and_dialup', 'nhh_computer_and_broadband',\n",
        "       'nhh_computer_no_internet', 'nhh_no_computer', 'den_age', 'n_children',\n",
        "       'n_children_computer', 'n_children_computer_and_dialup',\n",
        "       'n_children_computer_and_broadband', 'n_children_computer_no_internet',\n",
        "       'n_children_no_computer']]"
      ],
      "id": "04426d84",
      "execution_count": 16,
      "outputs": []
    },
    {
      "cell_type": "code",
      "metadata": {
        "scrolled": true,
        "id": "876301ae"
      },
      "source": [
        "# Some basic cleanup\n",
        "raw = StandardScaler().fit_transform(vars.dropna())"
      ],
      "id": "876301ae",
      "execution_count": 17,
      "outputs": []
    },
    {
      "cell_type": "code",
      "metadata": {
        "scrolled": true,
        "id": "643bcbf7",
        "colab": {
          "base_uri": "https://localhost:8080/"
        },
        "outputId": "bff34c88-0a46-4bd0-9f1e-47b3913ac69e"
      },
      "source": [
        "raw"
      ],
      "id": "643bcbf7",
      "execution_count": 18,
      "outputs": [
        {
          "output_type": "execute_result",
          "data": {
            "text/plain": [
              "array([[ 0.01930425, -0.34054995, -0.37223559, ...,  0.24028611,\n",
              "         0.11484295, -0.48793537],\n",
              "       [ 0.63172947,  0.6891298 , -0.2791258 , ..., -0.83840209,\n",
              "        -0.71561902, -0.48793537],\n",
              "       [ 0.48326275,  0.59789235, -0.48862283, ..., -0.62991613,\n",
              "        -0.42621561, -0.48793537],\n",
              "       ...,\n",
              "       [-0.16627914, -0.14504114,  0.27022199, ...,  0.86936982,\n",
              "         0.42941187,  0.8941038 ],\n",
              "       [ 0.04714176,  0.45451922,  0.00485907, ..., -0.02983917,\n",
              "        -0.0487329 , -0.48793537],\n",
              "       [-0.52816677, -0.2493125 , -0.414135  , ...,  0.00460634,\n",
              "         0.84464286, -0.14743297]])"
            ]
          },
          "metadata": {},
          "execution_count": 18
        }
      ]
    },
    {
      "cell_type": "code",
      "metadata": {
        "scrolled": true,
        "id": "d10994c5"
      },
      "source": [
        "#We will start with a high number of components, then use an elbow plot to check for the ideal number\n",
        "pca = PCA(n_components=6)\n",
        "x = pca.fit_transform(raw)"
      ],
      "id": "d10994c5",
      "execution_count": 19,
      "outputs": []
    },
    {
      "cell_type": "code",
      "metadata": {
        "scrolled": true,
        "id": "dd4ea0ac",
        "colab": {
          "base_uri": "https://localhost:8080/"
        },
        "outputId": "b9649a2f-6470-416f-cf22-d2696a11c7b0"
      },
      "source": [
        "pca"
      ],
      "id": "dd4ea0ac",
      "execution_count": 20,
      "outputs": [
        {
          "output_type": "execute_result",
          "data": {
            "text/plain": [
              "PCA(copy=True, iterated_power='auto', n_components=6, random_state=None,\n",
              "    svd_solver='auto', tol=0.0, whiten=False)"
            ]
          },
          "metadata": {},
          "execution_count": 20
        }
      ]
    },
    {
      "cell_type": "code",
      "metadata": {
        "scrolled": true,
        "id": "36379f11",
        "colab": {
          "base_uri": "https://localhost:8080/"
        },
        "outputId": "86d06e05-13df-4083-f5e3-b34984d6ce37"
      },
      "source": [
        "pca.components_"
      ],
      "id": "36379f11",
      "execution_count": 21,
      "outputs": [
        {
          "output_type": "execute_result",
          "data": {
            "text/plain": [
              "array([[ 0.1441313 ,  0.14004853,  0.10728138, -0.09533997, -0.00713473,\n",
              "         0.13696758,  0.12252745,  0.22282545,  0.22184645,  0.1441313 ,\n",
              "         0.14004853, -0.09533997, -0.00713473,  0.12252745,  0.10728138,\n",
              "         0.22184645,  0.22952696,  0.23267812,  0.22282545, -0.01923903,\n",
              "         0.22282545,  0.0558221 ,  0.22585014,  0.20218557,  0.22952696,\n",
              "         0.23267812,  0.22952696,  0.04055995,  0.23298904,  0.05241751,\n",
              "        -0.00139505,  0.22487025,  0.18594887,  0.1904288 ,  0.00570456,\n",
              "         0.19625575, -0.00487228, -0.0373698 ],\n",
              "       [-0.24834245, -0.22297277, -0.24504409,  0.15179675,  0.10180356,\n",
              "        -0.2490136 , -0.25693584,  0.12011014,  0.10492512, -0.24834245,\n",
              "        -0.22297277,  0.15179675,  0.10180356, -0.25693584, -0.24504409,\n",
              "         0.10492512,  0.06975732,  0.04665444,  0.12011014,  0.18058591,\n",
              "         0.12011014,  0.14187807,  0.10206207, -0.08730947,  0.06975732,\n",
              "         0.04665444,  0.06975732,  0.02338666,  0.04432415,  0.22116148,\n",
              "         0.26435464,  0.11920712,  0.131564  ,  0.1182092 ,  0.03135848,\n",
              "         0.09261323,  0.19729821,  0.1611082 ],\n",
              "       [-0.07334601, -0.06921935,  0.11620873,  0.24513648, -0.4610768 ,\n",
              "        -0.06415231, -0.02419675, -0.03093887,  0.10057567, -0.07334601,\n",
              "        -0.06921935,  0.24513648, -0.4610768 , -0.02419675,  0.11620873,\n",
              "         0.10057567,  0.08936118,  0.08209649, -0.03093887,  0.22371368,\n",
              "        -0.03093887, -0.4276415 ,  0.01847681,  0.12913864,  0.08936118,\n",
              "         0.08209649,  0.08936118,  0.02874411,  0.08109164,  0.09401914,\n",
              "         0.09974759, -0.03703352, -0.13461451, -0.13209674, -0.02424656,\n",
              "        -0.11960073, -0.10962929, -0.03833184],\n",
              "       [ 0.0951716 ,  0.1661041 ,  0.09844023,  0.4351203 ,  0.09860446,\n",
              "         0.02925525,  0.09658978,  0.02947899, -0.09212791,  0.0951716 ,\n",
              "         0.1661041 ,  0.4351203 ,  0.09860446,  0.09658978,  0.09844023,\n",
              "        -0.09212791, -0.05892   , -0.05679426,  0.02947899,  0.44899687,\n",
              "         0.02947899,  0.1164371 , -0.03810779,  0.03039887, -0.05892   ,\n",
              "        -0.05679426, -0.05892   , -0.28460383, -0.05628181, -0.01294435,\n",
              "        -0.24802261,  0.02769023,  0.1420997 ,  0.13845907, -0.08060768,\n",
              "         0.11993381,  0.16185342,  0.05161854],\n",
              "       [-0.13359191, -0.02289816,  0.29630778, -0.05654681,  0.212099  ,\n",
              "        -0.02425033,  0.00417645, -0.06534271,  0.08983907, -0.13359191,\n",
              "        -0.02289816, -0.05654681,  0.212099  ,  0.00417645,  0.29630778,\n",
              "         0.08983907,  0.08315986,  0.04475067, -0.06534271, -0.05401123,\n",
              "        -0.06534271,  0.13907292, -0.01754548,  0.22192769,  0.08315986,\n",
              "         0.04475067,  0.08315986, -0.34204255,  0.04401076,  0.3702115 ,\n",
              "         0.06629938, -0.06908735, -0.23908372, -0.24361745, -0.27071577,\n",
              "        -0.27350865,  0.18500066,  0.03412957],\n",
              "       [-0.12027297, -0.34153481,  0.13991091, -0.01718468, -0.03173232,\n",
              "         0.20837146,  0.30660581,  0.0366595 , -0.04248128, -0.12027297,\n",
              "        -0.34153481, -0.01718468, -0.03173232,  0.30660581,  0.13991091,\n",
              "        -0.04248128, -0.08695224, -0.05499344,  0.0366595 , -0.0344538 ,\n",
              "         0.0366595 , -0.01622873,  0.03816059,  0.11273386, -0.08695224,\n",
              "        -0.05499344, -0.08695224, -0.13515826, -0.05683298, -0.25252049,\n",
              "         0.29396732,  0.04510123,  0.15443906,  0.12098902, -0.14809661,\n",
              "         0.13793445, -0.08173963,  0.39084144]])"
            ]
          },
          "metadata": {},
          "execution_count": 21
        }
      ]
    },
    {
      "cell_type": "code",
      "metadata": {
        "id": "7009b74d",
        "colab": {
          "base_uri": "https://localhost:8080/",
          "height": 295
        },
        "outputId": "7de12e6d-225b-434f-c1fb-f5c496b7e435"
      },
      "source": [
        "# Plot Values\n",
        "# Drawn from: https://www.datasklr.com/principal-component-analysis-and-factor-analysis/principal-component-analysis\n",
        "PC_values = np.arange(pca.n_components_) + 1\n",
        "plt.plot(PC_values, pca.explained_variance_ratio_, 'ro-', linewidth=2)\n",
        "plt.title('Scree Plot')\n",
        "plt.xlabel('Principal Component')\n",
        "plt.ylabel('Proportion of Variance Explained')\n",
        "plt.show()"
      ],
      "id": "7009b74d",
      "execution_count": 22,
      "outputs": [
        {
          "output_type": "display_data",
          "data": {
            "image/png": "[encoded data removed]",
            "text/plain": [
              "<Figure size 432x288 with 1 Axes>"
            ]
          },
          "metadata": {
            "needs_background": "light"
          }
        }
      ]
    },
    {
      "cell_type": "markdown",
      "metadata": {
        "id": "7cb89762"
      },
      "source": [
        "The 'elbow' in the curve isn't as clear-cut as in many cases, but the diagram suggests that 2 or 3 may be sufficient. We can double check by exploring proportion of variance explained."
      ],
      "id": "7cb89762"
    },
    {
      "cell_type": "code",
      "metadata": {
        "id": "fb5f7036",
        "colab": {
          "base_uri": "https://localhost:8080/"
        },
        "outputId": "c7792419-25c3-4f62-928a-d6210a361f98"
      },
      "source": [
        "pca.explained_variance_"
      ],
      "id": "fb5f7036",
      "execution_count": 23,
      "outputs": [
        {
          "output_type": "execute_result",
          "data": {
            "text/plain": [
              "array([17.04719181,  7.68188417,  3.50946103,  2.07727299,  1.41363175,\n",
              "        1.28737065])"
            ]
          },
          "metadata": {},
          "execution_count": 23
        }
      ]
    },
    {
      "cell_type": "code",
      "metadata": {
        "id": "O6MEXnS9_zrc",
        "colab": {
          "base_uri": "https://localhost:8080/"
        },
        "outputId": "2a221104-a6e4-4245-9e9e-e2cef65daf68"
      },
      "source": [
        "# Cumulative proportion of variance (from PC1 to PC6)   \n",
        "np.cumsum(pca.explained_variance_)"
      ],
      "id": "O6MEXnS9_zrc",
      "execution_count": 24,
      "outputs": [
        {
          "output_type": "execute_result",
          "data": {
            "text/plain": [
              "array([17.04719181, 24.72907598, 28.23853702, 30.31581   , 31.72944175,\n",
              "       33.0168124 ])"
            ]
          },
          "metadata": {},
          "execution_count": 24
        }
      ]
    },
    {
      "cell_type": "code",
      "metadata": {
        "id": "rlwj9snzA7D9"
      },
      "source": [
        "# component loadings or weights (correlation coefficient between original variables and the component) \n",
        "# component loadings represents the elements of the eigenvector\n",
        "# the squared loadings within the PCs always sums to 1\n",
        "loadings = pca.components_\n",
        "num_pc = pca.n_features_"
      ],
      "id": "rlwj9snzA7D9",
      "execution_count": 25,
      "outputs": []
    },
    {
      "cell_type": "code",
      "metadata": {
        "id": "1o8vhPjGBQcj"
      },
      "source": [
        "pc_list = [\"PC\"+str(i) for i in list(range(1, num_pc+1))]"
      ],
      "id": "1o8vhPjGBQcj",
      "execution_count": 26,
      "outputs": []
    },
    {
      "cell_type": "code",
      "metadata": {
        "id": "Dfjk7VUABWxQ"
      },
      "source": [
        "loadings_df = pd.DataFrame.from_dict(dict(zip(pc_list, loadings)))"
      ],
      "id": "Dfjk7VUABWxQ",
      "execution_count": 27,
      "outputs": []
    },
    {
      "cell_type": "code",
      "metadata": {
        "id": "0AF1azPfByx6"
      },
      "source": [
        "#vars"
      ],
      "id": "0AF1azPfByx6",
      "execution_count": 28,
      "outputs": []
    },
    {
      "cell_type": "code",
      "metadata": {
        "id": "oOkrpehUBl4r"
      },
      "source": [
        "loadings_df['variable'] = vars.columns.values"
      ],
      "id": "oOkrpehUBl4r",
      "execution_count": 29,
      "outputs": []
    },
    {
      "cell_type": "code",
      "metadata": {
        "id": "9VDL7PTjCfnO"
      },
      "source": [
        "loadings_df = loadings_df.set_index('variable')"
      ],
      "id": "9VDL7PTjCfnO",
      "execution_count": 30,
      "outputs": []
    },
    {
      "cell_type": "code",
      "metadata": {
        "id": "2E2XxeGKCnfs",
        "colab": {
          "base_uri": "https://localhost:8080/",
          "height": 1000
        },
        "outputId": "60d8993e-3474-4cae-8200-d0f3d579aba0"
      },
      "source": [
        "loadings_df"
      ],
      "id": "2E2XxeGKCnfs",
      "execution_count": 31,
      "outputs": [
        {
          "output_type": "execute_result",
          "data": {
            "text/html": [
              "<div>\n",
              "<style scoped>\n",
              "    .dataframe tbody tr th:only-of-type {\n",
              "        vertical-align: middle;\n",
              "    }\n",
              "\n",
              "    .dataframe tbody tr th {\n",
              "        vertical-align: top;\n",
              "    }\n",
              "\n",
              "    .dataframe thead th {\n",
              "        text-align: right;\n",
              "    }\n",
              "</style>\n",
              "<table border=\"1\" class=\"dataframe\">\n",
              "  <thead>\n",
              "    <tr style=\"text-align: right;\">\n",
              "      <th></th>\n",
              "      <th>PC1</th>\n",
              "      <th>PC2</th>\n",
              "      <th>PC3</th>\n",
              "      <th>PC4</th>\n",
              "      <th>PC5</th>\n",
              "      <th>PC6</th>\n",
              "    </tr>\n",
              "    <tr>\n",
              "      <th>variable</th>\n",
              "      <th></th>\n",
              "      <th></th>\n",
              "      <th></th>\n",
              "      <th></th>\n",
              "      <th></th>\n",
              "      <th></th>\n",
              "    </tr>\n",
              "  </thead>\n",
              "  <tbody>\n",
              "    <tr>\n",
              "      <th>f_broadband</th>\n",
              "      <td>0.144131</td>\n",
              "      <td>-0.248342</td>\n",
              "      <td>-0.073346</td>\n",
              "      <td>0.095172</td>\n",
              "      <td>-0.133592</td>\n",
              "      <td>-0.120273</td>\n",
              "    </tr>\n",
              "    <tr>\n",
              "      <th>f_computer</th>\n",
              "      <td>0.140049</td>\n",
              "      <td>-0.222973</td>\n",
              "      <td>-0.069219</td>\n",
              "      <td>0.166104</td>\n",
              "      <td>-0.022898</td>\n",
              "      <td>-0.341535</td>\n",
              "    </tr>\n",
              "    <tr>\n",
              "      <th>f_ba</th>\n",
              "      <td>0.107281</td>\n",
              "      <td>-0.245044</td>\n",
              "      <td>0.116209</td>\n",
              "      <td>0.098440</td>\n",
              "      <td>0.296308</td>\n",
              "      <td>0.139911</td>\n",
              "    </tr>\n",
              "    <tr>\n",
              "      <th>f_black</th>\n",
              "      <td>-0.095340</td>\n",
              "      <td>0.151797</td>\n",
              "      <td>0.245136</td>\n",
              "      <td>0.435120</td>\n",
              "      <td>-0.056547</td>\n",
              "      <td>-0.017185</td>\n",
              "    </tr>\n",
              "    <tr>\n",
              "      <th>f_hispanic</th>\n",
              "      <td>-0.007135</td>\n",
              "      <td>0.101804</td>\n",
              "      <td>-0.461077</td>\n",
              "      <td>0.098604</td>\n",
              "      <td>0.212099</td>\n",
              "      <td>-0.031732</td>\n",
              "    </tr>\n",
              "    <tr>\n",
              "      <th>log_mhi</th>\n",
              "      <td>0.136968</td>\n",
              "      <td>-0.249014</td>\n",
              "      <td>-0.064152</td>\n",
              "      <td>0.029255</td>\n",
              "      <td>-0.024250</td>\n",
              "      <td>0.208371</td>\n",
              "    </tr>\n",
              "    <tr>\n",
              "      <th>mhi</th>\n",
              "      <td>0.122527</td>\n",
              "      <td>-0.256936</td>\n",
              "      <td>-0.024197</td>\n",
              "      <td>0.096590</td>\n",
              "      <td>0.004176</td>\n",
              "      <td>0.306606</td>\n",
              "    </tr>\n",
              "    <tr>\n",
              "      <th>population</th>\n",
              "      <td>0.222825</td>\n",
              "      <td>0.120110</td>\n",
              "      <td>-0.030939</td>\n",
              "      <td>0.029479</td>\n",
              "      <td>-0.065343</td>\n",
              "      <td>0.036659</td>\n",
              "    </tr>\n",
              "    <tr>\n",
              "      <th>households</th>\n",
              "      <td>0.221846</td>\n",
              "      <td>0.104925</td>\n",
              "      <td>0.100576</td>\n",
              "      <td>-0.092128</td>\n",
              "      <td>0.089839</td>\n",
              "      <td>-0.042481</td>\n",
              "    </tr>\n",
              "    <tr>\n",
              "      <th>broadband</th>\n",
              "      <td>0.144131</td>\n",
              "      <td>-0.248342</td>\n",
              "      <td>-0.073346</td>\n",
              "      <td>0.095172</td>\n",
              "      <td>-0.133592</td>\n",
              "      <td>-0.120273</td>\n",
              "    </tr>\n",
              "    <tr>\n",
              "      <th>computer</th>\n",
              "      <td>0.140049</td>\n",
              "      <td>-0.222973</td>\n",
              "      <td>-0.069219</td>\n",
              "      <td>0.166104</td>\n",
              "      <td>-0.022898</td>\n",
              "      <td>-0.341535</td>\n",
              "    </tr>\n",
              "    <tr>\n",
              "      <th>black</th>\n",
              "      <td>-0.095340</td>\n",
              "      <td>0.151797</td>\n",
              "      <td>0.245136</td>\n",
              "      <td>0.435120</td>\n",
              "      <td>-0.056547</td>\n",
              "      <td>-0.017185</td>\n",
              "    </tr>\n",
              "    <tr>\n",
              "      <th>hispanic</th>\n",
              "      <td>-0.007135</td>\n",
              "      <td>0.101804</td>\n",
              "      <td>-0.461077</td>\n",
              "      <td>0.098604</td>\n",
              "      <td>0.212099</td>\n",
              "      <td>-0.031732</td>\n",
              "    </tr>\n",
              "    <tr>\n",
              "      <th>mhi.1</th>\n",
              "      <td>0.122527</td>\n",
              "      <td>-0.256936</td>\n",
              "      <td>-0.024197</td>\n",
              "      <td>0.096590</td>\n",
              "      <td>0.004176</td>\n",
              "      <td>0.306606</td>\n",
              "    </tr>\n",
              "    <tr>\n",
              "      <th>ba</th>\n",
              "      <td>0.107281</td>\n",
              "      <td>-0.245044</td>\n",
              "      <td>0.116209</td>\n",
              "      <td>0.098440</td>\n",
              "      <td>0.296308</td>\n",
              "      <td>0.139911</td>\n",
              "    </tr>\n",
              "    <tr>\n",
              "      <th>den_computers</th>\n",
              "      <td>0.221846</td>\n",
              "      <td>0.104925</td>\n",
              "      <td>0.100576</td>\n",
              "      <td>-0.092128</td>\n",
              "      <td>0.089839</td>\n",
              "      <td>-0.042481</td>\n",
              "    </tr>\n",
              "    <tr>\n",
              "      <th>n_computer</th>\n",
              "      <td>0.229527</td>\n",
              "      <td>0.069757</td>\n",
              "      <td>0.089361</td>\n",
              "      <td>-0.058920</td>\n",
              "      <td>0.083160</td>\n",
              "      <td>-0.086952</td>\n",
              "    </tr>\n",
              "    <tr>\n",
              "      <th>n_broadband</th>\n",
              "      <td>0.232678</td>\n",
              "      <td>0.046654</td>\n",
              "      <td>0.082096</td>\n",
              "      <td>-0.056794</td>\n",
              "      <td>0.044751</td>\n",
              "      <td>-0.054993</td>\n",
              "    </tr>\n",
              "    <tr>\n",
              "      <th>den_black</th>\n",
              "      <td>0.222825</td>\n",
              "      <td>0.120110</td>\n",
              "      <td>-0.030939</td>\n",
              "      <td>0.029479</td>\n",
              "      <td>-0.065343</td>\n",
              "      <td>0.036659</td>\n",
              "    </tr>\n",
              "    <tr>\n",
              "      <th>n_black</th>\n",
              "      <td>-0.019239</td>\n",
              "      <td>0.180586</td>\n",
              "      <td>0.223714</td>\n",
              "      <td>0.448997</td>\n",
              "      <td>-0.054011</td>\n",
              "      <td>-0.034454</td>\n",
              "    </tr>\n",
              "    <tr>\n",
              "      <th>den_hispanic</th>\n",
              "      <td>0.222825</td>\n",
              "      <td>0.120110</td>\n",
              "      <td>-0.030939</td>\n",
              "      <td>0.029479</td>\n",
              "      <td>-0.065343</td>\n",
              "      <td>0.036659</td>\n",
              "    </tr>\n",
              "    <tr>\n",
              "      <th>n_hispanic</th>\n",
              "      <td>0.055822</td>\n",
              "      <td>0.141878</td>\n",
              "      <td>-0.427641</td>\n",
              "      <td>0.116437</td>\n",
              "      <td>0.139073</td>\n",
              "      <td>-0.016229</td>\n",
              "    </tr>\n",
              "    <tr>\n",
              "      <th>den_ba</th>\n",
              "      <td>0.225850</td>\n",
              "      <td>0.102062</td>\n",
              "      <td>0.018477</td>\n",
              "      <td>-0.038108</td>\n",
              "      <td>-0.017545</td>\n",
              "      <td>0.038161</td>\n",
              "    </tr>\n",
              "    <tr>\n",
              "      <th>n_ba</th>\n",
              "      <td>0.202186</td>\n",
              "      <td>-0.087309</td>\n",
              "      <td>0.129139</td>\n",
              "      <td>0.030399</td>\n",
              "      <td>0.221928</td>\n",
              "      <td>0.112734</td>\n",
              "    </tr>\n",
              "    <tr>\n",
              "      <th>nhh_computer</th>\n",
              "      <td>0.229527</td>\n",
              "      <td>0.069757</td>\n",
              "      <td>0.089361</td>\n",
              "      <td>-0.058920</td>\n",
              "      <td>0.083160</td>\n",
              "      <td>-0.086952</td>\n",
              "    </tr>\n",
              "    <tr>\n",
              "      <th>nhh_broadband</th>\n",
              "      <td>0.232678</td>\n",
              "      <td>0.046654</td>\n",
              "      <td>0.082096</td>\n",
              "      <td>-0.056794</td>\n",
              "      <td>0.044751</td>\n",
              "      <td>-0.054993</td>\n",
              "    </tr>\n",
              "    <tr>\n",
              "      <th>nhh_computer_any_internet</th>\n",
              "      <td>0.229527</td>\n",
              "      <td>0.069757</td>\n",
              "      <td>0.089361</td>\n",
              "      <td>-0.058920</td>\n",
              "      <td>0.083160</td>\n",
              "      <td>-0.086952</td>\n",
              "    </tr>\n",
              "    <tr>\n",
              "      <th>nhh_computer_and_dialup</th>\n",
              "      <td>0.040560</td>\n",
              "      <td>0.023387</td>\n",
              "      <td>0.028744</td>\n",
              "      <td>-0.284604</td>\n",
              "      <td>-0.342043</td>\n",
              "      <td>-0.135158</td>\n",
              "    </tr>\n",
              "    <tr>\n",
              "      <th>nhh_computer_and_broadband</th>\n",
              "      <td>0.232989</td>\n",
              "      <td>0.044324</td>\n",
              "      <td>0.081092</td>\n",
              "      <td>-0.056282</td>\n",
              "      <td>0.044011</td>\n",
              "      <td>-0.056833</td>\n",
              "    </tr>\n",
              "    <tr>\n",
              "      <th>nhh_computer_no_internet</th>\n",
              "      <td>0.052418</td>\n",
              "      <td>0.221161</td>\n",
              "      <td>0.094019</td>\n",
              "      <td>-0.012944</td>\n",
              "      <td>0.370211</td>\n",
              "      <td>-0.252520</td>\n",
              "    </tr>\n",
              "    <tr>\n",
              "      <th>nhh_no_computer</th>\n",
              "      <td>-0.001395</td>\n",
              "      <td>0.264355</td>\n",
              "      <td>0.099748</td>\n",
              "      <td>-0.248023</td>\n",
              "      <td>0.066299</td>\n",
              "      <td>0.293967</td>\n",
              "    </tr>\n",
              "    <tr>\n",
              "      <th>den_age</th>\n",
              "      <td>0.224870</td>\n",
              "      <td>0.119207</td>\n",
              "      <td>-0.037034</td>\n",
              "      <td>0.027690</td>\n",
              "      <td>-0.069087</td>\n",
              "      <td>0.045101</td>\n",
              "    </tr>\n",
              "    <tr>\n",
              "      <th>n_children</th>\n",
              "      <td>0.185949</td>\n",
              "      <td>0.131564</td>\n",
              "      <td>-0.134615</td>\n",
              "      <td>0.142100</td>\n",
              "      <td>-0.239084</td>\n",
              "      <td>0.154439</td>\n",
              "    </tr>\n",
              "    <tr>\n",
              "      <th>n_children_computer</th>\n",
              "      <td>0.190429</td>\n",
              "      <td>0.118209</td>\n",
              "      <td>-0.132097</td>\n",
              "      <td>0.138459</td>\n",
              "      <td>-0.243617</td>\n",
              "      <td>0.120989</td>\n",
              "    </tr>\n",
              "    <tr>\n",
              "      <th>n_children_computer_and_dialup</th>\n",
              "      <td>0.005705</td>\n",
              "      <td>0.031358</td>\n",
              "      <td>-0.024247</td>\n",
              "      <td>-0.080608</td>\n",
              "      <td>-0.270716</td>\n",
              "      <td>-0.148097</td>\n",
              "    </tr>\n",
              "    <tr>\n",
              "      <th>n_children_computer_and_broadband</th>\n",
              "      <td>0.196256</td>\n",
              "      <td>0.092613</td>\n",
              "      <td>-0.119601</td>\n",
              "      <td>0.119934</td>\n",
              "      <td>-0.273509</td>\n",
              "      <td>0.137934</td>\n",
              "    </tr>\n",
              "    <tr>\n",
              "      <th>n_children_computer_no_internet</th>\n",
              "      <td>-0.004872</td>\n",
              "      <td>0.197298</td>\n",
              "      <td>-0.109629</td>\n",
              "      <td>0.161853</td>\n",
              "      <td>0.185001</td>\n",
              "      <td>-0.081740</td>\n",
              "    </tr>\n",
              "    <tr>\n",
              "      <th>n_children_no_computer</th>\n",
              "      <td>-0.037370</td>\n",
              "      <td>0.161108</td>\n",
              "      <td>-0.038332</td>\n",
              "      <td>0.051619</td>\n",
              "      <td>0.034130</td>\n",
              "      <td>0.390841</td>\n",
              "    </tr>\n",
              "  </tbody>\n",
              "</table>\n",
              "</div>"
            ],
            "text/plain": [
              "                                        PC1       PC2       PC3       PC4  \\\n",
              "variable                                                                    \n",
              "f_broadband                        0.144131 -0.248342 -0.073346  0.095172   \n",
              "f_computer                         0.140049 -0.222973 -0.069219  0.166104   \n",
              "f_ba                               0.107281 -0.245044  0.116209  0.098440   \n",
              "f_black                           -0.095340  0.151797  0.245136  0.435120   \n",
              "f_hispanic                        -0.007135  0.101804 -0.461077  0.098604   \n",
              "log_mhi                            0.136968 -0.249014 -0.064152  0.029255   \n",
              "mhi                                0.122527 -0.256936 -0.024197  0.096590   \n",
              "population                         0.222825  0.120110 -0.030939  0.029479   \n",
              "households                         0.221846  0.104925  0.100576 -0.092128   \n",
              "broadband                          0.144131 -0.248342 -0.073346  0.095172   \n",
              "computer                           0.140049 -0.222973 -0.069219  0.166104   \n",
              "black                             -0.095340  0.151797  0.245136  0.435120   \n",
              "hispanic                          -0.007135  0.101804 -0.461077  0.098604   \n",
              "mhi.1                              0.122527 -0.256936 -0.024197  0.096590   \n",
              "ba                                 0.107281 -0.245044  0.116209  0.098440   \n",
              "den_computers                      0.221846  0.104925  0.100576 -0.092128   \n",
              "n_computer                         0.229527  0.069757  0.089361 -0.058920   \n",
              "n_broadband                        0.232678  0.046654  0.082096 -0.056794   \n",
              "den_black                          0.222825  0.120110 -0.030939  0.029479   \n",
              "n_black                           -0.019239  0.180586  0.223714  0.448997   \n",
              "den_hispanic                       0.222825  0.120110 -0.030939  0.029479   \n",
              "n_hispanic                         0.055822  0.141878 -0.427641  0.116437   \n",
              "den_ba                             0.225850  0.102062  0.018477 -0.038108   \n",
              "n_ba                               0.202186 -0.087309  0.129139  0.030399   \n",
              "nhh_computer                       0.229527  0.069757  0.089361 -0.058920   \n",
              "nhh_broadband                      0.232678  0.046654  0.082096 -0.056794   \n",
              "nhh_computer_any_internet          0.229527  0.069757  0.089361 -0.058920   \n",
              "nhh_computer_and_dialup            0.040560  0.023387  0.028744 -0.284604   \n",
              "nhh_computer_and_broadband         0.232989  0.044324  0.081092 -0.056282   \n",
              "nhh_computer_no_internet           0.052418  0.221161  0.094019 -0.012944   \n",
              "nhh_no_computer                   -0.001395  0.264355  0.099748 -0.248023   \n",
              "den_age                            0.224870  0.119207 -0.037034  0.027690   \n",
              "n_children                         0.185949  0.131564 -0.134615  0.142100   \n",
              "n_children_computer                0.190429  0.118209 -0.132097  0.138459   \n",
              "n_children_computer_and_dialup     0.005705  0.031358 -0.024247 -0.080608   \n",
              "n_children_computer_and_broadband  0.196256  0.092613 -0.119601  0.119934   \n",
              "n_children_computer_no_internet   -0.004872  0.197298 -0.109629  0.161853   \n",
              "n_children_no_computer            -0.037370  0.161108 -0.038332  0.051619   \n",
              "\n",
              "                                        PC5       PC6  \n",
              "variable                                               \n",
              "f_broadband                       -0.133592 -0.120273  \n",
              "f_computer                        -0.022898 -0.341535  \n",
              "f_ba                               0.296308  0.139911  \n",
              "f_black                           -0.056547 -0.017185  \n",
              "f_hispanic                         0.212099 -0.031732  \n",
              "log_mhi                           -0.024250  0.208371  \n",
              "mhi                                0.004176  0.306606  \n",
              "population                        -0.065343  0.036659  \n",
              "households                         0.089839 -0.042481  \n",
              "broadband                         -0.133592 -0.120273  \n",
              "computer                          -0.022898 -0.341535  \n",
              "black                             -0.056547 -0.017185  \n",
              "hispanic                           0.212099 -0.031732  \n",
              "mhi.1                              0.004176  0.306606  \n",
              "ba                                 0.296308  0.139911  \n",
              "den_computers                      0.089839 -0.042481  \n",
              "n_computer                         0.083160 -0.086952  \n",
              "n_broadband                        0.044751 -0.054993  \n",
              "den_black                         -0.065343  0.036659  \n",
              "n_black                           -0.054011 -0.034454  \n",
              "den_hispanic                      -0.065343  0.036659  \n",
              "n_hispanic                         0.139073 -0.016229  \n",
              "den_ba                            -0.017545  0.038161  \n",
              "n_ba                               0.221928  0.112734  \n",
              "nhh_computer                       0.083160 -0.086952  \n",
              "nhh_broadband                      0.044751 -0.054993  \n",
              "nhh_computer_any_internet          0.083160 -0.086952  \n",
              "nhh_computer_and_dialup           -0.342043 -0.135158  \n",
              "nhh_computer_and_broadband         0.044011 -0.056833  \n",
              "nhh_computer_no_internet           0.370211 -0.252520  \n",
              "nhh_no_computer                    0.066299  0.293967  \n",
              "den_age                           -0.069087  0.045101  \n",
              "n_children                        -0.239084  0.154439  \n",
              "n_children_computer               -0.243617  0.120989  \n",
              "n_children_computer_and_dialup    -0.270716 -0.148097  \n",
              "n_children_computer_and_broadband -0.273509  0.137934  \n",
              "n_children_computer_no_internet    0.185001 -0.081740  \n",
              "n_children_no_computer             0.034130  0.390841  "
            ]
          },
          "metadata": {},
          "execution_count": 31
        }
      ]
    },
    {
      "cell_type": "markdown",
      "metadata": {
        "id": "p0dNZ064CwFe"
      },
      "source": [
        "positive and negative values in component loadings reflects the positive and negative correlation of the variables with the PCs."
      ],
      "id": "p0dNZ064CwFe"
    },
    {
      "cell_type": "markdown",
      "metadata": {
        "id": "1qOFBzxXDAUI"
      },
      "source": [
        "Co-relation Matrix"
      ],
      "id": "1qOFBzxXDAUI"
    },
    {
      "cell_type": "code",
      "metadata": {
        "id": "jRwZvyYcCvx2",
        "colab": {
          "base_uri": "https://localhost:8080/",
          "height": 268
        },
        "outputId": "0e8e0bf1-985b-49f0-8913-4de96117e574"
      },
      "source": [
        "# get correlation matrix plot for loadings\n",
        "import seaborn as sns\n",
        "import matplotlib.pyplot as plt\n",
        "ax = sns.heatmap(loadings_df, annot=True, cmap='Spectral')\n",
        "plt.show()"
      ],
      "id": "jRwZvyYcCvx2",
      "execution_count": 32,
      "outputs": [
        {
          "output_type": "display_data",
          "data": {
            "image/png": "[encoded data removed]",
            "text/plain": [
              "<Figure size 432x288 with 2 Axes>"
            ]
          },
          "metadata": {
            "needs_background": "light"
          }
        }
      ]
    },
    {
      "cell_type": "markdown",
      "metadata": {
        "id": "6kCGG7e-A28-"
      },
      "source": [
        "### Scree Plot"
      ],
      "id": "6kCGG7e-A28-"
    },
    {
      "cell_type": "code",
      "metadata": {
        "id": "6c2fff42"
      },
      "source": [
        "pc_list = ['PC'+str(i) for i in range(1,7)]"
      ],
      "id": "6c2fff42",
      "execution_count": 33,
      "outputs": []
    },
    {
      "cell_type": "code",
      "metadata": {
        "id": "REgiPPX8AiSD",
        "colab": {
          "base_uri": "https://localhost:8080/"
        },
        "outputId": "e064313c-596c-4de8-ac0b-7a6d005497c1"
      },
      "source": [
        "pc_list"
      ],
      "id": "REgiPPX8AiSD",
      "execution_count": 34,
      "outputs": [
        {
          "output_type": "execute_result",
          "data": {
            "text/plain": [
              "['PC1', 'PC2', 'PC3', 'PC4', 'PC5', 'PC6']"
            ]
          },
          "metadata": {},
          "execution_count": 34
        }
      ]
    },
    {
      "cell_type": "code",
      "metadata": {
        "id": "763df4dd",
        "outputId": "f45b048c-33a7-47c5-951e-292479ef641d",
        "colab": {
          "base_uri": "https://localhost:8080/"
        }
      },
      "source": [
        "# idea for this viz came from: https://www.reneshbedre.com/blog/principal-component-analysis.html\n",
        "from bioinfokit.visuz import cluster\n",
        "cluster.screeplot(obj=[pc_list, pca.explained_variance_ratio_])"
      ],
      "id": "763df4dd",
      "execution_count": 35,
      "outputs": [
        {
          "output_type": "stream",
          "name": "stderr",
          "text": [
            "findfont: Font family ['Arial'] not found. Falling back to DejaVu Sans.\n"
          ]
        }
      ]
    },
    {
      "cell_type": "markdown",
      "metadata": {
        "id": "82df21d1"
      },
      "source": [
        "From the plot, it seems like 2 PCs account for most of the variance\n",
        "The next task would be to see if these components are interpretable through their loadings. "
      ],
      "id": "82df21d1"
    },
    {
      "cell_type": "code",
      "metadata": {
        "id": "2dae18d5",
        "colab": {
          "base_uri": "https://localhost:8080/"
        },
        "outputId": "2cc59f73-8e66-4873-bef9-d0766cbaaf63"
      },
      "source": [
        "x.shape"
      ],
      "id": "2dae18d5",
      "execution_count": 36,
      "outputs": [
        {
          "output_type": "execute_result",
          "data": {
            "text/plain": [
              "(3110, 6)"
            ]
          },
          "metadata": {},
          "execution_count": 36
        }
      ]
    },
    {
      "cell_type": "code",
      "metadata": {
        "id": "cc7b2593",
        "colab": {
          "base_uri": "https://localhost:8080/"
        },
        "outputId": "51f3a1ae-2dbc-4b0d-dc93-4eea4dec0ef9"
      },
      "source": [
        "len(vars.columns)"
      ],
      "id": "cc7b2593",
      "execution_count": 37,
      "outputs": [
        {
          "output_type": "execute_result",
          "data": {
            "text/plain": [
              "38"
            ]
          },
          "metadata": {},
          "execution_count": 37
        }
      ]
    },
    {
      "cell_type": "code",
      "metadata": {
        "scrolled": true,
        "id": "a7156ffd"
      },
      "source": [
        "#So let's do the analysis again with just the 2 components\n",
        "pca = PCA(n_components=2)\n",
        "x = pca.fit_transform(raw)\n",
        "loadings = pd.DataFrame(pca.components_.T, \n",
        "                        columns=['PC1', 'PC2'], \n",
        "                        index=vars.columns)"
      ],
      "id": "a7156ffd",
      "execution_count": 38,
      "outputs": []
    },
    {
      "cell_type": "code",
      "metadata": {
        "scrolled": true,
        "id": "98d50f89",
        "colab": {
          "base_uri": "https://localhost:8080/",
          "height": 132
        },
        "outputId": "4e063c03-0f90-43a1-d746-e4e0c010e581"
      },
      "source": [
        "loadings.T"
      ],
      "id": "98d50f89",
      "execution_count": 39,
      "outputs": [
        {
          "output_type": "execute_result",
          "data": {
            "text/html": [
              "<div>\n",
              "<style scoped>\n",
              "    .dataframe tbody tr th:only-of-type {\n",
              "        vertical-align: middle;\n",
              "    }\n",
              "\n",
              "    .dataframe tbody tr th {\n",
              "        vertical-align: top;\n",
              "    }\n",
              "\n",
              "    .dataframe thead th {\n",
              "        text-align: right;\n",
              "    }\n",
              "</style>\n",
              "<table border=\"1\" class=\"dataframe\">\n",
              "  <thead>\n",
              "    <tr style=\"text-align: right;\">\n",
              "      <th></th>\n",
              "      <th>f_broadband</th>\n",
              "      <th>f_computer</th>\n",
              "      <th>f_ba</th>\n",
              "      <th>f_black</th>\n",
              "      <th>f_hispanic</th>\n",
              "      <th>log_mhi</th>\n",
              "      <th>mhi</th>\n",
              "      <th>population</th>\n",
              "      <th>households</th>\n",
              "      <th>broadband</th>\n",
              "      <th>computer</th>\n",
              "      <th>black</th>\n",
              "      <th>hispanic</th>\n",
              "      <th>mhi.1</th>\n",
              "      <th>ba</th>\n",
              "      <th>den_computers</th>\n",
              "      <th>n_computer</th>\n",
              "      <th>n_broadband</th>\n",
              "      <th>den_black</th>\n",
              "      <th>n_black</th>\n",
              "      <th>den_hispanic</th>\n",
              "      <th>n_hispanic</th>\n",
              "      <th>den_ba</th>\n",
              "      <th>n_ba</th>\n",
              "      <th>nhh_computer</th>\n",
              "      <th>nhh_broadband</th>\n",
              "      <th>nhh_computer_any_internet</th>\n",
              "      <th>nhh_computer_and_dialup</th>\n",
              "      <th>nhh_computer_and_broadband</th>\n",
              "      <th>nhh_computer_no_internet</th>\n",
              "      <th>nhh_no_computer</th>\n",
              "      <th>den_age</th>\n",
              "      <th>n_children</th>\n",
              "      <th>n_children_computer</th>\n",
              "      <th>n_children_computer_and_dialup</th>\n",
              "      <th>n_children_computer_and_broadband</th>\n",
              "      <th>n_children_computer_no_internet</th>\n",
              "      <th>n_children_no_computer</th>\n",
              "    </tr>\n",
              "  </thead>\n",
              "  <tbody>\n",
              "    <tr>\n",
              "      <th>PC1</th>\n",
              "      <td>0.144131</td>\n",
              "      <td>0.140049</td>\n",
              "      <td>0.107281</td>\n",
              "      <td>-0.095340</td>\n",
              "      <td>-0.007135</td>\n",
              "      <td>0.136968</td>\n",
              "      <td>0.122527</td>\n",
              "      <td>0.222825</td>\n",
              "      <td>0.221846</td>\n",
              "      <td>0.144131</td>\n",
              "      <td>0.140049</td>\n",
              "      <td>-0.095340</td>\n",
              "      <td>-0.007135</td>\n",
              "      <td>0.122527</td>\n",
              "      <td>0.107281</td>\n",
              "      <td>0.221846</td>\n",
              "      <td>0.229527</td>\n",
              "      <td>0.232678</td>\n",
              "      <td>0.222825</td>\n",
              "      <td>-0.019239</td>\n",
              "      <td>0.222825</td>\n",
              "      <td>0.055822</td>\n",
              "      <td>0.225850</td>\n",
              "      <td>0.202186</td>\n",
              "      <td>0.229527</td>\n",
              "      <td>0.232678</td>\n",
              "      <td>0.229527</td>\n",
              "      <td>0.040560</td>\n",
              "      <td>0.232989</td>\n",
              "      <td>0.052418</td>\n",
              "      <td>-0.001395</td>\n",
              "      <td>0.224870</td>\n",
              "      <td>0.185949</td>\n",
              "      <td>0.190429</td>\n",
              "      <td>0.005705</td>\n",
              "      <td>0.196256</td>\n",
              "      <td>-0.004872</td>\n",
              "      <td>-0.037370</td>\n",
              "    </tr>\n",
              "    <tr>\n",
              "      <th>PC2</th>\n",
              "      <td>-0.248342</td>\n",
              "      <td>-0.222973</td>\n",
              "      <td>-0.245044</td>\n",
              "      <td>0.151797</td>\n",
              "      <td>0.101804</td>\n",
              "      <td>-0.249014</td>\n",
              "      <td>-0.256936</td>\n",
              "      <td>0.120110</td>\n",
              "      <td>0.104925</td>\n",
              "      <td>-0.248342</td>\n",
              "      <td>-0.222973</td>\n",
              "      <td>0.151797</td>\n",
              "      <td>0.101804</td>\n",
              "      <td>-0.256936</td>\n",
              "      <td>-0.245044</td>\n",
              "      <td>0.104925</td>\n",
              "      <td>0.069757</td>\n",
              "      <td>0.046654</td>\n",
              "      <td>0.120110</td>\n",
              "      <td>0.180586</td>\n",
              "      <td>0.120110</td>\n",
              "      <td>0.141878</td>\n",
              "      <td>0.102062</td>\n",
              "      <td>-0.087309</td>\n",
              "      <td>0.069757</td>\n",
              "      <td>0.046654</td>\n",
              "      <td>0.069757</td>\n",
              "      <td>0.023387</td>\n",
              "      <td>0.044324</td>\n",
              "      <td>0.221161</td>\n",
              "      <td>0.264355</td>\n",
              "      <td>0.119207</td>\n",
              "      <td>0.131564</td>\n",
              "      <td>0.118209</td>\n",
              "      <td>0.031358</td>\n",
              "      <td>0.092613</td>\n",
              "      <td>0.197298</td>\n",
              "      <td>0.161108</td>\n",
              "    </tr>\n",
              "  </tbody>\n",
              "</table>\n",
              "</div>"
            ],
            "text/plain": [
              "     f_broadband  f_computer      f_ba   f_black  f_hispanic   log_mhi  \\\n",
              "PC1     0.144131    0.140049  0.107281 -0.095340   -0.007135  0.136968   \n",
              "PC2    -0.248342   -0.222973 -0.245044  0.151797    0.101804 -0.249014   \n",
              "\n",
              "          mhi  population  households  broadband  computer     black  \\\n",
              "PC1  0.122527    0.222825    0.221846   0.144131  0.140049 -0.095340   \n",
              "PC2 -0.256936    0.120110    0.104925  -0.248342 -0.222973  0.151797   \n",
              "\n",
              "     hispanic     mhi.1        ba  den_computers  n_computer  n_broadband  \\\n",
              "PC1 -0.007135  0.122527  0.107281       0.221846    0.229527     0.232678   \n",
              "PC2  0.101804 -0.256936 -0.245044       0.104925    0.069757     0.046654   \n",
              "\n",
              "     den_black   n_black  den_hispanic  n_hispanic    den_ba      n_ba  \\\n",
              "PC1   0.222825 -0.019239      0.222825    0.055822  0.225850  0.202186   \n",
              "PC2   0.120110  0.180586      0.120110    0.141878  0.102062 -0.087309   \n",
              "\n",
              "     nhh_computer  nhh_broadband  nhh_computer_any_internet  \\\n",
              "PC1      0.229527       0.232678                   0.229527   \n",
              "PC2      0.069757       0.046654                   0.069757   \n",
              "\n",
              "     nhh_computer_and_dialup  nhh_computer_and_broadband  \\\n",
              "PC1                 0.040560                    0.232989   \n",
              "PC2                 0.023387                    0.044324   \n",
              "\n",
              "     nhh_computer_no_internet  nhh_no_computer   den_age  n_children  \\\n",
              "PC1                  0.052418        -0.001395  0.224870    0.185949   \n",
              "PC2                  0.221161         0.264355  0.119207    0.131564   \n",
              "\n",
              "     n_children_computer  n_children_computer_and_dialup  \\\n",
              "PC1             0.190429                        0.005705   \n",
              "PC2             0.118209                        0.031358   \n",
              "\n",
              "     n_children_computer_and_broadband  n_children_computer_no_internet  \\\n",
              "PC1                           0.196256                        -0.004872   \n",
              "PC2                           0.092613                         0.197298   \n",
              "\n",
              "     n_children_no_computer  \n",
              "PC1               -0.037370  \n",
              "PC2                0.161108  "
            ]
          },
          "metadata": {},
          "execution_count": 39
        }
      ]
    },
    {
      "cell_type": "code",
      "metadata": {
        "id": "4c03ea75",
        "colab": {
          "base_uri": "https://localhost:8080/"
        },
        "outputId": "683a74fa-968c-4d99-d6f6-89a4a3d4d77c"
      },
      "source": [
        "print(loadings['PC1'].max(), loadings['PC1'].min())"
      ],
      "id": "4c03ea75",
      "execution_count": 40,
      "outputs": [
        {
          "output_type": "stream",
          "name": "stdout",
          "text": [
            "0.23298904301740644 -0.09533997299687316\n"
          ]
        }
      ]
    },
    {
      "cell_type": "code",
      "metadata": {
        "id": "19fb8159",
        "colab": {
          "base_uri": "https://localhost:8080/"
        },
        "outputId": "96d86121-a5bb-4ab7-f7b2-f34a4f4c62b5"
      },
      "source": [
        "print(loadings['PC2'].max(), loadings['PC2'].min())"
      ],
      "id": "19fb8159",
      "execution_count": 41,
      "outputs": [
        {
          "output_type": "stream",
          "name": "stdout",
          "text": [
            "0.26435463880575993 -0.2569358380696976\n"
          ]
        }
      ]
    },
    {
      "cell_type": "markdown",
      "metadata": {
        "id": "35a1aaf9"
      },
      "source": [
        "None of the loadings of principal components from the original variables are particularly strong. This makes interpretation challenging. Interestingly, PC2 has both a positive and negative loading of around 0.25.\n",
        "Visualization may help."
      ],
      "id": "35a1aaf9"
    },
    {
      "cell_type": "code",
      "metadata": {
        "id": "60d07dbb",
        "colab": {
          "base_uri": "https://localhost:8080/",
          "height": 268
        },
        "outputId": "a29f9bf5-ab9c-43e7-ab8e-85a296afbb9b"
      },
      "source": [
        "ax = sns.heatmap(loadings, annot=True, cmap='Spectral')\n",
        "plt.show()"
      ],
      "id": "60d07dbb",
      "execution_count": 42,
      "outputs": [
        {
          "output_type": "display_data",
          "data": {
            "image/png": "[encoded data removed]",
            "text/plain": [
              "<Figure size 432x288 with 2 Axes>"
            ]
          },
          "metadata": {
            "needs_background": "light"
          }
        }
      ]
    },
    {
      "cell_type": "markdown",
      "metadata": {
        "id": "e0c727e8"
      },
      "source": [
        "PC2 holds strong negative loadings with some demographic variables such as Monthly Household Income (mhi), number of families from hispanic and 'ba' backgrounds (not sure what 'ba' means). It also has a strong positive loadings correlation with the households that have no computers.\n",
        "\n",
        "PC1 seems closely linked to variables with the 'nhh' prefix (I believe that's number of households, but we need to check the data dictionary)"
      ],
      "id": "e0c727e8"
    },
    {
      "cell_type": "markdown",
      "metadata": {
        "id": "2af2ae23"
      },
      "source": [
        "# Part 2"
      ],
      "id": "2af2ae23"
    },
    {
      "cell_type": "code",
      "metadata": {
        "id": "66553a5a",
        "outputId": "af2fbf92-b7aa-4ebd-baf5-e7480237791b",
        "colab": {
          "base_uri": "https://localhost:8080/",
          "height": 554
        }
      },
      "source": [
        "illinois_map = gpd.read_file('il_spdf/il_spdf.shp')"
      ],
      "id": "66553a5a",
      "execution_count": 43,
      "outputs": [
        {
          "output_type": "error",
          "ename": "DriverError",
          "evalue": "ignored",
          "traceback": [
            "\u001b[0;31m---------------------------------------------------------------------------\u001b[0m",
            "\u001b[0;31mCPLE_OpenFailedError\u001b[0m                      Traceback (most recent call last)",
            "\u001b[0;32mfiona/_shim.pyx\u001b[0m in \u001b[0;36mfiona._shim.gdal_open_vector\u001b[0;34m()\u001b[0m\n",
            "\u001b[0;32mfiona/_err.pyx\u001b[0m in \u001b[0;36mfiona._err.exc_wrap_pointer\u001b[0;34m()\u001b[0m\n",
            "\u001b[0;31mCPLE_OpenFailedError\u001b[0m: il_spdf/il_spdf.shp: No such file or directory",
            "\nDuring handling of the above exception, another exception occurred:\n",
            "\u001b[0;31mDriverError\u001b[0m                               Traceback (most recent call last)",
            "\u001b[0;32m<ipython-input-43-910d48dadbd6>\u001b[0m in \u001b[0;36m<module>\u001b[0;34m()\u001b[0m\n\u001b[0;32m----> 1\u001b[0;31m \u001b[0millinois_map\u001b[0m \u001b[0;34m=\u001b[0m \u001b[0mgpd\u001b[0m\u001b[0;34m.\u001b[0m\u001b[0mread_file\u001b[0m\u001b[0;34m(\u001b[0m\u001b[0;34m'il_spdf/il_spdf.shp'\u001b[0m\u001b[0;34m)\u001b[0m\u001b[0;34m\u001b[0m\u001b[0;34m\u001b[0m\u001b[0m\n\u001b[0m",
            "\u001b[0;32m/usr/local/lib/python3.7/dist-packages/geopandas/io/file.py\u001b[0m in \u001b[0;36m_read_file\u001b[0;34m(filename, bbox, mask, rows, **kwargs)\u001b[0m\n\u001b[1;32m    158\u001b[0m \u001b[0;34m\u001b[0m\u001b[0m\n\u001b[1;32m    159\u001b[0m     \u001b[0;32mwith\u001b[0m \u001b[0mfiona_env\u001b[0m\u001b[0;34m(\u001b[0m\u001b[0;34m)\u001b[0m\u001b[0;34m:\u001b[0m\u001b[0;34m\u001b[0m\u001b[0;34m\u001b[0m\u001b[0m\n\u001b[0;32m--> 160\u001b[0;31m         \u001b[0;32mwith\u001b[0m \u001b[0mreader\u001b[0m\u001b[0;34m(\u001b[0m\u001b[0mpath_or_bytes\u001b[0m\u001b[0;34m,\u001b[0m \u001b[0;34m**\u001b[0m\u001b[0mkwargs\u001b[0m\u001b[0;34m)\u001b[0m \u001b[0;32mas\u001b[0m \u001b[0mfeatures\u001b[0m\u001b[0;34m:\u001b[0m\u001b[0;34m\u001b[0m\u001b[0;34m\u001b[0m\u001b[0m\n\u001b[0m\u001b[1;32m    161\u001b[0m \u001b[0;34m\u001b[0m\u001b[0m\n\u001b[1;32m    162\u001b[0m             \u001b[0;31m# In a future Fiona release the crs attribute of features will\u001b[0m\u001b[0;34m\u001b[0m\u001b[0;34m\u001b[0m\u001b[0;34m\u001b[0m\u001b[0m\n",
            "\u001b[0;32m/usr/local/lib/python3.7/dist-packages/fiona/env.py\u001b[0m in \u001b[0;36mwrapper\u001b[0;34m(*args, **kwargs)\u001b[0m\n\u001b[1;32m    406\u001b[0m     \u001b[0;32mdef\u001b[0m \u001b[0mwrapper\u001b[0m\u001b[0;34m(\u001b[0m\u001b[0;34m*\u001b[0m\u001b[0margs\u001b[0m\u001b[0;34m,\u001b[0m \u001b[0;34m**\u001b[0m\u001b[0mkwargs\u001b[0m\u001b[0;34m)\u001b[0m\u001b[0;34m:\u001b[0m\u001b[0;34m\u001b[0m\u001b[0;34m\u001b[0m\u001b[0m\n\u001b[1;32m    407\u001b[0m         \u001b[0;32mif\u001b[0m \u001b[0mlocal\u001b[0m\u001b[0;34m.\u001b[0m\u001b[0m_env\u001b[0m\u001b[0;34m:\u001b[0m\u001b[0;34m\u001b[0m\u001b[0;34m\u001b[0m\u001b[0m\n\u001b[0;32m--> 408\u001b[0;31m             \u001b[0;32mreturn\u001b[0m \u001b[0mf\u001b[0m\u001b[0;34m(\u001b[0m\u001b[0;34m*\u001b[0m\u001b[0margs\u001b[0m\u001b[0;34m,\u001b[0m \u001b[0;34m**\u001b[0m\u001b[0mkwargs\u001b[0m\u001b[0;34m)\u001b[0m\u001b[0;34m\u001b[0m\u001b[0;34m\u001b[0m\u001b[0m\n\u001b[0m\u001b[1;32m    409\u001b[0m         \u001b[0;32melse\u001b[0m\u001b[0;34m:\u001b[0m\u001b[0;34m\u001b[0m\u001b[0;34m\u001b[0m\u001b[0m\n\u001b[1;32m    410\u001b[0m             \u001b[0;32mif\u001b[0m \u001b[0misinstance\u001b[0m\u001b[0;34m(\u001b[0m\u001b[0margs\u001b[0m\u001b[0;34m[\u001b[0m\u001b[0;36m0\u001b[0m\u001b[0;34m]\u001b[0m\u001b[0;34m,\u001b[0m \u001b[0mstr\u001b[0m\u001b[0;34m)\u001b[0m\u001b[0;34m:\u001b[0m\u001b[0;34m\u001b[0m\u001b[0;34m\u001b[0m\u001b[0m\n",
            "\u001b[0;32m/usr/local/lib/python3.7/dist-packages/fiona/__init__.py\u001b[0m in \u001b[0;36mopen\u001b[0;34m(fp, mode, driver, schema, crs, encoding, layer, vfs, enabled_drivers, crs_wkt, **kwargs)\u001b[0m\n\u001b[1;32m    255\u001b[0m         \u001b[0;32mif\u001b[0m \u001b[0mmode\u001b[0m \u001b[0;32min\u001b[0m \u001b[0;34m(\u001b[0m\u001b[0;34m'a'\u001b[0m\u001b[0;34m,\u001b[0m \u001b[0;34m'r'\u001b[0m\u001b[0;34m)\u001b[0m\u001b[0;34m:\u001b[0m\u001b[0;34m\u001b[0m\u001b[0;34m\u001b[0m\u001b[0m\n\u001b[1;32m    256\u001b[0m             c = Collection(path, mode, driver=driver, encoding=encoding,\n\u001b[0;32m--> 257\u001b[0;31m                            layer=layer, enabled_drivers=enabled_drivers, **kwargs)\n\u001b[0m\u001b[1;32m    258\u001b[0m         \u001b[0;32melif\u001b[0m \u001b[0mmode\u001b[0m \u001b[0;34m==\u001b[0m \u001b[0;34m'w'\u001b[0m\u001b[0;34m:\u001b[0m\u001b[0;34m\u001b[0m\u001b[0;34m\u001b[0m\u001b[0m\n\u001b[1;32m    259\u001b[0m             \u001b[0;32mif\u001b[0m \u001b[0mschema\u001b[0m\u001b[0;34m:\u001b[0m\u001b[0;34m\u001b[0m\u001b[0;34m\u001b[0m\u001b[0m\n",
            "\u001b[0;32m/usr/local/lib/python3.7/dist-packages/fiona/collection.py\u001b[0m in \u001b[0;36m__init__\u001b[0;34m(self, path, mode, driver, schema, crs, encoding, layer, vsi, archive, enabled_drivers, crs_wkt, ignore_fields, ignore_geometry, **kwargs)\u001b[0m\n\u001b[1;32m    160\u001b[0m             \u001b[0;32mif\u001b[0m \u001b[0mself\u001b[0m\u001b[0;34m.\u001b[0m\u001b[0mmode\u001b[0m \u001b[0;34m==\u001b[0m \u001b[0;34m'r'\u001b[0m\u001b[0;34m:\u001b[0m\u001b[0;34m\u001b[0m\u001b[0;34m\u001b[0m\u001b[0m\n\u001b[1;32m    161\u001b[0m                 \u001b[0mself\u001b[0m\u001b[0;34m.\u001b[0m\u001b[0msession\u001b[0m \u001b[0;34m=\u001b[0m \u001b[0mSession\u001b[0m\u001b[0;34m(\u001b[0m\u001b[0;34m)\u001b[0m\u001b[0;34m\u001b[0m\u001b[0;34m\u001b[0m\u001b[0m\n\u001b[0;32m--> 162\u001b[0;31m                 \u001b[0mself\u001b[0m\u001b[0;34m.\u001b[0m\u001b[0msession\u001b[0m\u001b[0;34m.\u001b[0m\u001b[0mstart\u001b[0m\u001b[0;34m(\u001b[0m\u001b[0mself\u001b[0m\u001b[0;34m,\u001b[0m \u001b[0;34m**\u001b[0m\u001b[0mkwargs\u001b[0m\u001b[0;34m)\u001b[0m\u001b[0;34m\u001b[0m\u001b[0;34m\u001b[0m\u001b[0m\n\u001b[0m\u001b[1;32m    163\u001b[0m             \u001b[0;32melif\u001b[0m \u001b[0mself\u001b[0m\u001b[0;34m.\u001b[0m\u001b[0mmode\u001b[0m \u001b[0;32min\u001b[0m \u001b[0;34m(\u001b[0m\u001b[0;34m'a'\u001b[0m\u001b[0;34m,\u001b[0m \u001b[0;34m'w'\u001b[0m\u001b[0;34m)\u001b[0m\u001b[0;34m:\u001b[0m\u001b[0;34m\u001b[0m\u001b[0;34m\u001b[0m\u001b[0m\n\u001b[1;32m    164\u001b[0m                 \u001b[0mself\u001b[0m\u001b[0;34m.\u001b[0m\u001b[0msession\u001b[0m \u001b[0;34m=\u001b[0m \u001b[0mWritingSession\u001b[0m\u001b[0;34m(\u001b[0m\u001b[0;34m)\u001b[0m\u001b[0;34m\u001b[0m\u001b[0;34m\u001b[0m\u001b[0m\n",
            "\u001b[0;32mfiona/ogrext.pyx\u001b[0m in \u001b[0;36mfiona.ogrext.Session.start\u001b[0;34m()\u001b[0m\n",
            "\u001b[0;32mfiona/_shim.pyx\u001b[0m in \u001b[0;36mfiona._shim.gdal_open_vector\u001b[0;34m()\u001b[0m\n",
            "\u001b[0;31mDriverError\u001b[0m: il_spdf/il_spdf.shp: No such file or directory"
          ]
        }
      ]
    },
    {
      "cell_type": "code",
      "metadata": {
        "id": "b9aadb8e"
      },
      "source": [
        "\n",
        "illinois_map.plot()"
      ],
      "id": "b9aadb8e",
      "execution_count": null,
      "outputs": []
    },
    {
      "cell_type": "code",
      "metadata": {
        "id": "4fa7827c"
      },
      "source": [
        "#Using Coordinate Reference System\n",
        "illinois_map.to_crs(epsg=4326).plot()"
      ],
      "id": "4fa7827c",
      "execution_count": null,
      "outputs": []
    },
    {
      "cell_type": "code",
      "metadata": {
        "id": "cadd39c1"
      },
      "source": [
        "# Check for Lat Long in the other data\n",
        "df_fcc = pd.read_csv('fcc_477_census_tract_IL.csv')\n",
        "#flatten the tract\n",
        "df_fcc.columns\n",
        "#tract and download speeds"
      ],
      "id": "cadd39c1",
      "execution_count": null,
      "outputs": []
    },
    {
      "cell_type": "code",
      "metadata": {
        "id": "08536fea"
      },
      "source": [
        "df_fcc['tract']"
      ],
      "id": "08536fea",
      "execution_count": null,
      "outputs": []
    },
    {
      "cell_type": "markdown",
      "metadata": {
        "id": "acb7b821"
      },
      "source": [
        "So no, the FCC data doesn't have the required lat-long.\n"
      ],
      "id": "acb7b821"
    },
    {
      "cell_type": "code",
      "metadata": {
        "id": "59d37514"
      },
      "source": [
        "#Ookla\n",
        "df_ookla = pd.read_csv('ookla_combined_il.csv')\n",
        "df_ookla.columns"
      ],
      "id": "59d37514",
      "execution_count": null,
      "outputs": []
    },
    {
      "cell_type": "code",
      "metadata": {
        "scrolled": true,
        "id": "c0091146"
      },
      "source": [
        "df_ookla.head()"
      ],
      "id": "c0091146",
      "execution_count": null,
      "outputs": []
    },
    {
      "cell_type": "code",
      "metadata": {
        "id": "33d85629"
      },
      "source": [
        "df_ookla['tile']"
      ],
      "id": "33d85629",
      "execution_count": null,
      "outputs": []
    },
    {
      "cell_type": "code",
      "metadata": {
        "id": "1f0ee7a4"
      },
      "source": [
        "df_ookla['tile_length'] = df_ookla['tile'].apply(len)"
      ],
      "id": "1f0ee7a4",
      "execution_count": null,
      "outputs": []
    },
    {
      "cell_type": "code",
      "metadata": {
        "id": "d3de3f0a"
      },
      "source": [
        "df_ookla['tile_length']"
      ],
      "id": "d3de3f0a",
      "execution_count": null,
      "outputs": []
    },
    {
      "cell_type": "code",
      "metadata": {
        "id": "93eb0d0d"
      },
      "source": [
        "df_ookla['tile_length'].describe()"
      ],
      "id": "93eb0d0d",
      "execution_count": null,
      "outputs": []
    },
    {
      "cell_type": "markdown",
      "metadata": {
        "id": "f44ddcea"
      },
      "source": [
        "Phew, these tiles are quite complex. I'm best leaving this to Steven and other team members to handle on Tableau and R while I figure out the data overlaps."
      ],
      "id": "f44ddcea"
    },
    {
      "cell_type": "markdown",
      "metadata": {
        "id": "80006f40"
      },
      "source": [
        "# Part 3- Checking for FCC and Ookla Joins"
      ],
      "id": "80006f40"
    },
    {
      "cell_type": "code",
      "metadata": {
        "id": "622a8265"
      },
      "source": [
        "print(len(df_fcc), len(df_ookla))"
      ],
      "id": "622a8265",
      "execution_count": null,
      "outputs": []
    },
    {
      "cell_type": "markdown",
      "metadata": {
        "id": "3592a531"
      },
      "source": [
        "There are clearly huge differences in the number of quadkeys in Ookla vs the number of census tracts in Illinois. This suggests a close concentration of a huge number of quadkeys within census tracts. And that isn't even considering quadkeys that extends across more than one census tract."
      ],
      "id": "3592a531"
    },
    {
      "cell_type": "code",
      "metadata": {
        "id": "37e090e1"
      },
      "source": [
        "#Left Join Ookla\n",
        "left_join = df_ookla.merge(df_fcc, how='left', left_on='GEOID', right_on='tract')"
      ],
      "id": "37e090e1",
      "execution_count": null,
      "outputs": []
    },
    {
      "cell_type": "code",
      "metadata": {
        "scrolled": true,
        "id": "c506087e"
      },
      "source": [
        "left_join"
      ],
      "id": "c506087e",
      "execution_count": null,
      "outputs": []
    },
    {
      "cell_type": "code",
      "metadata": {
        "id": "9334d154"
      },
      "source": [
        "# Here, ookla is the dataframe on the left.\n",
        "missing_tract = left_join.loc[left_join['tract'].isnull()]\n",
        "missing_tract"
      ],
      "id": "9334d154",
      "execution_count": null,
      "outputs": []
    },
    {
      "cell_type": "markdown",
      "metadata": {
        "id": "694aeec7"
      },
      "source": [
        "Okay, so every single quadkey is in at least one tract. Let's try the reverse."
      ],
      "id": "694aeec7"
    },
    {
      "cell_type": "code",
      "metadata": {
        "id": "db1f3c04"
      },
      "source": [
        "right_join = df_ookla.merge(df_fcc, how='right', left_on='GEOID', right_on='tract')"
      ],
      "id": "db1f3c04",
      "execution_count": null,
      "outputs": []
    },
    {
      "cell_type": "code",
      "metadata": {
        "id": "ef93fc17"
      },
      "source": [
        "missing_geoid = right_join.loc[right_join['GEOID'].isnull()]\n",
        "missing_geoid"
      ],
      "id": "ef93fc17",
      "execution_count": null,
      "outputs": []
    },
    {
      "cell_type": "code",
      "metadata": {
        "id": "04a35b9c"
      },
      "source": [
        "tracts_missing_geoid = missing_geoid['tract']"
      ],
      "id": "04a35b9c",
      "execution_count": null,
      "outputs": []
    },
    {
      "cell_type": "markdown",
      "metadata": {
        "id": "83776791"
      },
      "source": [
        "All right, so there are 162 quadkeys that don't have a tract."
      ],
      "id": "83776791"
    },
    {
      "cell_type": "markdown",
      "metadata": {
        "id": "ab2a80f6"
      },
      "source": [
        "The next step would have been to plot against the shapefile and see which parts become blank. Steven is already taking care of that on Tableau. So I'll just compare the results of the right join with ACS and check for any patterns appearing with respect to our calculated principal components. "
      ],
      "id": "ab2a80f6"
    },
    {
      "cell_type": "markdown",
      "metadata": {
        "id": "e28be5b6"
      },
      "source": [
        "# PART 3: Combine PCA and Table Join"
      ],
      "id": "e28be5b6"
    },
    {
      "cell_type": "code",
      "metadata": {
        "id": "9e708e28"
      },
      "source": [
        "x.shape"
      ],
      "id": "9e708e28",
      "execution_count": null,
      "outputs": []
    },
    {
      "cell_type": "code",
      "metadata": {
        "id": "8dd13de9"
      },
      "source": [
        "df_pc = pd.DataFrame(x, columns=['PC1', 'PC2'])"
      ],
      "id": "8dd13de9",
      "execution_count": null,
      "outputs": []
    },
    {
      "cell_type": "code",
      "metadata": {
        "id": "e36077ab"
      },
      "source": [
        "df_pc"
      ],
      "id": "e36077ab",
      "execution_count": null,
      "outputs": []
    },
    {
      "cell_type": "code",
      "metadata": {
        "id": "77244a4d"
      },
      "source": [
        "df_acs.shape"
      ],
      "id": "77244a4d",
      "execution_count": null,
      "outputs": []
    },
    {
      "cell_type": "code",
      "metadata": {
        "id": "c8eded77"
      },
      "source": [
        "df_acs.dropna().shape"
      ],
      "id": "c8eded77",
      "execution_count": null,
      "outputs": []
    },
    {
      "cell_type": "code",
      "metadata": {
        "id": "f7ba3b70"
      },
      "source": [
        "#Now that the dimensions agree, we can combine the Principal Components into this dataframe\n",
        "df_acs.dropna(inplace=True)"
      ],
      "id": "f7ba3b70",
      "execution_count": null,
      "outputs": []
    },
    {
      "cell_type": "code",
      "metadata": {
        "id": "d4632b81"
      },
      "source": [
        "pc_acs = pd.concat([df_acs, df_pc], axis=1)"
      ],
      "id": "d4632b81",
      "execution_count": null,
      "outputs": []
    },
    {
      "cell_type": "code",
      "metadata": {
        "id": "c9010afa"
      },
      "source": [
        "pc_acs.shape"
      ],
      "id": "c9010afa",
      "execution_count": null,
      "outputs": []
    },
    {
      "cell_type": "code",
      "metadata": {
        "id": "855cc8d9"
      },
      "source": [
        "pc_acs['PC2']"
      ],
      "id": "855cc8d9",
      "execution_count": null,
      "outputs": []
    },
    {
      "cell_type": "code",
      "metadata": {
        "id": "2d75f2af"
      },
      "source": [
        "pc_acs.tail(13)"
      ],
      "id": "2d75f2af",
      "execution_count": null,
      "outputs": []
    },
    {
      "cell_type": "code",
      "metadata": {
        "id": "a0097c6a"
      },
      "source": [
        "final = pc_acs.dropna()[['geoid', 'PC1', 'PC2']]"
      ],
      "id": "a0097c6a",
      "execution_count": null,
      "outputs": []
    },
    {
      "cell_type": "code",
      "metadata": {
        "id": "bcc661cf"
      },
      "source": [
        "final.shape"
      ],
      "id": "bcc661cf",
      "execution_count": null,
      "outputs": []
    },
    {
      "cell_type": "code",
      "metadata": {
        "id": "ba3e1477"
      },
      "source": [
        "tracts_missing_geoid"
      ],
      "id": "ba3e1477",
      "execution_count": null,
      "outputs": []
    },
    {
      "cell_type": "code",
      "metadata": {
        "id": "1ad4c153"
      },
      "source": [
        "final_tracts = final.loc[final['geoid'].isin(tracts_missing_geoid)]\n",
        "final_tracts"
      ],
      "id": "1ad4c153",
      "execution_count": null,
      "outputs": []
    },
    {
      "cell_type": "code",
      "metadata": {
        "id": "870e907a"
      },
      "source": [
        "#Hmm this raises the question of what happened to 3 of the original 162 tracts\n",
        "final_tracts.describe()"
      ],
      "id": "870e907a",
      "execution_count": null,
      "outputs": []
    },
    {
      "cell_type": "code",
      "metadata": {
        "id": "24242cab"
      },
      "source": [
        "matched_tracts = pc_acs.loc[~pc_acs['geoid'].isin(tracts_missing_geoid)]\n",
        "matched_tracts.dropna(inplace=True)"
      ],
      "id": "24242cab",
      "execution_count": null,
      "outputs": []
    },
    {
      "cell_type": "code",
      "metadata": {
        "id": "c9d04b6f"
      },
      "source": [
        "matched_tracts[['PC1', 'PC2']].describe()"
      ],
      "id": "c9d04b6f",
      "execution_count": null,
      "outputs": []
    },
    {
      "cell_type": "markdown",
      "metadata": {
        "id": "0dc837cc"
      },
      "source": [
        "The values on the PC have switched signs between the matched and unmatched tracts. It might be worthwhile testing for a statistically significant difference."
      ],
      "id": "0dc837cc"
    },
    {
      "cell_type": "markdown",
      "metadata": {
        "id": "e4e86da5"
      },
      "source": [
        "Before we can run a formal statistical test, we need to ensure we meet the underlying assumptions. We will check for normality (or near-normality) of the distributions of the two components"
      ],
      "id": "e4e86da5"
    },
    {
      "cell_type": "code",
      "metadata": {
        "id": "7c3fc6c1"
      },
      "source": [
        "sns.histplot(data=matched_tracts, x=\"PC1\", kde=True)"
      ],
      "id": "7c3fc6c1",
      "execution_count": null,
      "outputs": []
    },
    {
      "cell_type": "markdown",
      "metadata": {
        "id": "e3c1de8e"
      },
      "source": [
        "This distribution is right-skewed with a thin tail. The outliers may be worth exploring, or removing from the analysis."
      ],
      "id": "e3c1de8e"
    },
    {
      "cell_type": "code",
      "metadata": {
        "id": "daadbd88"
      },
      "source": [
        "sns.histplot(data=matched_tracts, x=\"PC2\", kde=True)"
      ],
      "id": "daadbd88",
      "execution_count": null,
      "outputs": []
    },
    {
      "cell_type": "markdown",
      "metadata": {
        "id": "9735bc71"
      },
      "source": [
        "The plot seems more symmetric than the one above and seems to be approaching a standard normal distribution."
      ],
      "id": "9735bc71"
    },
    {
      "cell_type": "code",
      "metadata": {
        "id": "7e73e05f"
      },
      "source": [
        "sns.histplot(data=final_tracts, x=\"PC1\", kde=True)"
      ],
      "id": "7e73e05f",
      "execution_count": null,
      "outputs": []
    },
    {
      "cell_type": "code",
      "metadata": {
        "id": "22398f53"
      },
      "source": [
        "sns.histplot(data=matched_tracts, x=\"PC2\", kde=True)"
      ],
      "id": "22398f53",
      "execution_count": null,
      "outputs": []
    },
    {
      "cell_type": "markdown",
      "metadata": {
        "id": "db509c84"
      },
      "source": [
        "The same pattern appears for PC1 (skewed) vs PC2 (more symmetric).  There may be a need to run some transformations on PC1 before the t-test's validity in this context becomes sacrosanct. "
      ],
      "id": "db509c84"
    },
    {
      "cell_type": "code",
      "metadata": {
        "id": "c4de1ac9"
      },
      "source": [
        "from scipy.stats import ttest_ind\n",
        "print(ttest_ind(matched_tracts['PC1'], final_tracts['PC1']))"
      ],
      "id": "c4de1ac9",
      "execution_count": null,
      "outputs": []
    },
    {
      "cell_type": "code",
      "metadata": {
        "id": "0860664c"
      },
      "source": [
        "print(ttest_ind(matched_tracts['PC2'], final_tracts['PC2']))"
      ],
      "id": "0860664c",
      "execution_count": null,
      "outputs": []
    },
    {
      "cell_type": "markdown",
      "metadata": {
        "id": "c19468c8"
      },
      "source": [
        "The p value is highly statistically significant for both the t Tests. So the two groups are drawn from different populations along the two variables (principal components) of interest. \n",
        "So if we are able to now plot these tracts on Illinois maps, and develop an interpretation of the two principal components, we may be able to arrive at some metrics as required by part iii of this problem. "
      ],
      "id": "c19468c8"
    }
  ]
}